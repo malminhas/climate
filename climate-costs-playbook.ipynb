{
 "cells": [
  {
   "cell_type": "markdown",
   "id": "d9170230-88d9-4b8f-9d77-ec5ae958b564",
   "metadata": {},
   "source": [
    "# Climate Disaster Costs Playbook"
   ]
  },
  {
   "cell_type": "markdown",
   "id": "658f8eaf-fc7a-411b-95aa-05bebecb53ea",
   "metadata": {},
   "source": [
    "<p>\n",
    "Mal Minhas, v0.2<br>\n",
    "13.11.24\n",
    "</p>\n",
    "<p>\n",
    "<h4>Versions</h4>\n",
    "<ul>\n",
    "<li><b>v0.1</b>: 13.11.24. First version</li>\n",
    "<li><b>v0.2</b>: 13.11.24. Adjusted axes labels</li>\n",
    "</ul>\n",
    "</p>"
   ]
  },
  {
   "cell_type": "markdown",
   "id": "5720f8b1-e615-4842-8044-beba4550c8de",
   "metadata": {},
   "source": [
    "### 1. Introduction"
   ]
  },
  {
   "cell_type": "markdown",
   "id": "cf4f675e-f33d-48c2-9479-19ed2599a087",
   "metadata": {},
   "source": [
    "From Reuven Lerner's blog post [here](https://www.bambooweekly.com/bw-92-climate-disaster-costs):\n",
    "> COP 29 (https://unfccc.int/cop29/about-cop29), the annual UN conference on climate change, earlier on Monday of this week in Baku, Azerbaijan. Representatives from countries around the world have all come together to discuss progress toward reducing the rate of climate change, which is wreaking havoc all over the world.\n",
    "> \n",
    "> Not coincidentally, the International Chamber of Commerce, representing businesses from all over the world, released a report on November 7th called, \"The economist cost of extreme weather events.\" Their report, downloadable from https://iccwbo.org/news-publications/policies-reports/new-report-extreme-weather-events-cost-economy-2-trillion-over-the-last-decade/, shows that climate change isn't just a scientific or political issue, but a business one as well, one which is costing companies (and individuals and governments) quite a bit.\n",
    ">\n",
    "> This report was based, at least in part, on information at EM-DAT (https://www.emdat.be/), which dubs itself \"The international disaster database\"). To get their data, you'll need to register (for free) for the site, and then get it from https://public.emdat.be/data, choosing both classifications (ecological and technological) and all regions of the world, and from all years 2000 - 2024.\n",
    ">\n",
    "> The data dictionary for this information is at https://doc.emdat.be/docs/data-structure-and-content/emdat-public-table/ ."
   ]
  },
  {
   "cell_type": "markdown",
   "id": "2404b743-0148-4620-8837-4a5a3269ab89",
   "metadata": {},
   "source": [
    "### 2. Loading the raw dataset"
   ]
  },
  {
   "cell_type": "code",
   "execution_count": 1,
   "id": "394c52d4-f615-4a9f-8048-8ff0bd9935e3",
   "metadata": {},
   "outputs": [
    {
     "name": "stdout",
     "output_type": "stream",
     "text": [
      "CPU times: user 6.14 s, sys: 74 ms, total: 6.21 s\n",
      "Wall time: 4.6 s\n"
     ]
    }
   ],
   "source": [
    "%%time\n",
    "import pandas as pd\n",
    "\n",
    "data = \"public_emdat_custom_request_2024-11-13_72140c6b-ec8a-4332-85c2-43b5691660a8.xlsx\"\n",
    "df = pd.read_excel(data)"
   ]
  },
  {
   "cell_type": "markdown",
   "id": "d9395ec5-dd56-43f9-ad7d-6139a87b6a55",
   "metadata": {},
   "source": [
    "Let's have a look at the columns in here:"
   ]
  },
  {
   "cell_type": "code",
   "execution_count": 2,
   "id": "43b84c7c-4232-4106-8259-ef8d5ed0a736",
   "metadata": {},
   "outputs": [
    {
     "name": "stdout",
     "output_type": "stream",
     "text": [
      "['DisNo.', 'Historic', 'Classification Key', 'Disaster Group', 'Disaster Subgroup', 'Disaster Type', 'Disaster Subtype', 'External IDs', 'Event Name', 'ISO', 'Country', 'Subregion', 'Region', 'Location', 'Origin', 'Associated Types', 'OFDA/BHA Response', 'Appeal', 'Declaration', \"AID Contribution ('000 US$)\", 'Magnitude', 'Magnitude Scale', 'Latitude', 'Longitude', 'River Basin', 'Start Year', 'Start Month', 'Start Day', 'End Year', 'End Month', 'End Day', 'Total Deaths', 'No. Injured', 'No. Affected', 'No. Homeless', 'Total Affected', \"Reconstruction Costs ('000 US$)\", \"Reconstruction Costs, Adjusted ('000 US$)\", \"Insured Damage ('000 US$)\", \"Insured Damage, Adjusted ('000 US$)\", \"Total Damage ('000 US$)\", \"Total Damage, Adjusted ('000 US$)\", 'CPI', 'Admin Units', 'Entry Date', 'Last Update']\n"
     ]
    }
   ],
   "source": [
    "print(list(df.columns))"
   ]
  },
  {
   "cell_type": "code",
   "execution_count": 3,
   "id": "1e90c7c9-ee96-485d-804b-80b8ac7188f4",
   "metadata": {},
   "outputs": [
    {
     "name": "stdout",
     "output_type": "stream",
     "text": [
      "[dtype('O'), dtype('O'), dtype('O'), dtype('O'), dtype('O'), dtype('O'), dtype('O'), dtype('O'), dtype('O'), dtype('O'), dtype('O'), dtype('O'), dtype('O'), dtype('O'), dtype('O'), dtype('O'), dtype('O'), dtype('O'), dtype('O'), dtype('float64'), dtype('float64'), dtype('O'), dtype('float64'), dtype('float64'), dtype('O'), dtype('int64'), dtype('float64'), dtype('float64'), dtype('int64'), dtype('float64'), dtype('float64'), dtype('float64'), dtype('float64'), dtype('float64'), dtype('float64'), dtype('float64'), dtype('float64'), dtype('float64'), dtype('float64'), dtype('float64'), dtype('float64'), dtype('float64'), dtype('float64'), dtype('O'), dtype('O'), dtype('O')]\n"
     ]
    }
   ],
   "source": [
    "print(list(df.dtypes))"
   ]
  },
  {
   "cell_type": "markdown",
   "id": "8a534944-de6a-4dbc-af29-f385bd43d31c",
   "metadata": {},
   "source": [
    "### 3. Analysing climatological disasters"
   ]
  },
  {
   "cell_type": "markdown",
   "id": "b889f697-6547-4d75-bde9-1c5d82c7c7bb",
   "metadata": {},
   "source": [
    "First question:\n",
    "> Download the data. Set the index to use region, subregion, and country.\n",
    "How much in total economic damage, in adjusted dollars, did we see for climatalogical disasters (see \"Disaster Subgroup\") in the last decade (see \"Start Year\")?"
   ]
  },
  {
   "cell_type": "code",
   "execution_count": 4,
   "id": "e7ac3e08-812e-4210-a107-7b8d0ba3c84d",
   "metadata": {},
   "outputs": [],
   "source": [
    "# Step 1: Set the index to Region, Subregion, and Country\n",
    "df.set_index(['Region', 'Subregion', 'Country'], inplace=True)"
   ]
  },
  {
   "cell_type": "markdown",
   "id": "b5544d10-189a-4424-b053-958e1fa4c4b2",
   "metadata": {},
   "source": [
    "Now we are done with `df` let's create `getClimatologicalDisasters` filter which contains just the last `nyears` of data and those rows that have a `Climatological` label in `Disaster Subgroup`:"
   ]
  },
  {
   "cell_type": "code",
   "execution_count": 5,
   "id": "15926e5e-eaba-4c15-8315-d64a0faeb4ff",
   "metadata": {},
   "outputs": [
    {
     "name": "stdout",
     "output_type": "stream",
     "text": [
      "Total Adjusted damage for climate related disasters in the last 10 years = $248.72 billion\n"
     ]
    }
   ],
   "source": [
    "# Step 2: Filter for climatological disasters and records from the last decade\n",
    "def get_climatological_disasters(nyears):\n",
    "    current_year = pd.Timestamp.now().year\n",
    "    start = current_year - nyears\n",
    "    climatological_df = df[\n",
    "        (df['Disaster Subgroup'] == 'Climatological') &\n",
    "        (df['Start Year'] >= start)\n",
    "    ]\n",
    "    \n",
    "    # Replace NaN values with 0 only in the specified columns\n",
    "    columns_to_fill = [\n",
    "        'No. Injured', 'No. Affected', 'No. Homeless', 'Total Affected',\n",
    "        'Reconstruction Costs (\\'000 US$)', 'Reconstruction Costs, Adjusted (\\'000 US$)',\n",
    "        'Insured Damage (\\'000 US$)', 'Insured Damage, Adjusted (\\'000 US$)', \n",
    "        'Total Damage (\\'000 US$)', 'Total Damage, Adjusted (\\'000 US$)', 'CPI'\n",
    "    ]\n",
    "    climatological_df.loc[:, columns_to_fill] = climatological_df.loc[:, columns_to_fill].fillna(0)\n",
    "    return climatological_df\n",
    "\n",
    "nyears = 10\n",
    "cdf = get_climatological_disasters(nyears)\n",
    "\n",
    "# Step 3: Calculate the total economic damage in adjusted billions of $\n",
    "total_damage = cdf['Total Damage, Adjusted (\\'000 US$)'].sum()\n",
    "print(f\"Total Adjusted damage for climate related disasters in the last {nyears} years = ${round(total_damage * 1000/1e9,2)} billion\")"
   ]
  },
  {
   "cell_type": "code",
   "execution_count": 6,
   "id": "f029c985-48c4-4330-b30a-f9340332cb29",
   "metadata": {},
   "outputs": [
    {
     "data": {
      "text/html": [
       "<div>\n",
       "<style scoped>\n",
       "    .dataframe tbody tr th:only-of-type {\n",
       "        vertical-align: middle;\n",
       "    }\n",
       "\n",
       "    .dataframe tbody tr th {\n",
       "        vertical-align: top;\n",
       "    }\n",
       "\n",
       "    .dataframe thead th {\n",
       "        text-align: right;\n",
       "    }\n",
       "</style>\n",
       "<table border=\"1\" class=\"dataframe\">\n",
       "  <thead>\n",
       "    <tr style=\"text-align: right;\">\n",
       "      <th></th>\n",
       "      <th></th>\n",
       "      <th></th>\n",
       "      <th>DisNo.</th>\n",
       "      <th>Historic</th>\n",
       "      <th>Classification Key</th>\n",
       "      <th>Disaster Group</th>\n",
       "      <th>Disaster Subgroup</th>\n",
       "      <th>Disaster Type</th>\n",
       "      <th>Disaster Subtype</th>\n",
       "      <th>External IDs</th>\n",
       "      <th>Event Name</th>\n",
       "      <th>ISO</th>\n",
       "      <th>...</th>\n",
       "      <th>Reconstruction Costs ('000 US$)</th>\n",
       "      <th>Reconstruction Costs, Adjusted ('000 US$)</th>\n",
       "      <th>Insured Damage ('000 US$)</th>\n",
       "      <th>Insured Damage, Adjusted ('000 US$)</th>\n",
       "      <th>Total Damage ('000 US$)</th>\n",
       "      <th>Total Damage, Adjusted ('000 US$)</th>\n",
       "      <th>CPI</th>\n",
       "      <th>Admin Units</th>\n",
       "      <th>Entry Date</th>\n",
       "      <th>Last Update</th>\n",
       "    </tr>\n",
       "    <tr>\n",
       "      <th>Region</th>\n",
       "      <th>Subregion</th>\n",
       "      <th>Country</th>\n",
       "      <th></th>\n",
       "      <th></th>\n",
       "      <th></th>\n",
       "      <th></th>\n",
       "      <th></th>\n",
       "      <th></th>\n",
       "      <th></th>\n",
       "      <th></th>\n",
       "      <th></th>\n",
       "      <th></th>\n",
       "      <th></th>\n",
       "      <th></th>\n",
       "      <th></th>\n",
       "      <th></th>\n",
       "      <th></th>\n",
       "      <th></th>\n",
       "      <th></th>\n",
       "      <th></th>\n",
       "      <th></th>\n",
       "      <th></th>\n",
       "      <th></th>\n",
       "    </tr>\n",
       "  </thead>\n",
       "  <tbody>\n",
       "    <tr>\n",
       "      <th rowspan=\"2\" valign=\"top\">Oceania</th>\n",
       "      <th rowspan=\"2\" valign=\"top\">Australia and New Zealand</th>\n",
       "      <th>Australia</th>\n",
       "      <td>2014-0004-AUS</td>\n",
       "      <td>No</td>\n",
       "      <td>nat-cli-wil-lan</td>\n",
       "      <td>Natural</td>\n",
       "      <td>Climatological</td>\n",
       "      <td>Wildfire</td>\n",
       "      <td>Land fire (Brush, Bush, Pasture)</td>\n",
       "      <td>NaN</td>\n",
       "      <td>NaN</td>\n",
       "      <td>AUS</td>\n",
       "      <td>...</td>\n",
       "      <td>0.0</td>\n",
       "      <td>0.0</td>\n",
       "      <td>0.0</td>\n",
       "      <td>0.0</td>\n",
       "      <td>25000.0</td>\n",
       "      <td>32177.0</td>\n",
       "      <td>77.694406</td>\n",
       "      <td>[{\"adm2_code\":5493,\"adm2_name\":\"Kalamunda (S)\"...</td>\n",
       "      <td>2014-02-07</td>\n",
       "      <td>2023-09-25</td>\n",
       "    </tr>\n",
       "    <tr>\n",
       "      <th>Australia</th>\n",
       "      <td>2014-0062-AUS</td>\n",
       "      <td>No</td>\n",
       "      <td>nat-cli-wil-lan</td>\n",
       "      <td>Natural</td>\n",
       "      <td>Climatological</td>\n",
       "      <td>Wildfire</td>\n",
       "      <td>Land fire (Brush, Bush, Pasture)</td>\n",
       "      <td>NaN</td>\n",
       "      <td>NaN</td>\n",
       "      <td>AUS</td>\n",
       "      <td>...</td>\n",
       "      <td>0.0</td>\n",
       "      <td>0.0</td>\n",
       "      <td>0.0</td>\n",
       "      <td>0.0</td>\n",
       "      <td>100000.0</td>\n",
       "      <td>128709.0</td>\n",
       "      <td>77.694406</td>\n",
       "      <td>[{\"adm2_code\":5372,\"adm2_name\":\"East Gippsland...</td>\n",
       "      <td>2014-02-10</td>\n",
       "      <td>2023-09-25</td>\n",
       "    </tr>\n",
       "    <tr>\n",
       "      <th rowspan=\"3\" valign=\"top\">Americas</th>\n",
       "      <th>Latin America and the Caribbean</th>\n",
       "      <th>Chile</th>\n",
       "      <td>2014-0118-CHL</td>\n",
       "      <td>No</td>\n",
       "      <td>nat-cli-wil-lan</td>\n",
       "      <td>Natural</td>\n",
       "      <td>Climatological</td>\n",
       "      <td>Wildfire</td>\n",
       "      <td>Land fire (Brush, Bush, Pasture)</td>\n",
       "      <td>GLIDE:WF-2014-000050</td>\n",
       "      <td>NaN</td>\n",
       "      <td>CHL</td>\n",
       "      <td>...</td>\n",
       "      <td>0.0</td>\n",
       "      <td>0.0</td>\n",
       "      <td>0.0</td>\n",
       "      <td>0.0</td>\n",
       "      <td>34000.0</td>\n",
       "      <td>43761.0</td>\n",
       "      <td>77.694406</td>\n",
       "      <td>[{\"adm1_code\":149630,\"adm1_name\":\"Valparaiso\"}]</td>\n",
       "      <td>2014-05-09</td>\n",
       "      <td>2023-09-25</td>\n",
       "    </tr>\n",
       "    <tr>\n",
       "      <th rowspan=\"2\" valign=\"top\">Northern America</th>\n",
       "      <th>United States of America</th>\n",
       "      <td>2014-0165-USA</td>\n",
       "      <td>No</td>\n",
       "      <td>nat-cli-wil-for</td>\n",
       "      <td>Natural</td>\n",
       "      <td>Climatological</td>\n",
       "      <td>Wildfire</td>\n",
       "      <td>Forest fire</td>\n",
       "      <td>NaN</td>\n",
       "      <td>NaN</td>\n",
       "      <td>USA</td>\n",
       "      <td>...</td>\n",
       "      <td>0.0</td>\n",
       "      <td>0.0</td>\n",
       "      <td>0.0</td>\n",
       "      <td>0.0</td>\n",
       "      <td>100000.0</td>\n",
       "      <td>128709.0</td>\n",
       "      <td>77.694406</td>\n",
       "      <td>[{\"adm2_code\":28901,\"adm2_name\":\"San Diego\"},{...</td>\n",
       "      <td>2014-05-15</td>\n",
       "      <td>2023-09-25</td>\n",
       "    </tr>\n",
       "    <tr>\n",
       "      <th>United States of America</th>\n",
       "      <td>2014-9023-USA</td>\n",
       "      <td>No</td>\n",
       "      <td>nat-cli-dro-dro</td>\n",
       "      <td>Natural</td>\n",
       "      <td>Climatological</td>\n",
       "      <td>Drought</td>\n",
       "      <td>Drought</td>\n",
       "      <td>NaN</td>\n",
       "      <td>NaN</td>\n",
       "      <td>USA</td>\n",
       "      <td>...</td>\n",
       "      <td>0.0</td>\n",
       "      <td>0.0</td>\n",
       "      <td>0.0</td>\n",
       "      <td>0.0</td>\n",
       "      <td>2200000.0</td>\n",
       "      <td>2831607.0</td>\n",
       "      <td>77.694406</td>\n",
       "      <td>[{\"adm2_code\":28903,\"adm2_name\":\"San Joaquin\"}]</td>\n",
       "      <td>2014-05-09</td>\n",
       "      <td>2023-09-25</td>\n",
       "    </tr>\n",
       "  </tbody>\n",
       "</table>\n",
       "<p>5 rows × 43 columns</p>\n",
       "</div>"
      ],
      "text/plain": [
       "                                                                          DisNo.  \\\n",
       "Region   Subregion                       Country                                   \n",
       "Oceania  Australia and New Zealand       Australia                 2014-0004-AUS   \n",
       "                                         Australia                 2014-0062-AUS   \n",
       "Americas Latin America and the Caribbean Chile                     2014-0118-CHL   \n",
       "         Northern America                United States of America  2014-0165-USA   \n",
       "                                         United States of America  2014-9023-USA   \n",
       "\n",
       "                                                                  Historic  \\\n",
       "Region   Subregion                       Country                             \n",
       "Oceania  Australia and New Zealand       Australia                      No   \n",
       "                                         Australia                      No   \n",
       "Americas Latin America and the Caribbean Chile                          No   \n",
       "         Northern America                United States of America       No   \n",
       "                                         United States of America       No   \n",
       "\n",
       "                                                                  Classification Key  \\\n",
       "Region   Subregion                       Country                                       \n",
       "Oceania  Australia and New Zealand       Australia                   nat-cli-wil-lan   \n",
       "                                         Australia                   nat-cli-wil-lan   \n",
       "Americas Latin America and the Caribbean Chile                       nat-cli-wil-lan   \n",
       "         Northern America                United States of America    nat-cli-wil-for   \n",
       "                                         United States of America    nat-cli-dro-dro   \n",
       "\n",
       "                                                                  Disaster Group  \\\n",
       "Region   Subregion                       Country                                   \n",
       "Oceania  Australia and New Zealand       Australia                       Natural   \n",
       "                                         Australia                       Natural   \n",
       "Americas Latin America and the Caribbean Chile                           Natural   \n",
       "         Northern America                United States of America        Natural   \n",
       "                                         United States of America        Natural   \n",
       "\n",
       "                                                                  Disaster Subgroup  \\\n",
       "Region   Subregion                       Country                                      \n",
       "Oceania  Australia and New Zealand       Australia                   Climatological   \n",
       "                                         Australia                   Climatological   \n",
       "Americas Latin America and the Caribbean Chile                       Climatological   \n",
       "         Northern America                United States of America    Climatological   \n",
       "                                         United States of America    Climatological   \n",
       "\n",
       "                                                                  Disaster Type  \\\n",
       "Region   Subregion                       Country                                  \n",
       "Oceania  Australia and New Zealand       Australia                     Wildfire   \n",
       "                                         Australia                     Wildfire   \n",
       "Americas Latin America and the Caribbean Chile                         Wildfire   \n",
       "         Northern America                United States of America      Wildfire   \n",
       "                                         United States of America       Drought   \n",
       "\n",
       "                                                                                   Disaster Subtype  \\\n",
       "Region   Subregion                       Country                                                      \n",
       "Oceania  Australia and New Zealand       Australia                 Land fire (Brush, Bush, Pasture)   \n",
       "                                         Australia                 Land fire (Brush, Bush, Pasture)   \n",
       "Americas Latin America and the Caribbean Chile                     Land fire (Brush, Bush, Pasture)   \n",
       "         Northern America                United States of America                       Forest fire   \n",
       "                                         United States of America                           Drought   \n",
       "\n",
       "                                                                           External IDs  \\\n",
       "Region   Subregion                       Country                                          \n",
       "Oceania  Australia and New Zealand       Australia                                  NaN   \n",
       "                                         Australia                                  NaN   \n",
       "Americas Latin America and the Caribbean Chile                     GLIDE:WF-2014-000050   \n",
       "         Northern America                United States of America                   NaN   \n",
       "                                         United States of America                   NaN   \n",
       "\n",
       "                                                                  Event Name  \\\n",
       "Region   Subregion                       Country                               \n",
       "Oceania  Australia and New Zealand       Australia                       NaN   \n",
       "                                         Australia                       NaN   \n",
       "Americas Latin America and the Caribbean Chile                           NaN   \n",
       "         Northern America                United States of America        NaN   \n",
       "                                         United States of America        NaN   \n",
       "\n",
       "                                                                   ISO  ...  \\\n",
       "Region   Subregion                       Country                        ...   \n",
       "Oceania  Australia and New Zealand       Australia                 AUS  ...   \n",
       "                                         Australia                 AUS  ...   \n",
       "Americas Latin America and the Caribbean Chile                     CHL  ...   \n",
       "         Northern America                United States of America  USA  ...   \n",
       "                                         United States of America  USA  ...   \n",
       "\n",
       "                                                                  Reconstruction Costs ('000 US$)  \\\n",
       "Region   Subregion                       Country                                                    \n",
       "Oceania  Australia and New Zealand       Australia                                            0.0   \n",
       "                                         Australia                                            0.0   \n",
       "Americas Latin America and the Caribbean Chile                                                0.0   \n",
       "         Northern America                United States of America                             0.0   \n",
       "                                         United States of America                             0.0   \n",
       "\n",
       "                                                                  Reconstruction Costs, Adjusted ('000 US$)  \\\n",
       "Region   Subregion                       Country                                                              \n",
       "Oceania  Australia and New Zealand       Australia                                                      0.0   \n",
       "                                         Australia                                                      0.0   \n",
       "Americas Latin America and the Caribbean Chile                                                          0.0   \n",
       "         Northern America                United States of America                                       0.0   \n",
       "                                         United States of America                                       0.0   \n",
       "\n",
       "                                                                  Insured Damage ('000 US$)  \\\n",
       "Region   Subregion                       Country                                              \n",
       "Oceania  Australia and New Zealand       Australia                                      0.0   \n",
       "                                         Australia                                      0.0   \n",
       "Americas Latin America and the Caribbean Chile                                          0.0   \n",
       "         Northern America                United States of America                       0.0   \n",
       "                                         United States of America                       0.0   \n",
       "\n",
       "                                                                  Insured Damage, Adjusted ('000 US$)  \\\n",
       "Region   Subregion                       Country                                                        \n",
       "Oceania  Australia and New Zealand       Australia                                                0.0   \n",
       "                                         Australia                                                0.0   \n",
       "Americas Latin America and the Caribbean Chile                                                    0.0   \n",
       "         Northern America                United States of America                                 0.0   \n",
       "                                         United States of America                                 0.0   \n",
       "\n",
       "                                                                  Total Damage ('000 US$)  \\\n",
       "Region   Subregion                       Country                                            \n",
       "Oceania  Australia and New Zealand       Australia                                25000.0   \n",
       "                                         Australia                               100000.0   \n",
       "Americas Latin America and the Caribbean Chile                                    34000.0   \n",
       "         Northern America                United States of America                100000.0   \n",
       "                                         United States of America               2200000.0   \n",
       "\n",
       "                                                                  Total Damage, Adjusted ('000 US$)  \\\n",
       "Region   Subregion                       Country                                                      \n",
       "Oceania  Australia and New Zealand       Australia                                          32177.0   \n",
       "                                         Australia                                         128709.0   \n",
       "Americas Latin America and the Caribbean Chile                                              43761.0   \n",
       "         Northern America                United States of America                          128709.0   \n",
       "                                         United States of America                         2831607.0   \n",
       "\n",
       "                                                                         CPI  \\\n",
       "Region   Subregion                       Country                               \n",
       "Oceania  Australia and New Zealand       Australia                 77.694406   \n",
       "                                         Australia                 77.694406   \n",
       "Americas Latin America and the Caribbean Chile                     77.694406   \n",
       "         Northern America                United States of America  77.694406   \n",
       "                                         United States of America  77.694406   \n",
       "\n",
       "                                                                                                         Admin Units  \\\n",
       "Region   Subregion                       Country                                                                       \n",
       "Oceania  Australia and New Zealand       Australia                 [{\"adm2_code\":5493,\"adm2_name\":\"Kalamunda (S)\"...   \n",
       "                                         Australia                 [{\"adm2_code\":5372,\"adm2_name\":\"East Gippsland...   \n",
       "Americas Latin America and the Caribbean Chile                       [{\"adm1_code\":149630,\"adm1_name\":\"Valparaiso\"}]   \n",
       "         Northern America                United States of America  [{\"adm2_code\":28901,\"adm2_name\":\"San Diego\"},{...   \n",
       "                                         United States of America    [{\"adm2_code\":28903,\"adm2_name\":\"San Joaquin\"}]   \n",
       "\n",
       "                                                                   Entry Date  \\\n",
       "Region   Subregion                       Country                                \n",
       "Oceania  Australia and New Zealand       Australia                 2014-02-07   \n",
       "                                         Australia                 2014-02-10   \n",
       "Americas Latin America and the Caribbean Chile                     2014-05-09   \n",
       "         Northern America                United States of America  2014-05-15   \n",
       "                                         United States of America  2014-05-09   \n",
       "\n",
       "                                                                   Last Update  \n",
       "Region   Subregion                       Country                                \n",
       "Oceania  Australia and New Zealand       Australia                  2023-09-25  \n",
       "                                         Australia                  2023-09-25  \n",
       "Americas Latin America and the Caribbean Chile                      2023-09-25  \n",
       "         Northern America                United States of America   2023-09-25  \n",
       "                                         United States of America   2023-09-25  \n",
       "\n",
       "[5 rows x 43 columns]"
      ]
     },
     "execution_count": 6,
     "metadata": {},
     "output_type": "execute_result"
    }
   ],
   "source": [
    "cdf.head(5)"
   ]
  },
  {
   "cell_type": "markdown",
   "id": "488095fb-e09e-433f-9a85-5304895458b4",
   "metadata": {},
   "source": [
    "Let's do a stacked bar plot of the different `Disaster Type` values by year with size reflecting their impact:"
   ]
  },
  {
   "cell_type": "code",
   "execution_count": 7,
   "id": "5ca5c049-70c6-4b5f-b45b-4b3ae7baf614",
   "metadata": {},
   "outputs": [
    {
     "name": "stdout",
     "output_type": "stream",
     "text": [
      "Total Adjusted damage for climate related disasters in the last 20 years = $347.75 billion\n"
     ]
    },
    {
     "data": {
      "image/png": "[encoded data removed]",
      "text/plain": [
       "<Figure size 1000x600 with 1 Axes>"
      ]
     },
     "metadata": {},
     "output_type": "display_data"
    }
   ],
   "source": [
    "import matplotlib.pyplot as plt\n",
    "from matplotlib.ticker import FuncFormatter\n",
    "\n",
    "def plot_climatological_disaster_types(df, nyears):\n",
    "    # Step 1: Filter for climatological disasters within years timebox\n",
    "    cdf = get_climatological_disasters(nyears)\n",
    "    total_damage = cdf['Total Damage, Adjusted (\\'000 US$)'].sum()\n",
    "    print(f\"Total Adjusted damage for climate related disasters in the last {nyears} years = ${round(total_damage * 1000/1e9,2)} billion\")\n",
    "    \n",
    "    # Step 2: Group by 'Start Year' and 'Disaster Type', summing up total damage\n",
    "    grouped_data = cdf.groupby(['Start Year', 'Disaster Type'])['Total Damage, Adjusted (\\'000 US$)'].sum().unstack(fill_value=0)\n",
    "    \n",
    "    # Step 3: Plot the stacked bar chart\n",
    "    ax = grouped_data.plot(kind='bar', stacked=True, figsize=(10, 6))\n",
    "    ax.set_title(f'Climatological Disasters by Type (Last {nyears} years)')\n",
    "    ax.set_xlabel('Year')\n",
    "    ax.set_ylabel('Total Damage, Adjusted (US$ billions)')\n",
    "    ax.legend(title='Disaster Type', bbox_to_anchor=(1.05, 1), loc='upper left')\n",
    "\n",
    "    # Format y-axis to display values in millions which is actually billions because the adjusted values are in units of ,000 US$\n",
    "    formatter = FuncFormatter(lambda x, _: f'{x / 1e6:.0f}')\n",
    "    ax.yaxis.set_major_formatter(formatter)\n",
    "    \n",
    "plot_climatological_disaster_types(df, 20)"
   ]
  },
  {
   "cell_type": "markdown",
   "id": "93d67cea-2fa4-44d5-934b-179462163efd",
   "metadata": {},
   "source": [
    "Now let's draw it with a trend line now as well.  We will need to install `sklearn` as follows in order to get linear regression support:\n",
    "> pip install scikit-learn"
   ]
  },
  {
   "cell_type": "code",
   "execution_count": 8,
   "id": "cc017168-8c4e-42e7-8734-f663a2b6c5b5",
   "metadata": {},
   "outputs": [
    {
     "name": "stdout",
     "output_type": "stream",
     "text": [
      "Total Adjusted damage for climate related disasters in the last 20 years = $347.75 billion\n"
     ]
    },
    {
     "data": {
      "image/png": "[encoded data removed]",
      "text/plain": [
       "<Figure size 1000x600 with 1 Axes>"
      ]
     },
     "metadata": {},
     "output_type": "display_data"
    }
   ],
   "source": [
    "from sklearn.linear_model import LinearRegression\n",
    "\n",
    "def plot_climatological_disaster_types_with_trend(df, nyears):\n",
    "    # Step 1: Filter for climatological disasters within the specified number of years\n",
    "    cdf = get_climatological_disasters(nyears)\n",
    "    total_damage = cdf['Total Damage, Adjusted (\\'000 US$)'].sum()\n",
    "    print(f\"Total Adjusted damage for climate related disasters in the last {nyears} years = ${round(total_damage * 1000/1e9,2)} billion\")\n",
    "    \n",
    "    # Step 2: Group by 'Start Year' and 'Disaster Type', summing up total damage\n",
    "    grouped_data = cdf.groupby(['Start Year', 'Disaster Type'])['Total Damage, Adjusted (\\'000 US$)'].sum().unstack(fill_value=0)\n",
    "    \n",
    "    # Calculate total damage per year directly from grouped_data to maintain index alignment\n",
    "    yearly_totals = grouped_data.sum(axis=1)  # This will have 'Start Year' as the index\n",
    "    \n",
    "    # Convert the index to numeric for regression, and fit the model\n",
    "    years = yearly_totals.index.values.reshape(-1, 1)\n",
    "    total_damage = yearly_totals.values\n",
    "\n",
    "    # Step 3: Perform linear regression to find the trend line\n",
    "    model = LinearRegression()\n",
    "    model.fit(years, total_damage)\n",
    "    trend_line = model.predict(years)\n",
    "    \n",
    "    # Create a DataFrame from the trend line data for exact plotting\n",
    "    trendline_df = pd.DataFrame({\n",
    "        'Year': yearly_totals.index,\n",
    "        'Trendline Damage': trend_line\n",
    "    })\n",
    "    \n",
    "    # Convert 'Year' to string to ensure consistent x-axis representation\n",
    "    # Doesn't show trend line if you comment this out\n",
    "    trendline_df['Year'] = trendline_df['Year'].astype(str)\n",
    "    grouped_data.index = grouped_data.index.astype(str)\n",
    "    \n",
    "    # Step 4: Plot the stacked bar chart\n",
    "    ax = grouped_data.plot(kind='bar', stacked=True, figsize=(10, 6))\n",
    "    ax.set_title(f'Climatological Disasters by Type (Last {nyears} years) with trend line')\n",
    "    ax.set_xlabel('Year')\n",
    "    ax.set_ylabel('Total Damage, Adjusted (US$ billions)')\n",
    "    ax.set_xticklabels(ax.get_xticklabels(), rotation=90)\n",
    "    \n",
    "    # Overlay the trend line on the existing ax with exact values from trendline_df\n",
    "    ax.plot(trendline_df['Year'], trendline_df['Trendline Damage'], color='black', linestyle='--', linewidth=2, label='Trend Line')\n",
    "    ax.legend(title='Disaster Type', bbox_to_anchor=(1.05, 1), loc='upper left')\n",
    "\n",
    "    # Format y-axis to display values in millions which is actually billions because the adjusted values are in units of ,000 US$\n",
    "    formatter = FuncFormatter(lambda x, _: f'{x / 1e6:.0f}')\n",
    "    ax.yaxis.set_major_formatter(formatter)\n",
    "\n",
    "plot_climatological_disaster_types_with_trend(df, 20)"
   ]
  },
  {
   "cell_type": "markdown",
   "id": "3636da87-a83e-4de7-be5c-be6ea072c8c8",
   "metadata": {},
   "source": [
    "### 4. Analysing all disasters"
   ]
  },
  {
   "cell_type": "markdown",
   "id": "37b5e61e-4b91-4d40-bb8b-c543c35157f7",
   "metadata": {},
   "source": [
    "TBD"
   ]
  }
 ],
 "metadata": {
  "kernelspec": {
   "display_name": "Python 3 (ipykernel)",
   "language": "python",
   "name": "python3"
  },
  "language_info": {
   "codemirror_mode": {
    "name": "ipython",
    "version": 3
   },
   "file_extension": ".py",
   "mimetype": "text/x-python",
   "name": "python",
   "nbconvert_exporter": "python",
   "pygments_lexer": "ipython3",
   "version": "3.11.9"
  }
 },
 "nbformat": 4,
 "nbformat_minor": 5
}
