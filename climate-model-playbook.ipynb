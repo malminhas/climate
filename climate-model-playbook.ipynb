{
 "cells": [
  {
   "cell_type": "markdown",
   "id": "415eace1-18c7-4f6e-9fa7-951f6713de6e",
   "metadata": {},
   "source": [
    "### Climate Model Playbook - Introduction to the Energy Balance Model"
   ]
  },
  {
   "cell_type": "markdown",
   "id": "29ea9340-82de-443f-8e58-f9235a2c6cf2",
   "metadata": {},
   "source": [
    "<p>\n",
    "Mal Minhas, v0.4<br>\n",
    "04.08.24\n",
    "</p>\n",
    "<p>\n",
    "<h4>Versions</h4>\n",
    "<ul>\n",
    "<li><b>v0.1</b>: 24.07.24. First version</li>\n",
    "<li><b>v0.2</b>: 25.07.24. Updated with extra content on EBM with GHG</li>\n",
    "<li><b>v0.3</b>: 26.07.24. Added two layer GHG</li>\n",
    "<li><b>v0.4</b>: 04.08.24. Added `climlab` content</li>\n",
    "</ul>\n",
    "</p>"
   ]
  },
  {
   "cell_type": "markdown",
   "id": "17b895ac-7620-4788-9a3a-96773945f240",
   "metadata": {},
   "source": [
    "This playbook introduces a toy climate model based on the **[Energy Balance Model](http://dimacs.rutgers.edu/archive/MPE/Energy/DIMACS-EBM.pdf)** or **EBM** which is the foundation for modern climate science.  At it's simplest level a zero-dimensional EBM only considers input radiation from the sun falling on earth and output radiation from the earth going out into space.  Doing so provides a great conceptual basis for understanding climate change. In reality, modern climate models are way more sophisticated than this."
   ]
  },
  {
   "cell_type": "markdown",
   "id": "a4cf0b37-7cda-4b02-8ebe-010ccbab9d88",
   "metadata": {},
   "source": [
    "The sections below build progressively upon the foundational zero-dimensional model to add more complexity using the open source course material provided by the University of Albany in [this series of notebooks on GitHub](https://github.com/brian-rose/ClimateModeling_courseware/blob/master/Lectures/Lecture07%20--%20Elementary%20greenhouse%20models.ipynb)). The sections break down as follows:\n",
    "\n",
    "<ol>\n",
    "<li><b>EBM v0 with no GHG contribution</b>: simplest possible EBM which treats earth as a black body radiator.</li>\n",
    "<li><b>EBM v1 with GHG fudge factor</b>: addition of a top level fudge factor to account for atmosphere.</li>\n",
    "<li><b>EBM v2 with one layer GHG contribution</b>: evolution of EBM where we model the atmosphere as a single layer which emits equally in all directions as a black body.</li> \n",
    "<li><b>EBM v3 with two layer GHG contribution</b>: evolution of previous model where the atmosphere is treated as <i>two</i> layers divided at 500hPa (5.5km above sea level) both of which emit equally in all directions as a black body.</li>\n",
    "<li><b>EBM v4 with 30 layer GHG contribution using <code>climlab</code></b>: further evolution of EBM where we model the atmosphere as 30 layers and use <code>climlab</code> to handle the calculations.</li>\n",
    "<li><b>EBM v5 with 30 layer GHG contribution including convection and ozone impact</b>: final evolution of EBM where we model in convection and ozone contribution to get closer to observed temperature distribution in the atmosphere.</li>\n",
    "</ol>"
   ]
  },
  {
   "cell_type": "markdown",
   "id": "93def10c-3a0a-4ee2-8ed8-b89ded75040b",
   "metadata": {},
   "source": [
    "### 1. EBM v0 with no GHG contribution"
   ]
  },
  {
   "cell_type": "markdown",
   "id": "684a822b-58a6-479f-b0a7-098b4b0c286e",
   "metadata": {},
   "source": [
    "A zero-dimensional **Energy Balance Model (EBM)** is a very simple toy for considering the temperature of the earth.  Fundamentally, the EBM seeks to determine an **equilibrium temperature** given: \n",
    "1. The **energy in** which is the solar radiation (or flux) of the sun area-averaged over the surface of the earth in $W/m^2$.  This area-average is called **insolation** or $Q$.\n",
    "2. The **energy out** which is a combination of energy *reflected out* via the albedo effect which is about 30% of that incoming flux plus the energy *radiated out* by the earth as a black body.  The energy is radiated out as infrared.  Note that black body in this context has a specific definition described by the [Stefan-Boltzmann law](https://wikipedia.org/wiki/Stefan–Boltzmann_law).  For a simple first level zero-dimensional model, we the earth can be considered as a black body for which we ignore atmospheric effects: \n",
    "> For an ideal absorber/emitter or black body, the Stefan–Boltzmann law states that the total energy radiated per unit surface area per unit time (also known as the radiant exitance) is directly proportional to the fourth power of the black body's temperature, T:\n",
    "\n",
    "$M = 𝜎T^4$\n",
    "\n",
    "The **Absorbed Shortwave Radiation (ASR)** is the part of the incoming sunlight that is not reflected back to space, i.e. that part that is absorbed somewhere within the Earth system.  \n",
    "The **Outgoing Longwave Radiation (OLR)** is the rest of the incoming sunlight that is radiated back out into space by earth as a black body.  \n",
    "The foundational principle of any simple EBM is that ASR=OLR yielding an equilibrium temperature.\n",
    "\n",
    "This most basic v0 form of this model is covered in more detail [at the start of this paper](http://dimacs.rutgers.edu/archive/MPE/Energy/DIMACS-EBM.pdf) and outlined in summary in [the following YouTube video](https://www.youtube.com/watch?v=M_USJDCARrM) from the [terra.do LFA (Learning for Action) course](https://www.terra.do/climate-fellowship-learning-for-action/) on climate change."
   ]
  },
  {
   "cell_type": "code",
   "execution_count": 1,
   "id": "ec19ca07-adc0-48c9-804c-46cb984da9d3",
   "metadata": {},
   "outputs": [
    {
     "data": {
      "image/jpeg": "[encoded data removed]",
      "text/html": [
       "\n",
       "        <iframe\n",
       "            width=\"800\"\n",
       "            height=\"300\"\n",
       "            src=\"https://www.youtube.com/embed/M_USJDCARrM\"\n",
       "            frameborder=\"0\"\n",
       "            allowfullscreen\n",
       "            \n",
       "        ></iframe>\n",
       "        "
      ],
      "text/plain": [
       "<IPython.lib.display.YouTubeVideo at 0x106e472d0>"
      ]
     },
     "execution_count": 1,
     "metadata": {},
     "output_type": "execute_result"
    }
   ],
   "source": [
    "from IPython.display import YouTubeVideo\n",
    "YouTubeVideo('M_USJDCARrM', width=800, height=300)"
   ]
  },
  {
   "cell_type": "markdown",
   "id": "a64e25f4-2ecf-47e7-a18d-7ecd6a57844d",
   "metadata": {},
   "source": [
    "The EBM equation is presented next along with the values of constants in it.  The left hand side of the equation is energy in and the right hand side energy out which is a combination of radiated and reflected energy.  Note that $S$ is solar flux in W/m$^2$, $α$ is albedo (reflectivity of earth), $T_s$ is equilibrium temperature at the surface of the earth in Kelvins and $σ$ is the [Stefan-Boltzmann constant](https://www.techtarget.com/whatis/definition/Stefan-Boltzmann-constant) which is:\n",
    "> a physical constant expressing the relationship between the heat radiation emitted by a black body and its absolute temperature that has the value\n",
    "$σ = 5.670374419... ×10^{8}W / m^2K^4$"
   ]
  },
  {
   "cell_type": "markdown",
   "id": "85270264-8357-4103-8e29-b00e2e0d6213",
   "metadata": {},
   "source": [
    "$\\frac{S}{4} = σT_s^4 + α\\frac{S}{4}$\n",
    "\n",
    "or via rearrangement:\n",
    "\n",
    "(1-α) $\\frac{S}{4}$ = σ$T_s^4$\n",
    "\n",
    "where:<br>\n",
    "$α$ (albedo) = 0.30<br>\n",
    "$S$ (solar flux) = 1372 W/m$^2$<br>\n",
    "$σ$ (Stefan-Boltzmann constant) = 5.67x10$^{−8}$ W/m$^2$K$^4$"
   ]
  },
  {
   "cell_type": "markdown",
   "id": "6947e59d-48a5-45ce-857b-aaa07834610e",
   "metadata": {},
   "source": [
    "#### Question 1: Calculate $T_s$ in Kelvins for the given values of $α$, $S$ and $σ$"
   ]
  },
  {
   "cell_type": "markdown",
   "id": "dd925455-d2f1-4b08-b1b9-7a2197964f93",
   "metadata": {},
   "source": [
    "Given the EBM equation and the values provided above for α, S and  σ, we can now calculate $T_s$ by rearranging the equation as follows:"
   ]
  },
  {
   "cell_type": "markdown",
   "id": "3f360a4d-34bd-4071-b398-cf2d0d0a22d9",
   "metadata": {},
   "source": [
    "$T_s$ = $((1-α) \\frac{S}{4}/σ)^{1/4}$"
   ]
  },
  {
   "cell_type": "code",
   "execution_count": 2,
   "id": "13cb3a9b-41ad-4cc8-b066-32920f55f3c1",
   "metadata": {},
   "outputs": [
    {
     "name": "stdout",
     "output_type": "stream",
     "text": [
      "Equilibrium surface temperature Ts=255.1K\n"
     ]
    }
   ],
   "source": [
    "α = 0.30\n",
    "S = 1372 \n",
    "σ = 5.67e-8\n",
    "\n",
    "Ts = ((S/4 - α * S/4)/σ) ** (1./4.)\n",
    "print(f\"Equilibrium surface temperature Ts={round(Ts,2)}K\")"
   ]
  },
  {
   "cell_type": "markdown",
   "id": "0b6a9a19-9671-4934-adf2-745a1dc0f238",
   "metadata": {},
   "source": [
    "#### Question 2: Convert $T_s$ from K to $^{o}$C"
   ]
  },
  {
   "cell_type": "markdown",
   "id": "66a4c128-8ed6-4164-ac94-944580347728",
   "metadata": {},
   "source": [
    "We can convert that K to $^o$C as follows:"
   ]
  },
  {
   "cell_type": "code",
   "execution_count": 3,
   "id": "91af6648-f8b8-4ac7-af9d-1ec1f199916a",
   "metadata": {},
   "outputs": [],
   "source": [
    "def kelvin_to_celsius(temp):\n",
    "    celcius = temp - 273.15\n",
    "    return celcius\n",
    "\n",
    "def celsius_to_kelvin(temp):\n",
    "    kelvin = temp + 273.15\n",
    "    return kelvin"
   ]
  },
  {
   "cell_type": "code",
   "execution_count": 4,
   "id": "b06c73db-cbd3-4968-833e-746ab0b01183",
   "metadata": {},
   "outputs": [
    {
     "name": "stdout",
     "output_type": "stream",
     "text": [
      "255.1K = -18.05 degrees C\n"
     ]
    }
   ],
   "source": [
    "print(f\"{round(Ts,2)}K = {round(kelvin_to_celsius(Ts),2)} degrees C\")"
   ]
  },
  {
   "cell_type": "markdown",
   "id": "eb26fe9a-c17f-40b6-a2c2-c322e8af9a69",
   "metadata": {},
   "source": [
    "This figure is much lower than the observed average surface temperature $T_s$ on earth which is around 288K (15 $^oC$).  Why the difference?  Our toy model doesn't account the presence of **greenhouse gases (GHGs)** such as CO$_2$, O$_3$ and NO$_2$ in our atmosphere.  Although they constitute only 1% of the atmosphere, they absorb 90% of the outgoing radiation and bounce it back to earth helping to keep the earth warmer than it would otherwise be.  Let's consider how we may do a simple modification of this v1 EBM to account for the impact of GHGs."
   ]
  },
  {
   "cell_type": "markdown",
   "id": "481163e3-1e4b-421e-a595-1619f889c138",
   "metadata": {},
   "source": [
    "### 2. EBM v1 with GHG fudge factor"
   ]
  },
  {
   "cell_type": "markdown",
   "id": "3e42a75d-64d5-467b-87d0-52b49e160c6f",
   "metadata": {},
   "source": [
    "The [University of Albany notebook here](https://github.com/brian-rose/ClimateModeling_courseware/blob/master/Lectures/Lecture07%20--%20Elementary%20greenhouse%20models.ipynb) provides a starting point for modelling the contribution of greenhouse gases. The basic idea is that we need to adjust our v0 model to allow for the fact that not all the black body radiation makes it back out into space.  Some of it is absorbed within the atmosphere by greenhouse gases.  A very simple way to model that is to introduce a new **[emissivity](https://en.wikipedia.org/wiki/Emissivity)** factor, ε, that allows for variation in the efficiency of radiation of a body in the equation as illustrated next.  ε can take a value from 0 (perfect thermal reflector) to 1 (perfect thermal absorber/emitter or black body).  Note we have reordered the terms so that the right hand side is now the $ASR$ or total proportion of solar flux that is absorbed by earth and the right hand side is $OLR$ or total terrestrial radiation emitted back into space which as we have seen needs to be adjusted by ε.  A foundational rule of all EBMs is that $ASR=OLR$:"
   ]
  },
  {
   "cell_type": "markdown",
   "id": "27af3fc7-117d-4c64-bdb5-980555fba96f",
   "metadata": {},
   "source": [
    "$(1- α)Q = ε \\sigma T_s^4$\n",
    "\n",
    "where:<br>\n",
    "$Q$ = $\\frac{S}{4}$ or **[insolation](https://simple.wikipedia.org/wiki/Insolation)**<br>\n",
    "ε = **emissivity** (ranges from 0 to 1)<br>"
   ]
  },
  {
   "cell_type": "markdown",
   "id": "20cc316f-3b4d-441c-8a18-ce10d3a7630d",
   "metadata": {},
   "source": [
    "We observe ε to be around 0.61 derived from an observed value of average surface temperature T$_s$ of 288K.  Let's plug that ε value in and recalcuate T$_s$:"
   ]
  },
  {
   "cell_type": "code",
   "execution_count": 5,
   "id": "84319e40-5480-42a3-8014-43ffb0c3e1d5",
   "metadata": {},
   "outputs": [
    {
     "name": "stdout",
     "output_type": "stream",
     "text": [
      "ASR=240.1K\n",
      "Equilibrium surface temperature T=288.65K\n",
      "288.65K = 15.5 degrees C\n"
     ]
    }
   ],
   "source": [
    "ε = 0.61\n",
    "\n",
    "def ASR(α, S):\n",
    "    return (1-α) * S/4\n",
    "\n",
    "def equilibrium_temperature(asr, ε, σ):\n",
    "    return (asr/(ε * σ)) ** (1./4.)\n",
    "\n",
    "T = equilibrium_temperature(ASR(α, S), ε, σ)\n",
    "print(f\"ASR={round(ASR(α, S),2)}K\")\n",
    "print(f\"Equilibrium surface temperature T={round(T,2)}K\")\n",
    "print(f\"{round(T,2)}K = {round(kelvin_to_celsius(T),2)} degrees C\")"
   ]
  },
  {
   "cell_type": "markdown",
   "id": "e86b7eb3-d544-4285-ac66-96f0405fef47",
   "metadata": {},
   "source": [
    "We get the expected value but can we do better than introducing a ε fudge factor reverse-engineered from observation? \n",
    "In the next section we are going to refine our toy model by adding a layer for the atmosphere."
   ]
  },
  {
   "cell_type": "markdown",
   "id": "b5ca4a89-85ab-4a2c-acaf-da04d4d870b2",
   "metadata": {},
   "source": [
    "### 3. EBM v2 with one layer GHG contribution "
   ]
  },
  {
   "attachments": {},
   "cell_type": "markdown",
   "id": "7761f147-a4df-4f5f-8fcd-3eb10bdbdacf",
   "metadata": {},
   "source": [
    "As outlined [here](https://github.com/brian-rose/ClimateModeling_courseware/blob/master/Lectures/Lecture07%20--%20Elementary%20greenhouse%20models.ipynb) we can model the atmosphere from first principles as a single layer with the following assumptions:\n",
    "* The atmosphere is a single layer of air at temperature $T_a$\n",
    "* The atmosphere is completely transparent to shortwave solar radiation.\n",
    "* The surface absorbs shortwave radiation $(1-α)Q$\n",
    "* The atmosphere is completely opaque to infrared radiation\n",
    "* Both surface and atmosphere emit radiation as blackbodies ($\\sigma T_s^4$, $\\sigma T_a^4$)\n",
    "* Atmosphere radiates equally up and down ($\\sigma T_a^4$)\n",
    "* There are no other heat transfer mechanisms"
   ]
  },
  {
   "attachments": {},
   "cell_type": "markdown",
   "id": "a8c8ac54-a77a-4676-ac4b-eff4adc08872",
   "metadata": {},
   "source": [
    "<div>\n",
    "<img src=\"simpleGHGmodel.png\" width=\"600\"/>\n",
    "</div>"
   ]
  },
  {
   "cell_type": "markdown",
   "id": "98d43e51-35ef-4d0f-bb99-259dc20e49cf",
   "metadata": {},
   "source": [
    "Here $\\sigma T_a^4$ pointing downwards constitutes the **downwelling or back radiation** from the atmosphere.  We know from energy balance that the blackbody radiation at the surface $\\sigma T_s^4$ must equal the sum of the blackbody radiation in the atmosphere 2$\\sigma T_a^4$.  We can use this to simplify the equilibrium energy equation at the surface as follows:"
   ]
  },
  {
   "cell_type": "markdown",
   "id": "772d359a-f1fb-4625-87e7-3c81727836ff",
   "metadata": {},
   "source": [
    "$(1- α)Q + \\sigma T_a^4 = \\sigma T_s^4$\n",
    "\n",
    "where:<br>\n",
    "$\\sigma T_a^4 = \\frac{1}{2}\\sigma T_s^4$\n",
    "\n",
    "therefore:\n",
    "$(1- α)Q = \\frac{1}{2} \\sigma T_s^4$"
   ]
  },
  {
   "cell_type": "markdown",
   "id": "c584e054-eb2e-4dc6-98a9-8ff6dd30419a",
   "metadata": {},
   "source": [
    "Note this is exactly the same as having an ε of 0.5 which yields the expected 303K:"
   ]
  },
  {
   "cell_type": "code",
   "execution_count": 6,
   "id": "607362e4-4a16-4b43-85cf-0725b04139d2",
   "metadata": {},
   "outputs": [
    {
     "name": "stdout",
     "output_type": "stream",
     "text": [
      "Equilibrium surface temperature T=303.36K\n",
      "303.36K = 30.21 degrees C\n"
     ]
    }
   ],
   "source": [
    "T = equilibrium_temperature(ASR(α, S), 0.5, σ)\n",
    "print(f\"Equilibrium surface temperature T={round(T,2)}K\")\n",
    "print(f\"{round(T,2)}K = {round(kelvin_to_celsius(T),2)} degrees C\")"
   ]
  },
  {
   "cell_type": "markdown",
   "id": "904beb0a-97b2-4a17-b5e5-0945c1699d3a",
   "metadata": {},
   "source": [
    "We have now overshot by some 15 $^o$C because our assumptions were not valid:\n",
    "* The atmosphere does absorb some solar radiation.\n",
    "* The atmosphere is NOT a perfect absorber of longwave radiation\n",
    "* Absorption and emission varies strongly with wavelength and the atmosphere does not behave like a blackbody.\n",
    "* Emissions are not determined by a single temperature T$_a$ but by the detailed vertical profile of air temperture.\n",
    "* Energy is redistributed in the vertical by a variety of dynamical transport mechanisms (e.g. convection and boundary layer turbulence)."
   ]
  },
  {
   "cell_type": "markdown",
   "id": "83e4636a-4876-4314-bb53-6bbfcb5a4d5e",
   "metadata": {},
   "source": [
    "In the next section we are going to enhance our model further by adding a second layer for the atmosphere."
   ]
  },
  {
   "cell_type": "markdown",
   "id": "2edbbc55-7412-43d6-ac5b-c42e851854a6",
   "metadata": {},
   "source": [
    "### 4. EBM v3 with two layer GHG contribution "
   ]
  },
  {
   "cell_type": "markdown",
   "id": "305f0770-2379-45fd-8e11-840eccec0774",
   "metadata": {},
   "source": [
    "We can generalize the one layer GHG model to build a slighly more realistic model of OLR radiative transfer by doing two things:\n",
    "* Introducing a second layer for the atmosphere to build a vertical structure\n",
    "* Modify the behaviour of each layer so it is no longer a black body (perfect thermal absorber/emitter)\n",
    "\n",
    "Doing so gives a very useful prototype model for understanding how the greenhouse effect works with the following assumptions:\n",
    "* The atmosphere is completely transparent to shortwave radiation (still)\n",
    "* We can divide the atmosphere up into two layers of equal mass.  The dividing line is thus at 500 hPa pressure level which is approximately 5.5km up from sea level.\n",
    "* Each layer **absorbs only a fraction** of whatever longwave radiation is incident upon it.\n",
    "* We will call this fraction ε, the absorptivity of the layer and is it the same in each layer"
   ]
  },
  {
   "cell_type": "markdown",
   "id": "4b99bd44-ac56-492c-b22e-3404c2006846",
   "metadata": {},
   "source": [
    "The result is termed the **grey gas** model in which emission and absorption have no spectral dependence.  We can consider it to be a \"leaky greenhouse\" on account of ε.  In order to build this model, we need to introduce one additional piece of physics known as **Kirchoff's Law** namely that at each layer *absorptivity* equals *emissibility*.  So if a layer of atmosphere at temperature $T$ absorbs a fraction ε of incident longwave radiation, it must emit $ ε \\sigma T^4$ both up and down."
   ]
  },
  {
   "cell_type": "markdown",
   "id": "c8d76e88-5562-4ab6-aa23-13042eea9edf",
   "metadata": {},
   "source": [
    "<div>\n",
    "<img src=\"twoLayerGHGmodel.png\" width=\"600\"/>\n",
    "</div>"
   ]
  },
  {
   "cell_type": "markdown",
   "id": "c7c6b47e-4dc9-4dda-bd33-98ca996f2d44",
   "metadata": {},
   "source": [
    "Features of this model:\n",
    "* Surface temperature is $T_s$\n",
    "* Atmospheric temperatures are $T_0$ and $T_1$ where $T_0$ is closest to the surface.\n",
    "* The absorptivity of every atmospheric layer is ε\n",
    "* Surface emission is $\\sigma T_s^4$\n",
    "* Atmospheric layer emission is ε$\\sigma T_s^4$ (up and down)\n",
    "* Absorptivity = emissivity for atmospheric layers\n",
    "* Only a fraction ε of the longwave beam is transmitted through each layer."
   ]
  },
  {
   "cell_type": "markdown",
   "id": "44b791b6-472e-44a9-8a13-b9a5aeb72907",
   "metadata": {},
   "source": [
    "#### 3.1 Establishing constants and observed values"
   ]
  },
  {
   "cell_type": "markdown",
   "id": "1d298ee1-692b-4b73-b925-38b20592ad90",
   "metadata": {},
   "source": [
    "We will use `sympy` an open-source symbolic math library for helping build our grey gas model.  Let's start by defining some `sympy` symbols and printing one of them out:"
   ]
  },
  {
   "cell_type": "code",
   "execution_count": 7,
   "id": "59801b4c-8e87-4f2b-822d-9a1c69abf8f3",
   "metadata": {},
   "outputs": [
    {
     "data": {
      "image/png": "[encoded data removed]",
      "text/latex": [
       "$\\displaystyle T_{s}$"
      ],
      "text/plain": [
       "Tₛ"
      ]
     },
     "execution_count": 7,
     "metadata": {},
     "output_type": "execute_result"
    }
   ],
   "source": [
    "import sympy\n",
    "sympy.init_printing()\n",
    "epsilon, T_e, T_s, T_0, T_1, sigma = sympy.symbols('epsilon, T_e, T_s, T_0, T_1, sigma', positive=True)\n",
    "T_s"
   ]
  },
  {
   "cell_type": "markdown",
   "id": "7189b716-28ec-4bce-b64c-a3216cf8af58",
   "metadata": {},
   "source": [
    "Now we can build a dictionary `v` that holds actual values for some of these symbols.  Note the value for ε derived from measurement is 0.58 and the measured values of $T_s$, $T_0$ at 500 hPa and $T_1$ are as given:"
   ]
  },
  {
   "cell_type": "code",
   "execution_count": 8,
   "id": "3cfe4de9-c825-437f-b2ea-d24e95d4c6c9",
   "metadata": {},
   "outputs": [
    {
     "data": {
      "image/png": "[encoded data removed]",
      "text/latex": [
       "$\\displaystyle \\left\\{ Q : 341.3, \\  T_{0} : 275, \\  T_{1} : 230, \\  T_{s} : 288, \\  \\alpha : 0.3, \\  \\epsilon : 0.58, \\  \\sigma : 5.67 \\cdot 10^{-8}\\right\\}$"
      ],
      "text/plain": [
       "{Q: 341.3, T₀: 275, T₁: 230, Tₛ: 288, α: 0.3, ε: 0.58, σ: 5.67e-08}"
      ]
     },
     "execution_count": 8,
     "metadata": {},
     "output_type": "execute_result"
    }
   ],
   "source": [
    "Q, alpha = sympy.symbols('Q, alpha', positive=True)\n",
    "v = {}\n",
    "v[Q] = 341.3        #  global mean insolation in W/m2\n",
    "v[alpha] = 0.3      #  observed planetary albedo\n",
    "v[sigma] = 5.67e-8  #  Stefan-Boltzmann constant in W/m2/K4\n",
    "v[epsilon] = 0.58   #  Observed through measurement\n",
    "v[T_s] = 288        #  Observed through measurement\n",
    "v[T_0] = 275        #  Observed through measurement\n",
    "v[T_1] = 230        #  Observed through measurement\n",
    "v"
   ]
  },
  {
   "cell_type": "markdown",
   "id": "c54adae1-8e6f-4eb9-8d56-522d28273822",
   "metadata": {},
   "source": [
    "#### 3.2 Incoming Shortwave radiation "
   ]
  },
  {
   "attachments": {},
   "cell_type": "markdown",
   "id": "542649f6-653e-4ecc-94a8-6561cfa722ba",
   "metadata": {},
   "source": [
    "Since we have assumed the atmosphere is transparent to shortwave, the incident beam passes unchanged from the top to the surface, where a fraction α is reflected upward out to space.  We can capture this in a column vector, $ASR$, where the terms are arranged in order `[surface, layer 0, layer 1]` as follows:"
   ]
  },
  {
   "cell_type": "code",
   "execution_count": 9,
   "id": "125d9f86-dcfb-4330-977a-2c754951543e",
   "metadata": {},
   "outputs": [
    {
     "data": {
      "text/latex": [
       "$\\displaystyle \\left[\\begin{matrix}Q \\left(1 - \\alpha\\right)\\\\0\\\\0\\end{matrix}\\right]$"
      ],
      "text/plain": [
       "⎡Q⋅(1 - α)⎤\n",
       "⎢         ⎥\n",
       "⎢    0    ⎥\n",
       "⎢         ⎥\n",
       "⎣    0    ⎦"
      ]
     },
     "execution_count": 9,
     "metadata": {},
     "output_type": "execute_result"
    }
   ],
   "source": [
    "ASR = sympy.Matrix([(1-alpha)*Q, 0, 0])\n",
    "ASR"
   ]
  },
  {
   "cell_type": "markdown",
   "id": "d601bc12-d192-45d1-a1dc-a92a09993431",
   "metadata": {},
   "source": [
    "#### 3.3 Longwave Emissions"
   ]
  },
  {
   "cell_type": "markdown",
   "id": "0b3df1c1-dd86-49ce-885e-29ddde38ae97",
   "metadata": {},
   "source": [
    "Let's denote the emissions from each layer as:\n",
    "\n",
    "$E_s = \\sigma T_s^4$<br>\n",
    "$E_0 =  ε\\sigma T_0^4$<br>\n",
    "$E_1 =  ε\\sigma T_1^4$<br>\n",
    "\n",
    "noting that and $E_0$ and $E_1$ contribute to **both** the upwelling and downwelling beams."
   ]
  },
  {
   "cell_type": "markdown",
   "id": "454d5007-428c-4462-baeb-1d10cbc1b818",
   "metadata": {},
   "source": [
    "Let's define these emissions using `sympy` symbols and display as a column vector, $E$, in order `[surface, layer 0, layer 1]` thus:"
   ]
  },
  {
   "cell_type": "code",
   "execution_count": 10,
   "id": "bb1dc425-2847-4215-b712-e96a6a328d64",
   "metadata": {},
   "outputs": [
    {
     "data": {
      "text/latex": [
       "$\\displaystyle \\left[\\begin{matrix}T_{s}^{4} \\sigma\\\\T_{0}^{4} \\epsilon \\sigma\\\\T_{1}^{4} \\epsilon \\sigma\\end{matrix}\\right]$"
      ],
      "text/plain": [
       "⎡   4   ⎤\n",
       "⎢ Tₛ ⋅σ ⎥\n",
       "⎢       ⎥\n",
       "⎢  4    ⎥\n",
       "⎢T₀ ⋅ε⋅σ⎥\n",
       "⎢       ⎥\n",
       "⎢  4    ⎥\n",
       "⎣T₁ ⋅ε⋅σ⎦"
      ]
     },
     "execution_count": 10,
     "metadata": {},
     "output_type": "execute_result"
    }
   ],
   "source": [
    "E_s = sigma*T_s**4\n",
    "E_0 = epsilon*sigma*T_0**4\n",
    "E_1 = epsilon*sigma*T_1**4\n",
    "E = sympy.Matrix([E_s, E_0, E_1])\n",
    "E"
   ]
  },
  {
   "cell_type": "markdown",
   "id": "9a2fbfb1-73b2-4e5f-954c-d0d4202faa5c",
   "metadata": {},
   "source": [
    "#### 3.4 Upwelling beam"
   ]
  },
  {
   "cell_type": "markdown",
   "id": "ef68b32b-0a3c-4b9e-bfc1-54038fb79feb",
   "metadata": {},
   "source": [
    "Let $U$ be the upwelling flux of longwave radiation from earth up to space with the layers exactly as illustrated in the diagram.  The upward flux from the surface to layer 0, ie. emission from the surface, is:\n",
    "\n",
    "$U_0 = S_0$\n",
    "\n",
    "with:\n",
    "\n",
    "$U_1 = (1-ε)U_0 + E_0$<br>\n",
    "$U_2 = (1-ε)U_1 + E_1$<br>\n",
    "\n",
    "Let's build these layers using `sympy` and print out $U_2$:"
   ]
  },
  {
   "cell_type": "code",
   "execution_count": 11,
   "id": "0ebbed0f-9f7c-46b4-af3d-a35561cac04c",
   "metadata": {},
   "outputs": [
    {
     "data": {
      "image/png": "[encoded data removed]",
      "text/latex": [
       "$\\displaystyle T_{1}^{4} \\epsilon \\sigma + \\left(1 - \\epsilon\\right) \\left(T_{0}^{4} \\epsilon \\sigma + T_{s}^{4} \\sigma \\left(1 - \\epsilon\\right)\\right)$"
      ],
      "text/plain": [
       "  4               ⎛  4         4          ⎞\n",
       "T₁ ⋅ε⋅σ + (1 - ε)⋅⎝T₀ ⋅ε⋅σ + Tₛ ⋅σ⋅(1 - ε)⎠"
      ]
     },
     "execution_count": 11,
     "metadata": {},
     "output_type": "execute_result"
    }
   ],
   "source": [
    "U_0 = E_s\n",
    "U_1 = (1-epsilon)*U_0 + E_0\n",
    "U_2 = (1-epsilon)*U_1 + E_1\n",
    "U_2"
   ]
  },
  {
   "cell_type": "markdown",
   "id": "c46bc443-574a-498b-880b-23afd14c6986",
   "metadata": {},
   "source": [
    "The three  $U_2$ terms for $T_s$, $T_0$ and $T_1$ in this expression represent the **contributions to the total OLR that originate from each of the three levels**.  Let's code them into `sympy` again and print out their sum:"
   ]
  },
  {
   "cell_type": "code",
   "execution_count": 12,
   "id": "8cfd9658-b9b7-4c38-86d8-cc10911fd4f9",
   "metadata": {},
   "outputs": [
    {
     "name": "stdout",
     "output_type": "stream",
     "text": [
      "The expression for OLR is:\n"
     ]
    },
    {
     "data": {
      "image/png": "[encoded data removed]",
      "text/latex": [
       "$\\displaystyle T_{0}^{4} \\epsilon \\sigma \\left(1 - \\epsilon\\right) + T_{1}^{4} \\epsilon \\sigma + T_{s}^{4} \\sigma \\left(1 - \\epsilon\\right)^{2}$"
      ],
      "text/plain": [
       "  4                 4         4          2\n",
       "T₀ ⋅ε⋅σ⋅(1 - ε) + T₁ ⋅ε⋅σ + Tₛ ⋅σ⋅(1 - ε) "
      ]
     },
     "execution_count": 12,
     "metadata": {},
     "output_type": "execute_result"
    }
   ],
   "source": [
    "#  Define the contributions to OLR originating from each level\n",
    "OLR_s = (1-epsilon)**2 *sigma*T_s**4\n",
    "OLR_0 = epsilon*(1-epsilon)*sigma*T_0**4\n",
    "OLR_1 = epsilon*sigma*T_1**4\n",
    "\n",
    "OLR = OLR_s + OLR_0 + OLR_1\n",
    "\n",
    "print(f\"The expression for OLR is:\")\n",
    "OLR"
   ]
  },
  {
   "cell_type": "markdown",
   "id": "98b3bf72-a744-43ba-93a8-96430621be4b",
   "metadata": {},
   "source": [
    "Let's have a look at these OLR terms in a column vector in order `[surface, layer 0, layer 1]`:"
   ]
  },
  {
   "cell_type": "code",
   "execution_count": 13,
   "id": "d15ad02c-b0f7-4d5a-9c8a-6a05249d53d4",
   "metadata": {},
   "outputs": [
    {
     "data": {
      "text/latex": [
       "$\\displaystyle \\left[\\begin{matrix}T_{s}^{4} \\sigma \\left(1 - \\epsilon\\right)^{2}\\\\T_{0}^{4} \\epsilon \\sigma \\left(1 - \\epsilon\\right)\\\\T_{1}^{4} \\epsilon \\sigma\\end{matrix}\\right]$"
      ],
      "text/plain": [
       "⎡  4          2 ⎤\n",
       "⎢Tₛ ⋅σ⋅(1 - ε)  ⎥\n",
       "⎢               ⎥\n",
       "⎢  4            ⎥\n",
       "⎢T₀ ⋅ε⋅σ⋅(1 - ε)⎥\n",
       "⎢               ⎥\n",
       "⎢      4        ⎥\n",
       "⎣    T₁ ⋅ε⋅σ    ⎦"
      ]
     },
     "execution_count": 13,
     "metadata": {},
     "output_type": "execute_result"
    }
   ],
   "source": [
    "OLRterms = sympy.Matrix([OLR_s, OLR_0, OLR_1])\n",
    "OLRterms"
   ]
  },
  {
   "cell_type": "markdown",
   "id": "a6a1df93-25af-4238-80cc-c9b6da21b0ac",
   "metadata": {},
   "source": [
    "We can now stack these upwelling values in a column vector, $U$, again in the order `[surface, layer 0, layer 1]`:"
   ]
  },
  {
   "cell_type": "code",
   "execution_count": 14,
   "id": "234cb788-53e1-4088-b0e8-7344e493ec01",
   "metadata": {},
   "outputs": [
    {
     "data": {
      "text/latex": [
       "$\\displaystyle \\left[\\begin{matrix}T_{s}^{4} \\sigma\\\\T_{0}^{4} \\epsilon \\sigma + T_{s}^{4} \\sigma \\left(1 - \\epsilon\\right)\\\\T_{1}^{4} \\epsilon \\sigma + \\left(1 - \\epsilon\\right) \\left(T_{0}^{4} \\epsilon \\sigma + T_{s}^{4} \\sigma \\left(1 - \\epsilon\\right)\\right)\\end{matrix}\\right]$"
      ],
      "text/plain": [
       "⎡                     4                     ⎤\n",
       "⎢                   Tₛ ⋅σ                   ⎥\n",
       "⎢                                           ⎥\n",
       "⎢            4         4                    ⎥\n",
       "⎢          T₀ ⋅ε⋅σ + Tₛ ⋅σ⋅(1 - ε)          ⎥\n",
       "⎢                                           ⎥\n",
       "⎢  4               ⎛  4         4          ⎞⎥\n",
       "⎣T₁ ⋅ε⋅σ + (1 - ε)⋅⎝T₀ ⋅ε⋅σ + Tₛ ⋅σ⋅(1 - ε)⎠⎦"
      ]
     },
     "execution_count": 14,
     "metadata": {},
     "output_type": "execute_result"
    }
   ],
   "source": [
    "U = sympy.Matrix([U_0, U_1, U_2])\n",
    "U"
   ]
  },
  {
   "cell_type": "markdown",
   "id": "146cd9bf-2d4b-40b7-829c-6e1beaa70aa8",
   "metadata": {},
   "source": [
    "#### 3.5 Downwelling beam"
   ]
  },
  {
   "cell_type": "markdown",
   "id": "e1c2a3c2-1c7c-4779-a7aa-88d846aaa549",
   "metadata": {},
   "source": [
    "Let $D$ be the downwelling longwave beam as shown in the diagram.  There is no longwave radiation coming in from space so we begin with:\n",
    "\n",
    "$D_2$ = 0\n",
    "\n",
    "Between layer 1 and layer 0 the beam contains emissions from layer 1:\n",
    "\n",
    "$D_1$ = (1-ε)$D_2$ + $E_1$\n",
    "\n",
    "Between layer 0 and the surface the beam contains a transmitted component and the emissions from layer 0:\n",
    "\n",
    "$D_0$ = (1-ε)$D_1$ + $E_0$\n",
    "\n",
    "This $D_0$ constitutes **back radiation**, namely the longwave radiation from the atmosphere back down to the surface.  We can build these values as follows:"
   ]
  },
  {
   "cell_type": "code",
   "execution_count": 15,
   "id": "5f89cb7e-ffdb-43e2-aae8-bc076910a863",
   "metadata": {},
   "outputs": [
    {
     "data": {
      "image/png": "[encoded data removed]",
      "text/latex": [
       "$\\displaystyle T_{0}^{4} \\epsilon \\sigma + T_{1}^{4} \\epsilon \\sigma \\left(1 - \\epsilon\\right)$"
      ],
      "text/plain": [
       "  4         4            \n",
       "T₀ ⋅ε⋅σ + T₁ ⋅ε⋅σ⋅(1 - ε)"
      ]
     },
     "execution_count": 15,
     "metadata": {},
     "output_type": "execute_result"
    }
   ],
   "source": [
    "fromspace = 0\n",
    "D_2 = fromspace\n",
    "D_1 = (1-epsilon)*D_2 + E_1\n",
    "D_0 = (1-epsilon)*D_1 + E_0\n",
    "D_0"
   ]
  },
  {
   "cell_type": "markdown",
   "id": "47829833-2604-46a7-ae3e-8b71b14ba22c",
   "metadata": {},
   "source": [
    "Let's code this stack up in a column vector $D$ using `sympy` once more in order `[surface, layer 0, layer 1]`:"
   ]
  },
  {
   "cell_type": "code",
   "execution_count": 16,
   "id": "65249859-db02-4301-b964-19eb2c6d2a0d",
   "metadata": {},
   "outputs": [
    {
     "data": {
      "text/latex": [
       "$\\displaystyle \\left[\\begin{matrix}T_{0}^{4} \\epsilon \\sigma + T_{1}^{4} \\epsilon \\sigma \\left(1 - \\epsilon\\right)\\\\T_{1}^{4} \\epsilon \\sigma\\\\0\\end{matrix}\\right]$"
      ],
      "text/plain": [
       "⎡  4         4            ⎤\n",
       "⎢T₀ ⋅ε⋅σ + T₁ ⋅ε⋅σ⋅(1 - ε)⎥\n",
       "⎢                         ⎥\n",
       "⎢           4             ⎥\n",
       "⎢         T₁ ⋅ε⋅σ         ⎥\n",
       "⎢                         ⎥\n",
       "⎣            0            ⎦"
      ]
     },
     "execution_count": 16,
     "metadata": {},
     "output_type": "execute_result"
    }
   ],
   "source": [
    "D = sympy.Matrix([D_0, D_1, D_2])\n",
    "D"
   ]
  },
  {
   "cell_type": "markdown",
   "id": "5f7f4129-d569-4eea-81f3-85dcf5a1c331",
   "metadata": {},
   "source": [
    "#### 3.6 Solving for $T_s$, $T_0$ and $T_1$"
   ]
  },
  {
   "cell_type": "markdown",
   "id": "2ed68a79-87d6-409a-9aa5-897c69d6aa9e",
   "metadata": {},
   "source": [
    "Now we have all the elements we need to solve a set of equations for $T_s$, $T_0$ and $T_1$.  Our atmosphere is not isothermal.  These temperatures drop as you go through the layers from the surface of earth to the top of the atmosphere (TOA) according to the **[lapse rate](https://en.wikipedia.org/wiki/Lapse_rate)**:\n",
    "> The lapse rate is the rate at which an atmospheric variable, normally temperature in Earth's atmosphere, falls with altitude. Lapse rate arises from the word lapse, in the sense of a gradual fall."
   ]
  },
  {
   "cell_type": "markdown",
   "id": "a392cc8b-670b-43e6-9548-eeeff72ef439",
   "metadata": {},
   "source": [
    "It turns out that lots of different physical processes contribute to setting the lapse rate.  Understanding how these processes acts together and how they change as the climate changes is one of the key reasons for which we need more complex climate models. For now, we will use our toy greenhouse model to do the most basic lapse rate calculation which is the **radiative equilibrium temperature** which assumes that:\n",
    "* the only exchange of energy between layers is longwave radiation\n",
    "* equilibrium is achieved when the net radiative flux convergence in each layer is zero."
   ]
  },
  {
   "cell_type": "markdown",
   "id": "ad725030-f3b5-4434-ae94-1bec5e2b0160",
   "metadata": {},
   "source": [
    "First, the **net upwelling flux** $F$ is just the difference between flux up and flux down:"
   ]
  },
  {
   "cell_type": "code",
   "execution_count": 17,
   "id": "7a2605bd-e0ef-4768-9dd2-73886bb705e0",
   "metadata": {},
   "outputs": [
    {
     "data": {
      "text/latex": [
       "$\\displaystyle \\left[\\begin{matrix}- T_{0}^{4} \\epsilon \\sigma - T_{1}^{4} \\epsilon \\sigma \\left(1 - \\epsilon\\right) + T_{s}^{4} \\sigma\\\\T_{0}^{4} \\epsilon \\sigma - T_{1}^{4} \\epsilon \\sigma + T_{s}^{4} \\sigma \\left(1 - \\epsilon\\right)\\\\T_{1}^{4} \\epsilon \\sigma + \\left(1 - \\epsilon\\right) \\left(T_{0}^{4} \\epsilon \\sigma + T_{s}^{4} \\sigma \\left(1 - \\epsilon\\right)\\right)\\end{matrix}\\right]$"
      ],
      "text/plain": [
       "⎡        4         4                 4      ⎤\n",
       "⎢    - T₀ ⋅ε⋅σ - T₁ ⋅ε⋅σ⋅(1 - ε) + Tₛ ⋅σ    ⎥\n",
       "⎢                                           ⎥\n",
       "⎢       4         4         4               ⎥\n",
       "⎢     T₀ ⋅ε⋅σ - T₁ ⋅ε⋅σ + Tₛ ⋅σ⋅(1 - ε)     ⎥\n",
       "⎢                                           ⎥\n",
       "⎢  4               ⎛  4         4          ⎞⎥\n",
       "⎣T₁ ⋅ε⋅σ + (1 - ε)⋅⎝T₀ ⋅ε⋅σ + Tₛ ⋅σ⋅(1 - ε)⎠⎦"
      ]
     },
     "execution_count": 17,
     "metadata": {},
     "output_type": "execute_result"
    }
   ],
   "source": [
    "F = U-D\n",
    "F"
   ]
  },
  {
   "cell_type": "markdown",
   "id": "423248f1-5e54-40c8-bf1f-002cf8b76fbf",
   "metadata": {},
   "source": [
    "**Net absorption** is the flux convergence in each layer.  In other words the difference between what's coming in the bottom and what's going out the top of each layer."
   ]
  },
  {
   "cell_type": "code",
   "execution_count": 18,
   "id": "32a41ee9-6bb9-42b6-9ab3-06774be551ff",
   "metadata": {},
   "outputs": [],
   "source": [
    "# define a vector of absorbed radiation which is the same size as emissions\n",
    "A = E.copy()\n",
    "#  absorbed radiation at surface\n",
    "A[0] = F[0]\n",
    "# Compute the convergence\n",
    "for n in range(2):\n",
    "    A[n+1] = -(F[n+1]-F[n])"
   ]
  },
  {
   "cell_type": "markdown",
   "id": "bd349573-2d54-494c-9f9d-8720bd3d2b62",
   "metadata": {},
   "source": [
    "Radiative equilibrium means **net absorption is zero** in the atmosphere.  The only other heat source is the incoming shortwave heating at the surface.  Putting that together as an equation yields the following equation for radiative equilibrium or `radeq`:"
   ]
  },
  {
   "cell_type": "code",
   "execution_count": 19,
   "id": "1571e312-886a-4bd6-a934-9bfb37134850",
   "metadata": {},
   "outputs": [
    {
     "data": {
      "text/latex": [
       "$\\displaystyle \\left[\\begin{matrix}- T_{0}^{4} \\epsilon \\sigma - T_{1}^{4} \\epsilon \\sigma \\left(1 - \\epsilon\\right) + T_{s}^{4} \\sigma\\\\- 2 T_{0}^{4} \\epsilon \\sigma - T_{1}^{4} \\epsilon \\sigma \\left(1 - \\epsilon\\right) + T_{1}^{4} \\epsilon \\sigma - T_{s}^{4} \\sigma \\left(1 - \\epsilon\\right) + T_{s}^{4} \\sigma\\\\T_{0}^{4} \\epsilon \\sigma - 2 T_{1}^{4} \\epsilon \\sigma + T_{s}^{4} \\sigma \\left(1 - \\epsilon\\right) - \\left(1 - \\epsilon\\right) \\left(T_{0}^{4} \\epsilon \\sigma + T_{s}^{4} \\sigma \\left(1 - \\epsilon\\right)\\right)\\end{matrix}\\right] = \\left[\\begin{matrix}Q \\left(1 - \\alpha\\right)\\\\0\\\\0\\end{matrix}\\right]$"
      ],
      "text/plain": [
       "⎡                      4         4                 4                    ⎤      ↪\n",
       "⎢                  - T₀ ⋅ε⋅σ - T₁ ⋅ε⋅σ⋅(1 - ε) + Tₛ ⋅σ                  ⎥      ↪\n",
       "⎢                                                                       ⎥   ⎡Q ↪\n",
       "⎢          4         4                 4         4               4      ⎥   ⎢  ↪\n",
       "⎢    - 2⋅T₀ ⋅ε⋅σ - T₁ ⋅ε⋅σ⋅(1 - ε) + T₁ ⋅ε⋅σ - Tₛ ⋅σ⋅(1 - ε) + Tₛ ⋅σ    ⎥ = ⎢  ↪\n",
       "⎢                                                                       ⎥   ⎢  ↪\n",
       "⎢  4           4         4                     ⎛  4         4          ⎞⎥   ⎣  ↪\n",
       "⎣T₀ ⋅ε⋅σ - 2⋅T₁ ⋅ε⋅σ + Tₛ ⋅σ⋅(1 - ε) - (1 - ε)⋅⎝T₀ ⋅ε⋅σ + Tₛ ⋅σ⋅(1 - ε)⎠⎦      ↪\n",
       "\n",
       "↪          \n",
       "↪          \n",
       "↪ ⋅(1 - α)⎤\n",
       "↪         ⎥\n",
       "↪    0    ⎥\n",
       "↪         ⎥\n",
       "↪    0    ⎦\n",
       "↪          "
      ]
     },
     "execution_count": 19,
     "metadata": {},
     "output_type": "execute_result"
    }
   ],
   "source": [
    "radeq = sympy.Equality(A, ASR)\n",
    "radeq"
   ]
  },
  {
   "cell_type": "markdown",
   "id": "b5450cc7-70e2-4084-92a7-cdfe47389d7d",
   "metadata": {},
   "source": [
    "Just as we did for the 1-layer model, it is helpful to rewrite this system using the definition of the **emission temperture** $T_e$:\n",
    "\n",
    "$(1- α)Q = \\sigma T_e^4$"
   ]
  },
  {
   "cell_type": "code",
   "execution_count": 20,
   "id": "cc35b4f5-70f7-4914-a207-1e2fcd3fe2b3",
   "metadata": {},
   "outputs": [
    {
     "data": {
      "text/latex": [
       "$\\displaystyle \\left[\\begin{matrix}- T_{0}^{4} \\epsilon \\sigma - T_{1}^{4} \\epsilon \\sigma \\left(1 - \\epsilon\\right) + T_{s}^{4} \\sigma\\\\- 2 T_{0}^{4} \\epsilon \\sigma - T_{1}^{4} \\epsilon \\sigma \\left(1 - \\epsilon\\right) + T_{1}^{4} \\epsilon \\sigma - T_{s}^{4} \\sigma \\left(1 - \\epsilon\\right) + T_{s}^{4} \\sigma\\\\T_{0}^{4} \\epsilon \\sigma - 2 T_{1}^{4} \\epsilon \\sigma + T_{s}^{4} \\sigma \\left(1 - \\epsilon\\right) - \\left(1 - \\epsilon\\right) \\left(T_{0}^{4} \\epsilon \\sigma + T_{s}^{4} \\sigma \\left(1 - \\epsilon\\right)\\right)\\end{matrix}\\right] = \\left[\\begin{matrix}T_{e}^{4} \\sigma\\\\0\\\\0\\end{matrix}\\right]$"
      ],
      "text/plain": [
       "⎡                      4         4                 4                    ⎤      ↪\n",
       "⎢                  - T₀ ⋅ε⋅σ - T₁ ⋅ε⋅σ⋅(1 - ε) + Tₛ ⋅σ                  ⎥   ⎡  ↪\n",
       "⎢                                                                       ⎥   ⎢T ↪\n",
       "⎢          4         4                 4         4               4      ⎥   ⎢  ↪\n",
       "⎢    - 2⋅T₀ ⋅ε⋅σ - T₁ ⋅ε⋅σ⋅(1 - ε) + T₁ ⋅ε⋅σ - Tₛ ⋅σ⋅(1 - ε) + Tₛ ⋅σ    ⎥ = ⎢  ↪\n",
       "⎢                                                                       ⎥   ⎢  ↪\n",
       "⎢  4           4         4                     ⎛  4         4          ⎞⎥   ⎣  ↪\n",
       "⎣T₀ ⋅ε⋅σ - 2⋅T₁ ⋅ε⋅σ + Tₛ ⋅σ⋅(1 - ε) - (1 - ε)⋅⎝T₀ ⋅ε⋅σ + Tₛ ⋅σ⋅(1 - ε)⎠⎦      ↪\n",
       "\n",
       "↪      \n",
       "↪  4  ⎤\n",
       "↪ ₑ ⋅σ⎥\n",
       "↪     ⎥\n",
       "↪  0  ⎥\n",
       "↪     ⎥\n",
       "↪  0  ⎦\n",
       "↪      "
      ]
     },
     "execution_count": 20,
     "metadata": {},
     "output_type": "execute_result"
    }
   ],
   "source": [
    "radeq2 = radeq.subs([((1-alpha)*Q, sigma*T_e**4)])\n",
    "radeq2"
   ]
  },
  {
   "cell_type": "markdown",
   "id": "c980dd1a-9b81-4924-a31a-6e73ff61e1c1",
   "metadata": {},
   "source": [
    "In this form we can see that we actually have a linear system of equations for a set of variables \n",
    "$T_s^4$, $T_0^4$, $T_1^4$.  We can solve this matrix problem to get these as functions of $T_e^4$.  The following produces a dictionary of solutions for the fourth power of the temperatures."
   ]
  },
  {
   "cell_type": "code",
   "execution_count": 21,
   "id": "0330cd14-e769-46da-80b1-6a187ae0eeee",
   "metadata": {},
   "outputs": [
    {
     "data": {
      "image/png": "[encoded data removed]",
      "text/latex": [
       "$\\displaystyle \\left\\{ T_{0}^{4} : \\frac{- T_{e}^{4} \\epsilon - T_{e}^{4}}{\\epsilon - 2}, \\  T_{1}^{4} : - \\frac{T_{e}^{4}}{\\epsilon - 2}, \\  T_{s}^{4} : \\frac{- T_{e}^{4} \\epsilon - 2 T_{e}^{4}}{\\epsilon - 2}\\right\\}$"
      ],
      "text/plain": [
       "⎧         4       4          4            4         4⎫\n",
       "⎪  4  - Tₑ ⋅ε - Tₑ     4  -Tₑ      4  - Tₑ ⋅ε - 2⋅Tₑ ⎪\n",
       "⎨T₀ : ─────────────, T₁ : ─────, Tₛ : ───────────────⎬\n",
       "⎪         ε - 2           ε - 2            ε - 2     ⎪\n",
       "⎩                                                    ⎭"
      ]
     },
     "execution_count": 21,
     "metadata": {},
     "output_type": "execute_result"
    }
   ],
   "source": [
    "# Solve for radiative equilibrium \n",
    "fourthpower = sympy.solve(radeq2, [T_s**4, T_1**4, T_0**4])\n",
    "fourthpower"
   ]
  },
  {
   "cell_type": "markdown",
   "id": "66397086-26a0-40aa-acdf-837a72906454",
   "metadata": {},
   "source": [
    "A little manipulation gets us the solutions for temperatures that we want:"
   ]
  },
  {
   "cell_type": "code",
   "execution_count": 22,
   "id": "edc94ab0-8f31-469d-bc5b-1aa88fe34f7d",
   "metadata": {},
   "outputs": [
    {
     "data": {
      "text/latex": [
       "$\\displaystyle \\left[\\begin{matrix}T_{s}\\\\T_{0}\\\\T_{1}\\end{matrix}\\right] = \\left[\\begin{matrix}\\sqrt[4]{\\frac{- T_{e}^{4} \\epsilon - 2 T_{e}^{4}}{\\epsilon - 2}}\\\\\\sqrt[4]{\\frac{- T_{e}^{4} \\epsilon - T_{e}^{4}}{\\epsilon - 2}}\\\\T_{e} \\sqrt[4]{- \\frac{1}{\\epsilon - 2}}\\end{matrix}\\right]$"
      ],
      "text/plain": [
       "       ⎡     _________________⎤\n",
       "       ⎢    ╱     4         4 ⎥\n",
       "       ⎢   ╱  - Tₑ ⋅ε - 2⋅Tₑ  ⎥\n",
       "       ⎢4 ╱   ─────────────── ⎥\n",
       "       ⎢╲╱         ε - 2      ⎥\n",
       "       ⎢                      ⎥\n",
       "⎡Tₛ⎤   ⎢      _______________ ⎥\n",
       "⎢  ⎥   ⎢     ╱     4       4  ⎥\n",
       "⎢T₀⎥ = ⎢    ╱  - Tₑ ⋅ε - Tₑ   ⎥\n",
       "⎢  ⎥   ⎢ 4 ╱   ─────────────  ⎥\n",
       "⎣T₁⎦   ⎢ ╲╱        ε - 2      ⎥\n",
       "       ⎢                      ⎥\n",
       "       ⎢           _______    ⎥\n",
       "       ⎢          ╱  -1       ⎥\n",
       "       ⎢    Tₑ⋅4 ╱  ─────     ⎥\n",
       "       ⎣       ╲╱   ε - 2     ⎦"
      ]
     },
     "execution_count": 22,
     "metadata": {},
     "output_type": "execute_result"
    }
   ],
   "source": [
    "# need the symbolic fourth root operation\n",
    "from sympy.simplify.simplify import nthroot\n",
    "\n",
    "fourthpower_list = [fourthpower[key] for key in [T_s**4, T_0**4, T_1**4]]\n",
    "solution = sympy.Matrix([nthroot(item,4) for item in fourthpower_list])\n",
    "#  Display result as matrix equation!\n",
    "T = sympy.Matrix([T_s, T_0, T_1])\n",
    "sympy.Equality(T, solution)"
   ]
  },
  {
   "cell_type": "markdown",
   "id": "7e71fcb9-e809-4d88-aa9c-dabc188b544c",
   "metadata": {},
   "source": [
    "Plugging in the value of ε allows us to get the solutions in terms of $T_e$:"
   ]
  },
  {
   "cell_type": "code",
   "execution_count": 23,
   "id": "88e6cf73-8997-455e-8860-00025d31a02e",
   "metadata": {},
   "outputs": [
    {
     "data": {
      "text/latex": [
       "$\\displaystyle \\left[\\begin{matrix}T_{s}\\\\T_{0}\\\\T_{1}\\end{matrix}\\right] = \\left[\\begin{matrix}1.16100165920293 T_{e}\\\\1.02705141589558 T_{e}\\\\0.916068424462217 T_{e}\\end{matrix}\\right]$"
      ],
      "text/plain": [
       "⎡Tₛ⎤   ⎡1.16100165920293⋅Tₑ ⎤\n",
       "⎢  ⎥   ⎢                    ⎥\n",
       "⎢T₀⎥ = ⎢1.02705141589558⋅Tₑ ⎥\n",
       "⎢  ⎥   ⎢                    ⎥\n",
       "⎣T₁⎦   ⎣0.916068424462217⋅Tₑ⎦"
      ]
     },
     "execution_count": 23,
     "metadata": {},
     "output_type": "execute_result"
    }
   ],
   "source": [
    "Tsolution = solution.subs(v)\n",
    "#  Display result as matrix equation\n",
    "sympy.Equality(T, Tsolution)"
   ]
  },
  {
   "cell_type": "markdown",
   "id": "ecca3206-1973-4b1d-be58-d29a106ab4a3",
   "metadata": {},
   "source": [
    "Now we just need to know the Earth's emission temperature $T_e$ which is measured as 255K:"
   ]
  },
  {
   "cell_type": "code",
   "execution_count": 24,
   "id": "65bc6d83-d1e2-4a3f-a500-39161be75dd7",
   "metadata": {},
   "outputs": [
    {
     "data": {
      "text/latex": [
       "$\\displaystyle \\left[\\begin{matrix}T_{s}\\\\T_{0}\\\\T_{1}\\end{matrix}\\right] = \\left[\\begin{matrix}296.1\\\\261.9\\\\233.6\\end{matrix}\\right]$"
      ],
      "text/plain": [
       "⎡Tₛ⎤   ⎡296.1⎤\n",
       "⎢  ⎥   ⎢     ⎥\n",
       "⎢T₀⎥ = ⎢261.9⎥\n",
       "⎢  ⎥   ⎢     ⎥\n",
       "⎣T₁⎦   ⎣233.6⎦"
      ]
     },
     "execution_count": 24,
     "metadata": {},
     "output_type": "execute_result"
    }
   ],
   "source": [
    "Te_value = 255\n",
    "\n",
    "#  Output 4 significant digits\n",
    "Trad = sympy.N(Tsolution.subs([(T_e, Te_value)]), 4)\n",
    "sympy.Equality(T, Trad)"
   ]
  },
  {
   "cell_type": "markdown",
   "id": "3b5415b4-114b-4c1c-b9f0-201be9715dea",
   "metadata": {},
   "source": [
    "Let's compare this with what we observe which was plugged into `v` earlier:"
   ]
  },
  {
   "cell_type": "code",
   "execution_count": 25,
   "id": "d3024608-6579-4148-ac2a-4995220858b5",
   "metadata": {},
   "outputs": [
    {
     "data": {
      "text/latex": [
       "$\\displaystyle \\left[\\begin{matrix}T_{s}\\\\T_{0}\\\\T_{1}\\end{matrix}\\right] = \\left[\\begin{matrix}288\\\\275\\\\230\\end{matrix}\\right]$"
      ],
      "text/plain": [
       "⎡Tₛ⎤   ⎡288⎤\n",
       "⎢  ⎥   ⎢   ⎥\n",
       "⎢T₀⎥ = ⎢275⎥\n",
       "⎢  ⎥   ⎢   ⎥\n",
       "⎣T₁⎦   ⎣230⎦"
      ]
     },
     "execution_count": 25,
     "metadata": {},
     "output_type": "execute_result"
    }
   ],
   "source": [
    "sympy.Equality(T, T.subs(v))"
   ]
  },
  {
   "cell_type": "markdown",
   "id": "8fde03b0-a6ad-41ed-9def-67e0163ecab4",
   "metadata": {},
   "source": [
    "We observe that the radiative equilibrium solution is substantially warmer at the surface and colder in the lower troposphere than reality. This is a general feature of radiative equilibrium so using it as the basis for our greenhouse model is not a complete picture.  We will need to refine our model to get closer to the observed lapse rate value for atmospheric temperature. We are going to have a look at that observed lapse rate next and "
   ]
  },
  {
   "cell_type": "markdown",
   "id": "4aa5668c-4fae-4d12-952e-ed21a6cd275e",
   "metadata": {},
   "source": [
    "### 5. EBM v4 with 30 layer GHG contribution using `climlab`"
   ]
  },
  {
   "cell_type": "markdown",
   "id": "0de0b3a9-2cb6-4806-8348-4bc06ccedd51",
   "metadata": {},
   "source": [
    "#### 5.1 Introducing `climlab` and using it with our simple EBM models"
   ]
  },
  {
   "cell_type": "markdown",
   "id": "d6736e3c-c319-418a-ad84-5df6dd4bf754",
   "metadata": {},
   "source": [
    "`climlab` is a python package for climate modeling.  It provides a very general concept of a model as a collection of interacting processes each of which can contain a complex tree of sub-processes all inheriting from a `Process` class.  New classes of model can easily be defined and run interactively by putting together an appropriate collection of sub-processes.  Install it thus:\n",
    "```\n",
    "$ pip install climlab\n",
    "```"
   ]
  },
  {
   "cell_type": "markdown",
   "id": "c5de8ad4-f604-4dcb-8e1f-a8ae11b8cc3c",
   "metadata": {},
   "source": [
    "Let's see what it does with our zero-dimensional EBM with the ε fudge factor from section 2 of this notebook.  Do we get the same expected equilibrium surface temperature $T_s$ of 288.65K and $ASR$ of 240.1 $W/m^2$?  In order to get started we will build a simple EBM with just the two processes addressing OLR and ASR.  We will use the ε fudge factor in `tau` and then step through 730 days (approximately two years) to ensure the EBM reaches radiative equilibrium:"
   ]
  },
  {
   "cell_type": "code",
   "execution_count": 26,
   "id": "18a4a94f-e02b-4b5e-8581-54b433421ece",
   "metadata": {},
   "outputs": [
    {
     "name": "stdout",
     "output_type": "stream",
     "text": [
      "1. Created simple EBM with the following Processes:/nAttrDict({'OutgoingLongwave': <climlab.radiation.boltzmann.Boltzmann object at 0x165ea1850>, 'AbsorbedShortwave': <climlab.radiation.absorbed_shorwave.SimpleAbsorbedShortwave object at 0x1171a1010>})\n",
      "2. Running to radiative equlibrium by stepping through 730 days\n",
      "3. State values:\n",
      "AttrDict({'Ts': Field([[15.49410157]])})\n",
      "---------------\n",
      "Ts = [288.64410157]\n",
      "ASR = 240.1 W/m2\n",
      "\n"
     ]
    }
   ],
   "source": [
    "import warnings\n",
    "with warnings.catch_warnings():\n",
    "    warnings.simplefilter(\"ignore\")\n",
    "    import climlab\n",
    "\n",
    "# create a zero-dimensional domain with a single surface temperature\n",
    "state = climlab.surface_state(num_lat=1,  # a single point\n",
    "                              water_depth = 100.,  # 100 meters slab of water (sets the heat capacity)\n",
    "                             )\n",
    "#  create the longwave radiation process\n",
    "olr = climlab.radiation.Boltzmann(name='OutgoingLongwave',\n",
    "                                  state=state, \n",
    "                                  tau = ε,\n",
    "                                  eps = 1.,\n",
    "                                  timestep = 60*60*24*30.)\n",
    "#  create the shortwave radiation process\n",
    "asr = climlab.radiation.SimpleAbsorbedShortwave(name='AbsorbedShortwave',\n",
    "                                  state=state, \n",
    "                                  insolation=S/4, \n",
    "                                  albedo=α,\n",
    "                                  timestep = 60*60*24*30.)\n",
    "#  couple them together into a single model equivalent to our v2 EBM above.\n",
    "ebm1 = olr + asr\n",
    "#  Give the parent process name\n",
    "ebm1.name = 'Zero dimensional EBM with fudge factor'\n",
    "print(f\"1. Created simple EBM with the following Processes:/n{ebm1.subprocess}\")\n",
    "days = 730\n",
    "print(f\"2. Running to radiative equlibrium by stepping through {days} days\")\n",
    "for i in range(days):\n",
    "    ebm1.step_forward()\n",
    "print(f\"3. State values:\\n{ebm1.state}\")\n",
    "# Need to convert to K\n",
    "Ts = celsius_to_kelvin(ebm1.state.get('Ts')[0]) \n",
    "ASR = ebm1.diagnostics.get('ASR')\n",
    "print(f\"---------------\\nTs = {Ts}\\nASR = {ASR} W/m2\\n\")"
   ]
  },
  {
   "cell_type": "markdown",
   "id": "a7af3548-34dd-42a8-a5d8-d38200eaae53",
   "metadata": {},
   "source": [
    "This is close to the observed values."
   ]
  },
  {
   "cell_type": "markdown",
   "id": "3baddb16-1dfa-4fbf-aa0f-1cbbc311c495",
   "metadata": {},
   "source": [
    "Now let's see what it does with radiative equilibrium in a two-layer model where we are expecting $T_s$=296.1K, $T_0$=261.9K and $T_1$=233.6K.  The absorptivity value here comes from the analysis [in this notebook](https://github.com/brian-rose/ClimateModeling_courseware/blob/master/Lectures/Lecture07%20--%20Elementary%20greenhouse%20models.ipynb).  Here we switch the step through in time to a convenience function called `integrate_years`:"
   ]
  },
  {
   "cell_type": "code",
   "execution_count": 27,
   "id": "faf648d0-c680-4884-b467-1b307ec9722e",
   "metadata": {},
   "outputs": [
    {
     "name": "stdout",
     "output_type": "stream",
     "text": [
      "1. Created `GreyRadiationModel` with the following Processes:/nAttrDict({'LW': <climlab.radiation.greygas.GreyGas object at 0x164af9590>, 'SW': <climlab.radiation.greygas.GreyGasSW object at 0x16613b350>, 'insolation': <climlab.radiation.insolation.FixedInsolation object at 0x16613b750>})\n",
      "2. Running to radiative equlibrium over 30.0 years\n",
      "Integrating for 10957 steps, 10957.266000000001 days, or 30.0 years.\n",
      "Total elapsed time is 29.999271716137947 years.\n",
      "3. State values:\n",
      "AttrDict({'Ts': Field([296.38447744]), 'Tatm': Field([233.72131677, 262.28540225])})\n",
      "---------------\n",
      "Ts = 296.3844774386438\n",
      "T0 = 262.28540225146156\n",
      "T1 = 233.72131677329338\n"
     ]
    }
   ],
   "source": [
    "ebm3 = climlab.GreyRadiationModel(num_lev=2)\n",
    "print(f\"1. Created `GreyRadiationModel` with the following Processes:/n{ebm3.subprocess}\")\n",
    "LW = ebm3.subprocess['LW']\n",
    "#  copying the tuned value of epsilon from Lecture 6 notes\n",
    "LW.absorptivity = 0.586\n",
    "years = 30.\n",
    "print(f\"2. Running to radiative equlibrium over {years} years\")\n",
    "ebm3.compute_diagnostics()\n",
    "ebm3.integrate_years(years)\n",
    "#  The temperatures at radiative equilibrium\n",
    "print(f\"3. State values:\\n{ebm3.state}\")\n",
    "Ts = ebm3.state.get('Ts')[0]\n",
    "T1,T0 = ebm3.state.get('Tatm')\n",
    "print(f\"---------------\\nTs = {Ts}\\nT0 = {T0}\\nT1 = {T1}\")"
   ]
  },
  {
   "cell_type": "markdown",
   "id": "abc11e04-f4d4-4018-9dd3-cd679d5cd842",
   "metadata": {},
   "source": [
    "This is also close to the observed values."
   ]
  },
  {
   "cell_type": "markdown",
   "id": "021b0517-b424-4ac6-9f06-a466236d24c7",
   "metadata": {},
   "source": [
    "#### 5.2 Observed 30 layer GHG model with `climlab`"
   ]
  },
  {
   "cell_type": "markdown",
   "id": "78f2e005-e4b2-42fd-b4aa-648f3f6d3bf4",
   "metadata": {},
   "source": [
    "Now we can try going to the next stage and building a model with 30 layers using `climblab`.  Before we do that, let's look at the actual observed if we break the atmosphere down into 30 layers.  The original source for this data is NOAA as outlined in [this notebook](https://github.com/brian-rose/ClimateModeling_courseware/blob/master/Lectures/Lecture08%20--%20Grey%20radiation%20modeling%20with%20climlab.ipynb).  Unfortunately it's no longer accessible so we're going to hand code the interpolated observed values in for comparison purposes:"
   ]
  },
  {
   "cell_type": "code",
   "execution_count": 28,
   "id": "64600a5b-c71b-4730-82dd-6d2f05d2035d",
   "metadata": {},
   "outputs": [
    {
     "name": "stdout",
     "output_type": "stream",
     "text": [
      "1. Created `GreyRadiationModel` with the following Processes:/nAttrDict({'LW': <climlab.radiation.greygas.GreyGas object at 0x16616cc50>, 'SW': <climlab.radiation.greygas.GreyGasSW object at 0x16616d1d0>, 'insolation': <climlab.radiation.insolation.FixedInsolation object at 0x16616d650>})\n",
      "3. State values (based on actual observations):\n",
      "AttrDict({'Ts': Field([288.65]), 'Tatm': Field([224.34736633, 211.6633606 , 206.96233453, 208.29142253,\n",
      "       212.58642578, 217.19396973, 221.78252157, 226.3520813 ,\n",
      "       231.30422974, 236.08017476, 240.67991638, 245.279658  ,\n",
      "       249.35979716, 252.92033386, 256.48087056, 259.66789246,\n",
      "       262.48139954, 265.29490662, 267.81303914, 270.03579712,\n",
      "       272.25855509, 274.21642049, 275.90939331, 277.60236613,\n",
      "       279.29533895, 280.98831177, 282.48550415, 283.98269653,\n",
      "       285.6810201 , 287.4463874 ])})\n",
      "---------------\n",
      "Ts = 288.65\n",
      "30 T values =\n",
      "[224.34736633, 211.6633606, 206.96233453, 208.29142253, 212.58642578, 217.19396973, 221.78252157, 226.3520813, 231.30422974, 236.08017476, 240.67991638, 245.279658, 249.35979716, 252.92033386, 256.48087056, 259.66789246, 262.48139954, 265.29490662, 267.81303914, 270.03579712, 272.25855509, 274.21642049, 275.90939331, 277.60236613, 279.29533895, 280.98831177, 282.48550415, 283.98269653, 285.6810201, 287.4463874]\n",
      "30 Pressures =\n",
      "[16.666666666666668, 50.0, 83.33333333333334, 116.66666666666667, 150.0, 183.33333333333334, 216.66666666666666, 250.0, 283.33333333333337, 316.6666666666667, 350.00000000000006, 383.33333333333337, 416.6666666666667, 450.00000000000006, 483.33333333333337, 516.6666666666667, 550.0, 583.3333333333334, 616.6666666666666, 650.0, 683.3333333333334, 716.6666666666666, 750.0, 783.3333333333334, 816.6666666666666, 850.0, 883.3333333333334, 916.6666666666667, 950.0, 983.3333333333334]\n"
     ]
    }
   ],
   "source": [
    "import numpy as np\n",
    "\n",
    "ebm4observed = climlab.GreyRadiationModel()\n",
    "print(f\"1. Created `GreyRadiationModel` with the following Processes:/n{ebm4observed.subprocess}\")\n",
    "LW = ebm4observed.subprocess['LW']\n",
    "Tobserved = np.array([224.34736633, 211.6633606 , 206.96233453, 208.29142253,\n",
    "       212.58642578, 217.19396973, 221.78252157, 226.3520813 ,\n",
    "       231.30422974, 236.08017476, 240.67991638, 245.279658  ,\n",
    "       249.35979716, 252.92033386, 256.48087056, 259.66789246,\n",
    "       262.48139954, 265.29490662, 267.81303914, 270.03579712,\n",
    "       272.25855509, 274.21642049, 275.90939331, 277.60236613,\n",
    "       279.29533895, 280.98831177, 282.48550415, 283.98269653,\n",
    "       285.6810201 , 287.4463874 ])\n",
    "# Initialize model with observed temperatures\n",
    "ebm4observed.Ts[:] = 288.65\n",
    "ebm4observed.Tatm[:] = Tobserved\n",
    "print(f\"3. State values (based on actual observations):\\n{ebm4observed.state}\")\n",
    "Ts = ebm4observed.state.get('Ts')[0]\n",
    "Tvalues = ebm4observed.state.get('Tatm').tolist()\n",
    "Pressures = ebm4observed.lev.tolist()\n",
    "print(f\"---------------\\nTs = {Ts}\\n{len(Tvalues)} T values =\\n{Tvalues}\\n{len(Tvalues)} Pressures =\\n{Pressures}\")"
   ]
  },
  {
   "cell_type": "markdown",
   "id": "49b1f094-30aa-4aae-acbc-085ab36643c9",
   "metadata": {},
   "source": [
    "#### 5.3 Graphing the observed temperature-pressure distribution"
   ]
  },
  {
   "cell_type": "code",
   "execution_count": 29,
   "id": "81e76312-77f7-49ad-9aa6-ff1866129eb0",
   "metadata": {},
   "outputs": [
    {
     "data": {
      "text/html": [
       "<div>\n",
       "<style scoped>\n",
       "    .dataframe tbody tr th:only-of-type {\n",
       "        vertical-align: middle;\n",
       "    }\n",
       "\n",
       "    .dataframe tbody tr th {\n",
       "        vertical-align: top;\n",
       "    }\n",
       "\n",
       "    .dataframe thead th {\n",
       "        text-align: right;\n",
       "    }\n",
       "</style>\n",
       "<table border=\"1\" class=\"dataframe\">\n",
       "  <thead>\n",
       "    <tr style=\"text-align: right;\">\n",
       "      <th></th>\n",
       "      <th>Temperature (observed)</th>\n",
       "      <th>Pressure</th>\n",
       "      <th>logPressure</th>\n",
       "    </tr>\n",
       "  </thead>\n",
       "  <tbody>\n",
       "    <tr>\n",
       "      <th>0</th>\n",
       "      <td>224.347366</td>\n",
       "      <td>16.666667</td>\n",
       "      <td>4.094345</td>\n",
       "    </tr>\n",
       "    <tr>\n",
       "      <th>1</th>\n",
       "      <td>211.663361</td>\n",
       "      <td>50.000000</td>\n",
       "      <td>2.995732</td>\n",
       "    </tr>\n",
       "    <tr>\n",
       "      <th>2</th>\n",
       "      <td>206.962335</td>\n",
       "      <td>83.333333</td>\n",
       "      <td>2.484907</td>\n",
       "    </tr>\n",
       "    <tr>\n",
       "      <th>3</th>\n",
       "      <td>208.291423</td>\n",
       "      <td>116.666667</td>\n",
       "      <td>2.148434</td>\n",
       "    </tr>\n",
       "    <tr>\n",
       "      <th>4</th>\n",
       "      <td>212.586426</td>\n",
       "      <td>150.000000</td>\n",
       "      <td>1.897120</td>\n",
       "    </tr>\n",
       "  </tbody>\n",
       "</table>\n",
       "</div>"
      ],
      "text/plain": [
       "   Temperature (observed)    Pressure  logPressure\n",
       "0              224.347366   16.666667     4.094345\n",
       "1              211.663361   50.000000     2.995732\n",
       "2              206.962335   83.333333     2.484907\n",
       "3              208.291423  116.666667     2.148434\n",
       "4              212.586426  150.000000     1.897120"
      ]
     },
     "execution_count": 29,
     "metadata": {},
     "output_type": "execute_result"
    }
   ],
   "source": [
    "import pandas as pd\n",
    "\n",
    "def zstar(lev):\n",
    "    return -np.log(lev / climlab.constants.ps)\n",
    "\n",
    "df = pd.DataFrame({'Temperature (observed)':Tvalues, 'Pressure':Pressures})\n",
    "df['logPressure'] = df.Pressure.apply(zstar)\n",
    "df.head()"
   ]
  },
  {
   "cell_type": "code",
   "execution_count": 30,
   "id": "b72efd43-21ec-4368-8f1a-19940836b404",
   "metadata": {},
   "outputs": [
    {
     "data": {
      "image/png": "[encoded data removed]",
      "text/plain": [
       "<Figure size 600x600 with 1 Axes>"
      ]
     },
     "metadata": {},
     "output_type": "display_data"
    }
   ],
   "source": [
    "def plot_temperature_profiles(df, result_list, name_list, fixed_range=True):\n",
    "    color_cycle=['r', 'y', 'b', 'g']\n",
    "    ax = df.plot(kind='line', x='Temperature (observed)', y='logPressure', \n",
    "                 color='k', label='Observed', figsize=(6,6))     \n",
    "    for i, result in enumerate(result_list):\n",
    "        ax.plot(df[result], df.logPressure, '-', markersize=1, color=color_cycle[i], label=name_list[i+1])\n",
    "    yticks = np.array([1000., 750., 500., 250., 100., 50., 20., 10., 5.])\n",
    "    ax.set_yticks(-np.log(yticks/1000.))\n",
    "    ax.set_yticklabels(yticks)\n",
    "    ax.set_xlabel('Temperature (K)', fontsize=14)\n",
    "    ax.set_ylabel('Pressure (hPa)', fontsize=14)\n",
    "    ax.grid()\n",
    "    ax.legend()\n",
    "    if fixed_range:\n",
    "        ax.set_xlim([200, 300])\n",
    "        ax.set_ylim(zstar(np.array([1000., 5.])))\n",
    "    ax.set_title(f\"Distribution of Temperature (K) vs. Log Pressure (hPa)\")\n",
    "    return ax\n",
    "\n",
    "_ = plot_temperature_profiles(df, [], ['Observed'])"
   ]
  },
  {
   "cell_type": "markdown",
   "id": "a96d3f73-90ae-4214-8463-d37726093aa5",
   "metadata": {},
   "source": [
    "Note the way the observed temperature starts to go back up in the uppermost part of the atmosphere from 100Pa upwards. This is due to the effects of convection and ozone which we will try to model in the next section.  First, let's look at where we end up with our radiative equilibrium with the `climlab` `GreyRadiationModel`:"
   ]
  },
  {
   "cell_type": "markdown",
   "id": "ae16fa27-c02a-4be0-ae90-88cbdcd5f2a5",
   "metadata": {},
   "source": [
    "#### 5.4 Radiative equilibrium in our 30 layer GHG model"
   ]
  },
  {
   "cell_type": "markdown",
   "id": "8a1819df-ff00-4385-a89f-263ef9ccb2c7",
   "metadata": {},
   "source": [
    "Let's close our `ebm4observed` model:"
   ]
  },
  {
   "cell_type": "code",
   "execution_count": 31,
   "id": "2639aaca-0771-4b04-a5e8-3281a8b98ba0",
   "metadata": {},
   "outputs": [
    {
     "name": "stdout",
     "output_type": "stream",
     "text": [
      "1. Created `GreyRadiationModel` with the following Processes:/nAttrDict({'LW': <climlab.radiation.greygas.GreyGas object at 0x16553fc90>, 'SW': <climlab.radiation.greygas.GreyGasSW object at 0x1323aac10>, 'insolation': <climlab.radiation.insolation.FixedInsolation object at 0x16641bc90>})\n",
      "2. Running to radiative equlibrium over 2.0 years\n",
      "Integrating for 730 steps, 730.4844 days, or 2.0 years.\n",
      "Total elapsed time is 1.9986737567564754 years.\n",
      "---------------\n",
      "Ts = 288.4108869344254\n",
      "30 T values =\n",
      "[215.44902047644842, 217.664222168991, 219.8137836286035, 221.90207142936322, 223.93301233644698, 225.91015158620223, 227.83670171669687, 229.7155837424394, 231.5494620799965, 233.34077433716723, 235.09175685277077, 236.8044666995119, 238.4808007260943, 240.12251210763318, 241.7312247884768, 243.30844613388922, 244.85557805264946, 246.3739268087486, 247.8647117046926, 249.32907278980235, 250.76807772297767, 252.18272789967605, 253.57396393649262, 254.9426705931254, 256.28968120010586, 257.6157816511395, 258.9217140108276, 260.20817978173744, 261.4758428690008, 262.72533227569073]\n",
      "30 Pressures =\n",
      "[16.666666666666668, 50.0, 83.33333333333334, 116.66666666666667, 150.0, 183.33333333333334, 216.66666666666666, 250.0, 283.33333333333337, 316.6666666666667, 350.00000000000006, 383.33333333333337, 416.6666666666667, 450.00000000000006, 483.33333333333337, 516.6666666666667, 550.0, 583.3333333333334, 616.6666666666666, 650.0, 683.3333333333334, 716.6666666666666, 750.0, 783.3333333333334, 816.6666666666666, 850.0, 883.3333333333334, 916.6666666666667, 950.0, 983.3333333333334]\n"
     ]
    }
   ],
   "source": [
    "ebm4 = climlab.process_like(ebm4observed)\n",
    "print(f\"1. Created `GreyRadiationModel` with the following Processes:/n{ebm4.subprocess}\")\n",
    "ebm4.subprocess['LW'].absorptivity *= 1.02\n",
    "ebm4.subprocess['LW'].absorptivity\n",
    "years = 2.\n",
    "print(f\"2. Running to radiative equlibrium over {years} years\")\n",
    "ebm4.compute_diagnostics()\n",
    "ebm4.integrate_years(years)\n",
    "#  The temperatures at radiative equilibrium\n",
    "Ts = ebm4.state.get('Ts')[0]\n",
    "Tvalues = ebm4.state.get('Tatm').tolist()\n",
    "Pressures = ebm4.lev.tolist()\n",
    "print(f\"---------------\\nTs = {Ts}\\n{len(Tvalues)} T values =\\n{Tvalues}\\n{len(Tvalues)} Pressures =\\n{Pressures}\")"
   ]
  },
  {
   "cell_type": "code",
   "execution_count": 32,
   "id": "36f17bce-cdd8-4a75-8ed4-fd9d0997d9c3",
   "metadata": {},
   "outputs": [
    {
     "data": {
      "image/png": "[encoded data removed]",
      "text/plain": [
       "<Figure size 600x600 with 1 Axes>"
      ]
     },
     "metadata": {},
     "output_type": "display_data"
    }
   ],
   "source": [
    "df['Temperature (grey gas)'] = Tvalues\n",
    "_ = plot_temperature_profiles(df, ['Temperature (grey gas)'], ['Observed','Radiative Eqm (grey gas)'])"
   ]
  },
  {
   "cell_type": "markdown",
   "id": "c040deec-66c6-4562-92de-3ea9ffe41e43",
   "metadata": {},
   "source": [
    "Some properties of the radiative equilibrium temperature profile:\n",
    "\n",
    "* The surface is warmer than observed.\n",
    "* The lower troposphere is colder than observed.\n",
    "* Very cold air is sitting immediately above the warm surface.\n",
    "* There is no tropopause, no stratosphere."
   ]
  },
  {
   "cell_type": "markdown",
   "id": "0c475d92-4594-46a4-84b7-41388167b249",
   "metadata": {},
   "source": [
    "We're going to add convection and ozone effects in the next section to get closer to the observed profile."
   ]
  },
  {
   "cell_type": "markdown",
   "id": "988e96f7-88af-4a33-b12f-595c1ca874d6",
   "metadata": {},
   "source": [
    "### 6. EBM v5 with 30 layer GHG contribution including convection and ozone impact"
   ]
  },
  {
   "cell_type": "markdown",
   "id": "ff8d59a6-c647-4877-9e1b-5552279adde5",
   "metadata": {},
   "source": [
    "#### 6.1 Accounting for convection in our 30 layer GHG model"
   ]
  },
  {
   "cell_type": "markdown",
   "id": "fcc38f95-ce1b-4c02-87a9-0cd8ab8cae13",
   "metadata": {},
   "source": [
    "The large drop in temperature in the last EBM just above the surface is unphysical.  Air in direct contact with the ground will be warmed by mechansisms other than radiative transfer and will convect upward, mixing heat content with the environment.  We can parameterize the statistical effects of this mixing through a convective adjustment which we add to `climlab` as a new `Process`.  At each timestep, the new model checks for any locations at which the **lapse rate** exceeds some threshold. Unstable layers are removed through an energy-conserving mixing formula.  Our new `ebm5` model now looks like this:"
   ]
  },
  {
   "cell_type": "code",
   "execution_count": 33,
   "id": "c1ade407-b8f5-4898-961d-dfaab2963ac5",
   "metadata": {},
   "outputs": [
    {
     "name": "stdout",
     "output_type": "stream",
     "text": [
      "1. Created `GreyRadiationModel` with Convective Adjustment. Processes:/nAttrDict({'LW': <climlab.radiation.greygas.GreyGas object at 0x16553fc90>, 'SW': <climlab.radiation.greygas.GreyGasSW object at 0x1323aac10>, 'insolation': <climlab.radiation.insolation.FixedInsolation object at 0x16641bc90>})\n",
      "2. Running to radiative equlibrium over 2.0 years\n",
      "Integrating for 730 steps, 730.4844 days, or 2.0 years.\n",
      "Total elapsed time is 3.997347513512951 years.\n",
      "---------------\n",
      "Ts = 279.98261509288375\n",
      "30 T values =\n",
      "[215.44901816184162, 217.66421988598972, 219.81378137581342, 221.9020692056435, 223.93301014085446, 225.9101494179534, 227.83669957513644, 229.71558162701504, 231.54945999024164, 233.34077227268332, 235.09175481321816, 236.80446468459675, 240.06150190195157, 243.3299406418523, 246.40454167779512, 249.30904983583338, 252.06298852097274, 254.68261608896742, 257.1816241018545, 259.5716571365545, 261.86270644667496, 264.06341267412256, 266.18130182450477, 268.22297149572546, 270.19423949289666, 272.1002636342019, 273.9456392304571, 275.73447907522973, 277.4704795984706, 279.15697597347986]\n",
      "30 Pressures =\n",
      "[16.666666666666668, 50.0, 83.33333333333334, 116.66666666666667, 150.0, 183.33333333333334, 216.66666666666666, 250.0, 283.33333333333337, 316.6666666666667, 350.00000000000006, 383.33333333333337, 416.6666666666667, 450.00000000000006, 483.33333333333337, 516.6666666666667, 550.0, 583.3333333333334, 616.6666666666666, 650.0, 683.3333333333334, 716.6666666666666, 750.0, 783.3333333333334, 816.6666666666666, 850.0, 883.3333333333334, 916.6666666666667, 950.0, 983.3333333333334]\n"
     ]
    }
   ],
   "source": [
    "from climlab import convection\n",
    "\n",
    "ebm5 = climlab.process_like(ebm4)\n",
    "conv = convection.ConvectiveAdjustment(state=ebm5.state, adj_lapse_rate=6.)\n",
    "ebm5.add_subprocess('Convective Adjustment', conv)\n",
    "print(f\"1. Created `GreyRadiationModel` with Convective Adjustment. Processes:/n{ebm4.subprocess}\")\n",
    "print(f\"2. Running to radiative equlibrium over {years} years\")\n",
    "ebm5.compute_diagnostics()\n",
    "ebm5.integrate_years(years)\n",
    "#  The temperatures at radiative equilibrium\n",
    "Ts = ebm5.state.get('Ts')[0]\n",
    "Tvalues = ebm5.state.get('Tatm').tolist()\n",
    "Pressures = ebm5.lev.tolist()\n",
    "print(f\"---------------\\nTs = {Ts}\\n{len(Tvalues)} T values =\\n{Tvalues}\\n{len(Tvalues)} Pressures =\\n{Pressures}\")"
   ]
  },
  {
   "cell_type": "markdown",
   "id": "4192c34d-a944-465e-a07e-2ee49140fd9b",
   "metadata": {},
   "source": [
    "Let's plot this onto the existing graphs:"
   ]
  },
  {
   "cell_type": "code",
   "execution_count": 34,
   "id": "039ed14a-b18f-4fce-ae3f-1e9f30c7081b",
   "metadata": {},
   "outputs": [
    {
     "data": {
      "image/png": "[encoded data removed]",
      "text/plain": [
       "<Figure size 600x600 with 1 Axes>"
      ]
     },
     "metadata": {},
     "output_type": "display_data"
    }
   ],
   "source": [
    "df['Temperature (convection)'] = Tvalues\n",
    "_ = plot_temperature_profiles(df, \n",
    "    ['Temperature (grey gas)','Temperature (convection)'], \n",
    "    ['Observed','Radiative Eqm (grey gas)','Radiative Convection Eqm (grey gas)'])"
   ]
  },
  {
   "cell_type": "markdown",
   "id": "0ea56a39-173c-4c09-bfca-3c024fe709a0",
   "metadata": {},
   "source": [
    "Introducing convective adjustment into the model cools the surface quite a bit (compared to Radiative Equilibrium, in green here) -- and warms the lower troposphere. It gives us a much better fit to observations but we still have no stratosphere.  To fix that we need to add in the impact of ozone:"
   ]
  },
  {
   "cell_type": "code",
   "execution_count": null,
   "id": "668a2a3c-ee72-4840-855f-ecf4d7590092",
   "metadata": {},
   "outputs": [],
   "source": []
  },
  {
   "cell_type": "code",
   "execution_count": null,
   "id": "06fa0d3a-7c70-4da9-9bb0-4ab802893f46",
   "metadata": {},
   "outputs": [],
   "source": []
  },
  {
   "cell_type": "code",
   "execution_count": null,
   "id": "f5930cd2-017b-4f61-87dd-acfadd5b9ab6",
   "metadata": {},
   "outputs": [],
   "source": []
  },
  {
   "cell_type": "code",
   "execution_count": null,
   "id": "0d581ae6-6272-44b6-89fc-904025eb204a",
   "metadata": {},
   "outputs": [],
   "source": []
  },
  {
   "cell_type": "markdown",
   "id": "4ccaf31a-cdae-4707-b276-bbc0d644ccd9",
   "metadata": {},
   "source": [
    "#### 6.2 Accounting for Ozone with our 30 layer GHG model"
   ]
  },
  {
   "cell_type": "markdown",
   "id": "77ce7ae0-3e26-4e53-974b-be93bea9748b",
   "metadata": {},
   "source": [
    "Now accounting for Ozone impact on ASR:"
   ]
  },
  {
   "cell_type": "code",
   "execution_count": 35,
   "id": "9536ab32-934f-450c-beec-fcd5bb8eb897",
   "metadata": {},
   "outputs": [
    {
     "name": "stdout",
     "output_type": "stream",
     "text": [
      "climlab Process of type <class 'climlab.model.column.RadiativeConvectiveModel'>. \n",
      "State variables and domain shapes: \n",
      "  Ts: (1,) \n",
      "  Tatm: (26,) \n",
      "The subprocess tree: \n",
      "Untitled: <class 'climlab.model.column.RadiativeConvectiveModel'>\n",
      "   LW: <class 'climlab.radiation.greygas.GreyGas'>\n",
      "   SW: <class 'climlab.radiation.greygas.GreyGasSW'>\n",
      "   insolation: <class 'climlab.radiation.insolation.FixedInsolation'>\n",
      "   convective adjustment: <class 'climlab.convection.convadj.ConvectiveAdjustment'>\n",
      "\n",
      "[3.20948572e-03 3.37750285e-03 4.71182520e-03 4.57614162e-03\n",
      " 3.47591232e-03 2.24450916e-03 1.18884335e-03 7.11369770e-04\n",
      " 5.50761551e-04 4.84170317e-04 4.47141483e-04 4.16507263e-04\n",
      " 3.70212237e-04 3.11732949e-04 2.62922861e-04 2.40936640e-04\n",
      " 2.45147957e-04 2.65307561e-04 2.87482284e-04 2.95567954e-04\n",
      " 2.67120892e-04 2.16427999e-04 1.66169116e-04 1.15468081e-04\n",
      " 6.79353209e-05 3.81013232e-05]\n",
      "Integrating for 3652 steps, 3652.4220000000005 days, or 10.0 years.\n",
      "Total elapsed time is 9.998844602294039 years.\n",
      "AttrDict({'Ts': Field([279.1936521]), 'Tatm': Field([251.09387799, 254.17592536, 250.6422334 , 242.00869565,\n",
      "       233.79847532, 228.31780793, 225.09192559, 224.18871135,\n",
      "       224.21217154, 224.6650731 , 225.4983181 , 226.61259252,\n",
      "       227.96663268, 229.5994629 , 231.5706678 , 233.91318968,\n",
      "       236.63426978, 241.09537612, 248.07873112, 255.26436246,\n",
      "       262.02153868, 267.72865688, 272.28816063, 275.63776913,\n",
      "       277.7312709 , 278.82734145])})\n"
     ]
    }
   ],
   "source": [
    "oz_lev = np.array([  3.544638,   7.388814,  13.967214,  23.944625,  37.23029 ,  53.114605,\n",
    "        70.05915 ,  85.439115, 100.514695, 118.250335, 139.115395, 163.66207 ,\n",
    "       192.539935, 226.513265, 266.481155, 313.501265, 368.81798 , 433.895225,\n",
    "       510.455255, 600.5242  , 696.79629 , 787.70206 , 867.16076 , 929.648875,\n",
    "       970.55483 , 992.5561  ])\n",
    "O3_global = np.array([7.827929e-06, 8.641505e-06, 7.589400e-06, 5.245671e-06, 3.177616e-06,\n",
    "       1.823200e-06, 9.807570e-07, 6.228705e-07, 4.476205e-07, 3.344812e-07,\n",
    "       2.625703e-07, 2.078981e-07, 1.570746e-07, 1.124255e-07, 8.060050e-08,\n",
    "       6.278265e-08, 5.429906e-08, 4.995061e-08, 4.600757e-08, 4.229778e-08,\n",
    "       3.805591e-08, 3.387686e-08, 3.121716e-08, 2.978071e-08, 2.879810e-08,\n",
    "       2.754299e-08])\n",
    "\n",
    "# the RadiativeConvectiveModel is pre-defined in climlab\n",
    "#  It contains the same components are our previous model\n",
    "#   But here we are specifying a different set of vertical levels.\n",
    "oz_col = climlab.RadiativeConvectiveModel(lev = oz_lev, adj_lapse_rate=6)\n",
    "print(oz_col)\n",
    "# This number is an arbitrary parameter that scales how absorptive we are making the ozone\n",
    "# in our grey gas model\n",
    "ozonefactor = 75\n",
    "dp = oz_col.Tatm.domain.lev.delta\n",
    "epsSW = O3_global * dp * ozonefactor\n",
    "oz_col.compute_diagnostics()\n",
    "oz_col.subprocess['SW'].absorptivity = epsSW\n",
    "print( oz_col.subprocess['SW'].absorptivity)\n",
    "\n",
    "oz_col.compute_diagnostics()\n",
    "oz_col.integrate_years(10.)\n",
    "print(oz_col.state)\n"
   ]
  },
  {
   "cell_type": "markdown",
   "id": "548b2dfb-221c-4620-bc5f-6dde18aa46d5",
   "metadata": {},
   "source": [
    "With v5 we have now taken EBM a long way from the very simple v1 model we started with. "
   ]
  },
  {
   "cell_type": "markdown",
   "id": "2ac87049-885f-4a0c-af6b-a630d1d3fa3d",
   "metadata": {},
   "source": [
    "### 5. Radiative Forcing"
   ]
  },
  {
   "cell_type": "markdown",
   "id": "cb5e1c68-7eb0-4eca-b816-5b77a5abbc97",
   "metadata": {},
   "source": [
    "The next stage will involve looking at the modelling **radiative forcing** defined as:\n",
    "\n",
    "```Radiative forcing = Incoming Energy – Outgoing Energy```\n",
    "\n",
    "\"Radiative forcing\" is the change in radiative flux at TOA after adding absorbers.  When incoming energy gets trapped and cannot all escape as outgoing energy, there is an increase in radiative forcing. That is intensifying as levels of CO2 and other greenhouse gases increase, resulting in Earth's average temperature rising.  Radiative forcing is also known as \"[climate forcing](https://www.climate.gov/maps-data/climate-data-primer/predicting-climate/climate-forcing )\".  Think of it as the force driving up temperatures.  The degree of radiative forcing (change in OLR) depends on the lapse rate.  To model the impact of this, we add a delta to the OLR values.  The greenhouse effect gets stronger, and energy will begin to accumulate in the system which will eventually cause temperatures to increase as the system adjusts to a new equilibrium.\n",
    "\n",
    "**Climate sensitivity** is the average change in global mean surface temperature in response to a radiative forcing. There are three chief types of climate sensitivity: \n",
    "* The \"equilibrium climate sensitivity\" (ECS) is the long-term increase in global average temperature we expect to reach once the effects of a doubled CO2 concentration have had time to reach a steady state.\n",
    "* The shorter-term \"transient climate response\" (TCR) reveals how much warmer the Earth is expected to get at that time when we double the concentration of CO2 compared to pre-industrial levels—around 280ppm. \n",
    "* The “Earth system sensitivity” (ESS) includes very long-term Earth system feedbacks, such as changes in ice sheets or in the distribution of vegetative cover.\n",
    "\n",
    "Climate sensitivity has long been \"the key uncertainty in projections of future climate change.\"\n"
   ]
  },
  {
   "cell_type": "markdown",
   "id": "ba1b8811-9ab9-49aa-95a3-74242a814618",
   "metadata": {},
   "source": [
    "### 5. Dynamic Evolution through feedback"
   ]
  },
  {
   "cell_type": "markdown",
   "id": "ee148c92-7d59-47e2-b473-74abf7ed6f9d",
   "metadata": {},
   "source": [
    "Lots of refinements are possible to a zero-dimensional EBM to model for dynamic change through feedback.  See [this lecture](https://florianboergel.github.io/climateoftheocean/2020-11-11-energy-model.html) for more detail on ways to do this."
   ]
  }
 ],
 "metadata": {
  "kernelspec": {
   "display_name": "Python 3 (ipykernel)",
   "language": "python",
   "name": "python3"
  },
  "language_info": {
   "codemirror_mode": {
    "name": "ipython",
    "version": 3
   },
   "file_extension": ".py",
   "mimetype": "text/x-python",
   "name": "python",
   "nbconvert_exporter": "python",
   "pygments_lexer": "ipython3",
   "version": "3.11.9"
  }
 },
 "nbformat": 4,
 "nbformat_minor": 5
}
