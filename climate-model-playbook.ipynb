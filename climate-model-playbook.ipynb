{
 "cells": [
  {
   "cell_type": "markdown",
   "id": "415eace1-18c7-4f6e-9fa7-951f6713de6e",
   "metadata": {},
   "source": [
    "### Climate Model Playbook"
   ]
  },
  {
   "cell_type": "markdown",
   "id": "29ea9340-82de-443f-8e58-f9235a2c6cf2",
   "metadata": {},
   "source": [
    "<p>\n",
    "Mal Minhas, v0.2<br>\n",
    "26.07.24\n",
    "</p>\n",
    "<p>\n",
    "<h4>Versions</h4>\n",
    "<ul>\n",
    "<li><b>v0.1</b>: 24.07.24. First version</li>\n",
    "<li><b>v0.2</b>: 25.07.24. Updated with extra content on EBM with GHG</li>    \n",
    "<li><b>v0.3</b>: 26.07.24. Added two layer GHG </li>    \n",
    "</ul>\n",
    "</p>"
   ]
  },
  {
   "cell_type": "markdown",
   "id": "a4cf0b37-7cda-4b02-8ebe-010ccbab9d88",
   "metadata": {},
   "source": [
    "This is a playbook for a number of toy climate models which progressively build upon the most basic Energy Balance Model (EBM).  The work here builds upon the starting point in the [terra.do LFA (Learning for Action) course](https://www.terra.do/climate-fellowship-learning-for-action/) on climate change.  It builds upon that starting point using the open source course material provided by the University of Albany in a [series of notebooks here](https://github.com/brian-rose/ClimateModeling_courseware/blob/master/Lectures/Lecture07%20--%20Elementary%20greenhouse%20models.ipynb))."
   ]
  },
  {
   "cell_type": "markdown",
   "id": "93def10c-3a0a-4ee2-8ed8-b89ded75040b",
   "metadata": {},
   "source": [
    "### 1. Zero-Dimensional Energy Balance Model v1"
   ]
  },
  {
   "cell_type": "markdown",
   "id": "684a822b-58a6-479f-b0a7-098b4b0c286e",
   "metadata": {},
   "source": [
    "A zero-dimensional **Energy Balance Model (EBM)** is a very simple toy for considering the temperature of the earth.  It considers two factors: \n",
    "1. The **energy in** which is the solar radiation (or flux) of the sun area-averaged over the surface of thea earth.  This area-average is called **insolation** or $Q$.\n",
    "2. The **energy out** which is a combination of energy *reflected out* via the albedo effect which is about 30% of that incoming flux plus the energy *radiated out* by the earth as a black body.  The energy is radiated out as infrared.  Note that black body in this context has a specific definition described by the [Stefan-Boltzmann law](https://wikipedia.org/wiki/Stefan–Boltzmann_law). For a simple first level zero-dimensional model, we the earth can be considered as one: \n",
    "> For an ideal absorber/emitter or black body, the Stefan–Boltzmann law states that the total energy radiated per unit surface area per unit time (also known as the radiant exitance) is directly proportional to the fourth power of the black body's temperature, T:\n",
    "\n",
    "$M = 𝜎T^4$\n",
    "\n",
    "The **Absorbed Shortwave Radiation (ASR)** is the part of the incoming sunlight that is not reflected back to space, i.e. that part that is absorbed somewhere within the Earth system.  \n",
    "The **Outgoing Longwave Radiation (OLR)** is the rest of the incoming sunlight that is radiated back out into space by earth as a black body.  \n",
    "The foundational principle of any simple EBM is that ASR=OLR yielding an equilibrium temperature.\n",
    "\n",
    "This most basic form of this model is covered in more detail [in this paper](http://dimacs.rutgers.edu/archive/MPE/Energy/DIMACS-EBM.pdf) and outlined in summary in [the following YouTube video](https://www.youtube.com/watch?v=M_USJDCARrM):"
   ]
  },
  {
   "cell_type": "code",
   "execution_count": 1,
   "id": "ec19ca07-adc0-48c9-804c-46cb984da9d3",
   "metadata": {},
   "outputs": [
    {
     "data": {
      "image/jpeg": "[encoded data removed]",
      "text/html": [
       "\n",
       "        <iframe\n",
       "            width=\"800\"\n",
       "            height=\"300\"\n",
       "            src=\"https://www.youtube.com/embed/M_USJDCARrM\"\n",
       "            frameborder=\"0\"\n",
       "            allowfullscreen\n",
       "            \n",
       "        ></iframe>\n",
       "        "
      ],
      "text/plain": [
       "<IPython.lib.display.YouTubeVideo at 0x1079cc210>"
      ]
     },
     "execution_count": 1,
     "metadata": {},
     "output_type": "execute_result"
    }
   ],
   "source": [
    "from IPython.display import YouTubeVideo\n",
    "YouTubeVideo('M_USJDCARrM', width=800, height=300)"
   ]
  },
  {
   "cell_type": "markdown",
   "id": "a64e25f4-2ecf-47e7-a18d-7ecd6a57844d",
   "metadata": {},
   "source": [
    "The EBM equation is presented next along with some values.  The left hand side of the equation is energy in and the right hand side energy out which is a combination of radiated and reflected energy.  Note that $S$ is solar flux in W/m$^2$, $α$ is albedo (reflectivity of earth), $T_s$ is equilibrium temperature at the surface of the earth in Kelvins and $σ$ is the [Stefan-Boltzmann constant](https://www.techtarget.com/whatis/definition/Stefan-Boltzmann-constant) which is:\n",
    "> a physical constant expressing the relationship between the heat radiation emitted by a black body and its absolute temperature that has the value\n",
    "$σ = 5.670374419... ×10^{8}W / m^2K^4$"
   ]
  },
  {
   "cell_type": "markdown",
   "id": "85270264-8357-4103-8e29-b00e2e0d6213",
   "metadata": {},
   "source": [
    "$\\frac{S}{4} = σT_s^4 + α\\frac{S}{4}$\n",
    "\n",
    "or via rearrangement:\n",
    "\n",
    "(1-α) $\\frac{S}{4}$ = σ$T_s^4$\n",
    "\n",
    "where:<br>\n",
    "$α$ (albedo) = 0.30<br>\n",
    "$S$ (solar flux) = 1372 W/m$^2$<br>\n",
    "$σ$ (Stefan-Boltzmann constant) = 5.67x10$^{−8}$ W/m$^2$K$^4$"
   ]
  },
  {
   "cell_type": "markdown",
   "id": "6947e59d-48a5-45ce-857b-aaa07834610e",
   "metadata": {},
   "source": [
    "#### Question 1: Calculate $T_s$ in Kelvins for the given values of $α$, $S$ and $σ$"
   ]
  },
  {
   "cell_type": "markdown",
   "id": "dd925455-d2f1-4b08-b1b9-7a2197964f93",
   "metadata": {},
   "source": [
    "Let's use this to build an equation that solves for T$_s$ using the provided values:"
   ]
  },
  {
   "cell_type": "code",
   "execution_count": 2,
   "id": "b4a25e92-00b9-4350-a821-589c3edf5323",
   "metadata": {},
   "outputs": [],
   "source": [
    "α = 0.30\n",
    "S = 1372 \n",
    "σ = 5.67e-8"
   ]
  },
  {
   "cell_type": "code",
   "execution_count": 3,
   "id": "13cb3a9b-41ad-4cc8-b066-32920f55f3c1",
   "metadata": {},
   "outputs": [
    {
     "name": "stdout",
     "output_type": "stream",
     "text": [
      "Equilibrium surface temperature T=255.1K\n"
     ]
    }
   ],
   "source": [
    "T = ((S/4 - α * S/4)/σ) ** (1./4.)\n",
    "print(f\"Equilibrium surface temperature T={round(T,2)}K\")"
   ]
  },
  {
   "cell_type": "markdown",
   "id": "0b6a9a19-9671-4934-adf2-745a1dc0f238",
   "metadata": {},
   "source": [
    "#### Question 2: Convert $T_s$ from K to $^{o}$C"
   ]
  },
  {
   "cell_type": "markdown",
   "id": "66a4c128-8ed6-4164-ac94-944580347728",
   "metadata": {},
   "source": [
    "We can convert K to $^o$C as follows:"
   ]
  },
  {
   "cell_type": "code",
   "execution_count": 4,
   "id": "91af6648-f8b8-4ac7-af9d-1ec1f199916a",
   "metadata": {},
   "outputs": [],
   "source": [
    "def kelvin_to_celsius(temp):\n",
    "    celcius = temp - 273.15\n",
    "    return celcius"
   ]
  },
  {
   "cell_type": "code",
   "execution_count": 5,
   "id": "b06c73db-cbd3-4968-833e-746ab0b01183",
   "metadata": {},
   "outputs": [
    {
     "name": "stdout",
     "output_type": "stream",
     "text": [
      "255.1K = -18.05 degrees C\n"
     ]
    }
   ],
   "source": [
    "print(f\"{round(T,2)}K = {round(kelvin_to_celsius(T),2)} degrees C\")"
   ]
  },
  {
   "cell_type": "markdown",
   "id": "eb26fe9a-c17f-40b6-a2c2-c322e8af9a69",
   "metadata": {},
   "source": [
    "This figure is much lower than the observed temperature on earth which is around 288K.  Why the difference?  Our toy model doesn't account the presence of **greenhouse gases (GHGs)** such as CO$_2$, O$_3$ and NO$_2$ in our atmosphere.  Although they constitute only 1% of the atmosphere, they absorb 90% of the outgoing radiation and bounce it back to earth helping to keep the earth warmer than it would otherwise be. In the next section we are going to refine our toy model by adding a layer for the atmosphere."
   ]
  },
  {
   "cell_type": "markdown",
   "id": "481163e3-1e4b-421e-a595-1619f889c138",
   "metadata": {},
   "source": [
    "### 2. Zero-Dimensional Energy Balance Model v2 - one layer GHG contribution "
   ]
  },
  {
   "cell_type": "markdown",
   "id": "3e42a75d-64d5-467b-87d0-52b49e160c6f",
   "metadata": {},
   "source": [
    "The [University of Albany notebook here](https://github.com/brian-rose/ClimateModeling_courseware/blob/master/Lectures/Lecture07%20--%20Elementary%20greenhouse%20models.ipynb) provides a starting point for modelling the contribution of greenhouse gases. The basic idea is that we need to adjust our model to allow for the fact that not all the black body radiation makes it back out into space.  Some of it is absorbed within the atmosphere by greenhouse gases.  A very simple way to model that is to introduce a new **[emissivity](https://en.wikipedia.org/wiki/Emissivity)** factor, ε, that allows for variation in the efficiency of radiation of a body in the equation as illustrated next.  ε can take a value from 0 (perfect thermal reflector) to 1 (perfect thermal absorber/emitter or black body).  Note we have reordered the terms so that the right hand side is now the $ASR$ or total proportion of solar flux that is absorbed and the right hand side is $OLR$ or total terrestrial radiation emitted back into space.  A foundational rule of all EBMs is that $ASR=OLR$."
   ]
  },
  {
   "cell_type": "markdown",
   "id": "27af3fc7-117d-4c64-bdb5-980555fba96f",
   "metadata": {},
   "source": [
    "$(1- α)Q = ε \\sigma T_s^4$\n",
    "\n",
    "where:<br>\n",
    "$Q$ = $\\frac{S}{4}$ or **[insolation](https://simple.wikipedia.org/wiki/Insolation)**<br>\n",
    "ε = **emissivity** (ranges from 0 to 1)<br>"
   ]
  },
  {
   "cell_type": "markdown",
   "id": "20cc316f-3b4d-441c-8a18-ce10d3a7630d",
   "metadata": {},
   "source": [
    "We observe ε to be around 0.61 derived from an observed value of average surface temperature T$_s$ of 288K.  Let's plug that ε value in and recalcuate T$_s$:"
   ]
  },
  {
   "cell_type": "code",
   "execution_count": 6,
   "id": "84319e40-5480-42a3-8014-43ffb0c3e1d5",
   "metadata": {},
   "outputs": [
    {
     "name": "stdout",
     "output_type": "stream",
     "text": [
      "Equilibrium surface temperature T=288.65K\n",
      "288.65K = 15.5 degrees C\n"
     ]
    }
   ],
   "source": [
    "ε = 0.61\n",
    "\n",
    "def ASR(α, S):\n",
    "    return (1-α) * S/4\n",
    "\n",
    "def equilibrium_temperature(asr, ε, σ):\n",
    "    return (asr/(ε * σ)) ** (1./4.)\n",
    "\n",
    "T = equilibrium_temperature(ASR(α, S), ε, σ)\n",
    "print(f\"Equilibrium surface temperature T={round(T,2)}K\")\n",
    "print(f\"{round(T,2)}K = {round(kelvin_to_celsius(T),2)} degrees C\")"
   ]
  },
  {
   "attachments": {},
   "cell_type": "markdown",
   "id": "7761f147-a4df-4f5f-8fcd-3eb10bdbdacf",
   "metadata": {},
   "source": [
    "We get the expected value but can we do better than introducing a ε fudge factor reverse-engineered from observation?  As outlined [here](https://github.com/brian-rose/ClimateModeling_courseware/blob/master/Lectures/Lecture07%20--%20Elementary%20greenhouse%20models.ipynb) we can model the atmosphere from first principles as a single layer under the following assumptions:\n",
    "* The atmosphere is a single layer of air at temperature $T_a$\n",
    "* The atmosphere is completely transparent to shortwave solar radiation.\n",
    "* The surface absorbs shortwave radiation $(1-α)Q$\n",
    "* The atmosphere is completely opaque to infrared radiation\n",
    "* Both surface and atmosphere emit radiation as blackbodies ($\\sigma T_s^4$, $\\sigma T_a^4$)\n",
    "* Atmosphere radiates equally up and down ($\\sigma T_a^4$)\n",
    "* There are no other heat transfer mechanisms"
   ]
  },
  {
   "attachments": {},
   "cell_type": "markdown",
   "id": "a8c8ac54-a77a-4676-ac4b-eff4adc08872",
   "metadata": {},
   "source": [
    "<div>\n",
    "<img src=\"simpleGHGmodel.png\" width=\"600\"/>\n",
    "</div>"
   ]
  },
  {
   "cell_type": "markdown",
   "id": "98d43e51-35ef-4d0f-bb99-259dc20e49cf",
   "metadata": {},
   "source": [
    "Here $\\sigma T_a^4$ pointing downwards constitutes the **downwelling or back radiation** from the atmosphere.  We know from energy balance that the blackbody radiation at the surface $\\sigma T_s^4$ must equal the sum of the blackbody radiation in the atmosphere 2$\\sigma T_a^4$.  We can use this to simplify the equilibrium energy equation at the surface as follows:"
   ]
  },
  {
   "cell_type": "markdown",
   "id": "772d359a-f1fb-4625-87e7-3c81727836ff",
   "metadata": {},
   "source": [
    "$(1- α)Q + \\sigma T_a^4 = \\sigma T_s^4$\n",
    "\n",
    "where:<br>\n",
    "$\\sigma T_a^4 = \\frac{1}{2}\\sigma T_s^4$\n",
    "\n",
    "therefore:\n",
    "$(1- α)Q = \\frac{1}{2} \\sigma T_s^4$"
   ]
  },
  {
   "cell_type": "markdown",
   "id": "c584e054-eb2e-4dc6-98a9-8ff6dd30419a",
   "metadata": {},
   "source": [
    "Note this is exactly the same as having an ε of 0.5 which yields the expected 303K:"
   ]
  },
  {
   "cell_type": "code",
   "execution_count": 7,
   "id": "607362e4-4a16-4b43-85cf-0725b04139d2",
   "metadata": {},
   "outputs": [
    {
     "name": "stdout",
     "output_type": "stream",
     "text": [
      "Equilibrium surface temperature T=303.36K\n",
      "303.36K = 30.21 degrees C\n"
     ]
    }
   ],
   "source": [
    "T = equilibrium_temperature(ASR(α, S), 0.5, σ)\n",
    "print(f\"Equilibrium surface temperature T={round(T,2)}K\")\n",
    "print(f\"{round(T,2)}K = {round(kelvin_to_celsius(T),2)} degrees C\")"
   ]
  },
  {
   "cell_type": "markdown",
   "id": "904beb0a-97b2-4a17-b5e5-0945c1699d3a",
   "metadata": {},
   "source": [
    "We have now overshot by some 15 $^o$C because our assumptions were not valid:\n",
    "* The atmosphere does absorb some solar radiation.\n",
    "* The atmosphere is NOT a perfect absorber of longwave radiation\n",
    "* Absorption and emission varies strongly with wavelength and the atmosphere does not behave like a blackbody.\n",
    "* Emissions are not determined by a single temperature T$_a$ but by the detailed vertical profile of air temperture.\n",
    "* Energy is redistributed in the vertical by a variety of dynamical transport mechanisms (e.g. convection and boundary layer turbulence)."
   ]
  },
  {
   "cell_type": "markdown",
   "id": "83e4636a-4876-4314-bb53-6bbfcb5a4d5e",
   "metadata": {},
   "source": [
    "In the next section we are going to add a second layer for the atmosphere."
   ]
  },
  {
   "cell_type": "markdown",
   "id": "2edbbc55-7412-43d6-ac5b-c42e851854a6",
   "metadata": {},
   "source": [
    "### 3. Zero-Dimensional Energy Balance Model v2 - two layer GHG contribution "
   ]
  },
  {
   "cell_type": "markdown",
   "id": "305f0770-2379-45fd-8e11-840eccec0774",
   "metadata": {},
   "source": [
    "We can generalize the one layer GHG model to build a slighly more realistic model of OLR radiative transfer by doing two things:\n",
    "* Introducing a second layer for the atmosphere to build a vertical structure\n",
    "* Modify the behaviour of each layer so it is no longer a black body (perfect thermal absorber/emitter)\n",
    "\n",
    "Doing so gives a very useful prototype model for understanding how the greenhouse effect works with the following assumptions:\n",
    "* The atmosphere is completely transparent to shortwave radiation (still)\n",
    "* We can divide the atmosphere up into two layers of equal mass (the dividing line is thus at 500 hPa pressure level)\n",
    "* Each layer **absorbs only a fraction** of whatever longwave radiation is incident upon it.\n",
    "* We will call this fraction ε, the absorptivity of the layer and is it the same in each layer"
   ]
  },
  {
   "cell_type": "markdown",
   "id": "4b99bd44-ac56-492c-b22e-3404c2006846",
   "metadata": {},
   "source": [
    "The result is termed the **grey gas** model in which emission and absorption have no spectral dependence.  We can consider it to be a \"leaky greenhouse\" on account of ε.  In order to build this model, we need to introduce one additional piece of physics known as **Kirchoff's Law** namely that at each layer *absorptivity* equals *emissibility*.  So if a layer of atmosphere at temperature $T$ absorbs a fraction ε of incident longwave radiation, it must emit $ ε \\sigma T^4$ both up and down."
   ]
  },
  {
   "cell_type": "markdown",
   "id": "c8d76e88-5562-4ab6-aa23-13042eea9edf",
   "metadata": {},
   "source": [
    "<div>\n",
    "<img src=\"twoLayerGHGmodel.png\" width=\"600\"/>\n",
    "</div>"
   ]
  },
  {
   "cell_type": "markdown",
   "id": "c7c6b47e-4dc9-4dda-bd33-98ca996f2d44",
   "metadata": {},
   "source": [
    "Features of this model:\n",
    "* Surface temperature is $T_s$\n",
    "* Atmospheric temperatures are $T_0$ and $T_1$ where $T_0$ is closest to the surface.\n",
    "* The absorptivity of every atmospheric layer is ε\n",
    "* Surface emission is $\\sigma T_s^4$\n",
    "* Atmospheric layer emission is ε$\\sigma T_s^4$ (up and down)\n",
    "* Absorptivity = emissivity for atmospheric layers\n",
    "* Only a fraction ε of the longwave beam is transmitted through each layer."
   ]
  },
  {
   "cell_type": "markdown",
   "id": "44b791b6-472e-44a9-8a13-b9a5aeb72907",
   "metadata": {},
   "source": [
    "#### 3.1 Establishing constants and observed values"
   ]
  },
  {
   "cell_type": "markdown",
   "id": "1d298ee1-692b-4b73-b925-38b20592ad90",
   "metadata": {},
   "source": [
    "We will use `sympy` an open-source symbolic math library for helping build our grey gas model.  Let's start by defining some `sympy` symbols and printing one of them out:"
   ]
  },
  {
   "cell_type": "code",
   "execution_count": 8,
   "id": "59801b4c-8e87-4f2b-822d-9a1c69abf8f3",
   "metadata": {},
   "outputs": [
    {
     "data": {
      "text/latex": [
       "$\\displaystyle T_{s}$"
      ],
      "text/plain": [
       "Tₛ"
      ]
     },
     "execution_count": 8,
     "metadata": {},
     "output_type": "execute_result"
    }
   ],
   "source": [
    "import sympy\n",
    "sympy.init_printing()\n",
    "epsilon, T_e, T_s, T_0, T_1, sigma = sympy.symbols('epsilon, T_e, T_s, T_0, T_1, sigma', positive=True)\n",
    "T_s"
   ]
  },
  {
   "cell_type": "markdown",
   "id": "7189b716-28ec-4bce-b64c-a3216cf8af58",
   "metadata": {},
   "source": [
    "Now we can build a dictionary `v` that holds actual values for some of these symbols.  Note the value for ε derived from measurement is 0.58 and the measured values of $T_s$, $T_0$ at 500 hPa and $T_1$ are as given:"
   ]
  },
  {
   "cell_type": "code",
   "execution_count": 9,
   "id": "3cfe4de9-c825-437f-b2ea-d24e95d4c6c9",
   "metadata": {},
   "outputs": [
    {
     "data": {
      "text/latex": [
       "$\\displaystyle \\left\\{ Q : 341.3, \\  T_{0} : 275, \\  T_{1} : 230, \\  T_{s} : 288, \\  \\alpha : 0.3, \\  \\epsilon : 0.58, \\  \\sigma : 5.67 \\cdot 10^{-8}\\right\\}$"
      ],
      "text/plain": [
       "{Q: 341.3, T₀: 275, T₁: 230, Tₛ: 288, α: 0.3, ε: 0.58, σ: 5.67e-08}"
      ]
     },
     "execution_count": 9,
     "metadata": {},
     "output_type": "execute_result"
    }
   ],
   "source": [
    "Q, alpha = sympy.symbols('Q, alpha', positive=True)\n",
    "v = {}\n",
    "v[Q] = 341.3        #  global mean insolation in W/m2\n",
    "v[alpha] = 0.3      #  observed planetary albedo\n",
    "v[sigma] = 5.67e-8  #  Stefan-Boltzmann constant in W/m2/K4\n",
    "v[epsilon] = 0.58   #  Observed through measurement\n",
    "v[T_s] = 288        #  Observed through measurement\n",
    "v[T_0] = 275        #  Observed through measurement\n",
    "v[T_1] = 230        #  Observed through measurement\n",
    "v"
   ]
  },
  {
   "cell_type": "markdown",
   "id": "c54adae1-8e6f-4eb9-8d56-522d28273822",
   "metadata": {},
   "source": [
    "#### 3.2 Incoming Shortwave radiation "
   ]
  },
  {
   "attachments": {},
   "cell_type": "markdown",
   "id": "542649f6-653e-4ecc-94a8-6561cfa722ba",
   "metadata": {},
   "source": [
    "Since we have assumed the atmosphere is transparent to shortwave, the incident beam passes unchanged from the top to the surface, where a fraction α is reflected upward out to space.  We can capture this in a column vector, $ASR$, where the terms are arranged in order `[surface, layer 0, layer 1]` as follows:"
   ]
  },
  {
   "cell_type": "code",
   "execution_count": 10,
   "id": "125d9f86-dcfb-4330-977a-2c754951543e",
   "metadata": {},
   "outputs": [
    {
     "data": {
      "text/latex": [
       "$\\displaystyle \\left[\\begin{matrix}Q \\left(1 - \\alpha\\right)\\\\0\\\\0\\end{matrix}\\right]$"
      ],
      "text/plain": [
       "⎡Q⋅(1 - α)⎤\n",
       "⎢         ⎥\n",
       "⎢    0    ⎥\n",
       "⎢         ⎥\n",
       "⎣    0    ⎦"
      ]
     },
     "execution_count": 10,
     "metadata": {},
     "output_type": "execute_result"
    }
   ],
   "source": [
    "ASR = sympy.Matrix([(1-alpha)*Q, 0, 0])\n",
    "ASR"
   ]
  },
  {
   "cell_type": "markdown",
   "id": "d601bc12-d192-45d1-a1dc-a92a09993431",
   "metadata": {},
   "source": [
    "#### 3.3 Longwave Emissions"
   ]
  },
  {
   "cell_type": "markdown",
   "id": "0b3df1c1-dd86-49ce-885e-29ddde38ae97",
   "metadata": {},
   "source": [
    "Let's denote the emissions from each layer as:\n",
    "\n",
    "$E_s = \\sigma T_s^4$<br>\n",
    "$E_0 =  ε\\sigma T_0^4$<br>\n",
    "$E_1 =  ε\\sigma T_1^4$<br>\n",
    "\n",
    "noting that and $E_0$ and $E_1$ contribute to **both** the upwelling and downwelling beams."
   ]
  },
  {
   "cell_type": "markdown",
   "id": "454d5007-428c-4462-baeb-1d10cbc1b818",
   "metadata": {},
   "source": [
    "Let's define these emissions using `sympy` symbols and display as a column vector, $E$, in order `[surface, layer 0, layer 1]` thus:"
   ]
  },
  {
   "cell_type": "code",
   "execution_count": 11,
   "id": "bb1dc425-2847-4215-b712-e96a6a328d64",
   "metadata": {},
   "outputs": [
    {
     "data": {
      "text/latex": [
       "$\\displaystyle \\left[\\begin{matrix}T_{s}^{4} \\sigma\\\\T_{0}^{4} \\epsilon \\sigma\\\\T_{1}^{4} \\epsilon \\sigma\\end{matrix}\\right]$"
      ],
      "text/plain": [
       "⎡   4   ⎤\n",
       "⎢ Tₛ ⋅σ ⎥\n",
       "⎢       ⎥\n",
       "⎢  4    ⎥\n",
       "⎢T₀ ⋅ε⋅σ⎥\n",
       "⎢       ⎥\n",
       "⎢  4    ⎥\n",
       "⎣T₁ ⋅ε⋅σ⎦"
      ]
     },
     "execution_count": 11,
     "metadata": {},
     "output_type": "execute_result"
    }
   ],
   "source": [
    "E_s = sigma*T_s**4\n",
    "E_0 = epsilon*sigma*T_0**4\n",
    "E_1 = epsilon*sigma*T_1**4\n",
    "E = sympy.Matrix([E_s, E_0, E_1])\n",
    "E"
   ]
  },
  {
   "cell_type": "markdown",
   "id": "9a2fbfb1-73b2-4e5f-954c-d0d4202faa5c",
   "metadata": {},
   "source": [
    "#### 3.4 Upwelling beam"
   ]
  },
  {
   "cell_type": "markdown",
   "id": "ef68b32b-0a3c-4b9e-bfc1-54038fb79feb",
   "metadata": {},
   "source": [
    "Let $U$ be the upwelling flux of longwave radiation from earth up to space with the layers exactly as illustrated in the diagram.  The upward flux from the surface to layer 0, ie. emission from the surface, is:\n",
    "\n",
    "$U_0 = S_0$\n",
    "\n",
    "with:\n",
    "\n",
    "$U_1 = (1-ε)U_0 + E_0$<br>\n",
    "$U_2 = (1-ε)U_1 + E_1$<br>\n",
    "\n",
    "Let's build these layers using `sympy` and print out $U_2$:"
   ]
  },
  {
   "cell_type": "code",
   "execution_count": 12,
   "id": "0ebbed0f-9f7c-46b4-af3d-a35561cac04c",
   "metadata": {},
   "outputs": [
    {
     "data": {
      "text/latex": [
       "$\\displaystyle T_{1}^{4} \\epsilon \\sigma + \\left(1 - \\epsilon\\right) \\left(T_{0}^{4} \\epsilon \\sigma + T_{s}^{4} \\sigma \\left(1 - \\epsilon\\right)\\right)$"
      ],
      "text/plain": [
       "  4               ⎛  4         4          ⎞\n",
       "T₁ ⋅ε⋅σ + (1 - ε)⋅⎝T₀ ⋅ε⋅σ + Tₛ ⋅σ⋅(1 - ε)⎠"
      ]
     },
     "execution_count": 12,
     "metadata": {},
     "output_type": "execute_result"
    }
   ],
   "source": [
    "U_0 = E_s\n",
    "U_1 = (1-epsilon)*U_0 + E_0\n",
    "U_2 = (1-epsilon)*U_1 + E_1\n",
    "U_2"
   ]
  },
  {
   "cell_type": "markdown",
   "id": "c46bc443-574a-498b-880b-23afd14c6986",
   "metadata": {},
   "source": [
    "The three  $U_2$ terms for $T_s$, $T_0$ and $T_1$ in this expression represent the **contributions to the total OLR that originate from each of the three levels**.  Let's code them into `sympy` again and print out their sum:"
   ]
  },
  {
   "cell_type": "code",
   "execution_count": 13,
   "id": "8cfd9658-b9b7-4c38-86d8-cc10911fd4f9",
   "metadata": {},
   "outputs": [
    {
     "name": "stdout",
     "output_type": "stream",
     "text": [
      "The expression for OLR is:\n"
     ]
    },
    {
     "data": {
      "text/latex": [
       "$\\displaystyle T_{0}^{4} \\epsilon \\sigma \\left(1 - \\epsilon\\right) + T_{1}^{4} \\epsilon \\sigma + T_{s}^{4} \\sigma \\left(1 - \\epsilon\\right)^{2}$"
      ],
      "text/plain": [
       "  4                 4         4          2\n",
       "T₀ ⋅ε⋅σ⋅(1 - ε) + T₁ ⋅ε⋅σ + Tₛ ⋅σ⋅(1 - ε) "
      ]
     },
     "execution_count": 13,
     "metadata": {},
     "output_type": "execute_result"
    }
   ],
   "source": [
    "#  Define the contributions to OLR originating from each level\n",
    "OLR_s = (1-epsilon)**2 *sigma*T_s**4\n",
    "OLR_0 = epsilon*(1-epsilon)*sigma*T_0**4\n",
    "OLR_1 = epsilon*sigma*T_1**4\n",
    "\n",
    "OLR = OLR_s + OLR_0 + OLR_1\n",
    "\n",
    "print(f\"The expression for OLR is:\")\n",
    "OLR"
   ]
  },
  {
   "cell_type": "markdown",
   "id": "98b3bf72-a744-43ba-93a8-96430621be4b",
   "metadata": {},
   "source": [
    "Let's have a look at these OLR terms in a column vector in order `[surface, layer 0, layer 1]`:"
   ]
  },
  {
   "cell_type": "code",
   "execution_count": 14,
   "id": "d15ad02c-b0f7-4d5a-9c8a-6a05249d53d4",
   "metadata": {},
   "outputs": [
    {
     "data": {
      "text/latex": [
       "$\\displaystyle \\left[\\begin{matrix}T_{s}^{4} \\sigma \\left(1 - \\epsilon\\right)^{2}\\\\T_{0}^{4} \\epsilon \\sigma \\left(1 - \\epsilon\\right)\\\\T_{1}^{4} \\epsilon \\sigma\\end{matrix}\\right]$"
      ],
      "text/plain": [
       "⎡  4          2 ⎤\n",
       "⎢Tₛ ⋅σ⋅(1 - ε)  ⎥\n",
       "⎢               ⎥\n",
       "⎢  4            ⎥\n",
       "⎢T₀ ⋅ε⋅σ⋅(1 - ε)⎥\n",
       "⎢               ⎥\n",
       "⎢      4        ⎥\n",
       "⎣    T₁ ⋅ε⋅σ    ⎦"
      ]
     },
     "execution_count": 14,
     "metadata": {},
     "output_type": "execute_result"
    }
   ],
   "source": [
    "OLRterms = sympy.Matrix([OLR_s, OLR_0, OLR_1])\n",
    "OLRterms"
   ]
  },
  {
   "cell_type": "markdown",
   "id": "a6a1df93-25af-4238-80cc-c9b6da21b0ac",
   "metadata": {},
   "source": [
    "We can now stack these upwelling values in a column vector, $U$, again in the order `[surface, layer 0, layer 1]`:"
   ]
  },
  {
   "cell_type": "code",
   "execution_count": 15,
   "id": "234cb788-53e1-4088-b0e8-7344e493ec01",
   "metadata": {},
   "outputs": [
    {
     "data": {
      "text/latex": [
       "$\\displaystyle \\left[\\begin{matrix}T_{s}^{4} \\sigma\\\\T_{0}^{4} \\epsilon \\sigma + T_{s}^{4} \\sigma \\left(1 - \\epsilon\\right)\\\\T_{1}^{4} \\epsilon \\sigma + \\left(1 - \\epsilon\\right) \\left(T_{0}^{4} \\epsilon \\sigma + T_{s}^{4} \\sigma \\left(1 - \\epsilon\\right)\\right)\\end{matrix}\\right]$"
      ],
      "text/plain": [
       "⎡                     4                     ⎤\n",
       "⎢                   Tₛ ⋅σ                   ⎥\n",
       "⎢                                           ⎥\n",
       "⎢            4         4                    ⎥\n",
       "⎢          T₀ ⋅ε⋅σ + Tₛ ⋅σ⋅(1 - ε)          ⎥\n",
       "⎢                                           ⎥\n",
       "⎢  4               ⎛  4         4          ⎞⎥\n",
       "⎣T₁ ⋅ε⋅σ + (1 - ε)⋅⎝T₀ ⋅ε⋅σ + Tₛ ⋅σ⋅(1 - ε)⎠⎦"
      ]
     },
     "execution_count": 15,
     "metadata": {},
     "output_type": "execute_result"
    }
   ],
   "source": [
    "U = sympy.Matrix([U_0, U_1, U_2])\n",
    "U"
   ]
  },
  {
   "cell_type": "markdown",
   "id": "146cd9bf-2d4b-40b7-829c-6e1beaa70aa8",
   "metadata": {},
   "source": [
    "#### 3.5 Downwelling beam"
   ]
  },
  {
   "cell_type": "markdown",
   "id": "e1c2a3c2-1c7c-4779-a7aa-88d846aaa549",
   "metadata": {},
   "source": [
    "Let $D$ be the downwelling longwave beam as shown in the diagram.  There is no longwave radiation coming in from space so we begin with:\n",
    "\n",
    "$D_2$ = 0\n",
    "\n",
    "Between layer 1 and layer 0 the beam contains emissions from layer 1:\n",
    "\n",
    "$D_1$ = (1-ε)$D_2$ + $E_1$\n",
    "\n",
    "Between layer 0 and the surface the beam contains a transmitted component and the emissions from layer 0:\n",
    "\n",
    "$D_0$ = (1-ε)$D_1$ + $E_0$\n",
    "\n",
    "This $D_0$ constitutes **back radiation**, namely the longwave radiation from the atmosphere back down to the surface.  We can build these values as follows:"
   ]
  },
  {
   "cell_type": "code",
   "execution_count": 16,
   "id": "5f89cb7e-ffdb-43e2-aae8-bc076910a863",
   "metadata": {},
   "outputs": [
    {
     "data": {
      "text/latex": [
       "$\\displaystyle T_{0}^{4} \\epsilon \\sigma + T_{1}^{4} \\epsilon \\sigma \\left(1 - \\epsilon\\right)$"
      ],
      "text/plain": [
       "  4         4            \n",
       "T₀ ⋅ε⋅σ + T₁ ⋅ε⋅σ⋅(1 - ε)"
      ]
     },
     "execution_count": 16,
     "metadata": {},
     "output_type": "execute_result"
    }
   ],
   "source": [
    "fromspace = 0\n",
    "D_2 = fromspace\n",
    "D_1 = (1-epsilon)*D_2 + E_1\n",
    "D_0 = (1-epsilon)*D_1 + E_0\n",
    "D_0"
   ]
  },
  {
   "cell_type": "markdown",
   "id": "47829833-2604-46a7-ae3e-8b71b14ba22c",
   "metadata": {},
   "source": [
    "Let's code this stack up in a column vector $D$ using `sympy` once more in order `[surface, layer 0, layer 1]`:"
   ]
  },
  {
   "cell_type": "code",
   "execution_count": 17,
   "id": "65249859-db02-4301-b964-19eb2c6d2a0d",
   "metadata": {},
   "outputs": [
    {
     "data": {
      "text/latex": [
       "$\\displaystyle \\left[\\begin{matrix}T_{0}^{4} \\epsilon \\sigma + T_{1}^{4} \\epsilon \\sigma \\left(1 - \\epsilon\\right)\\\\T_{1}^{4} \\epsilon \\sigma\\\\0\\end{matrix}\\right]$"
      ],
      "text/plain": [
       "⎡  4         4            ⎤\n",
       "⎢T₀ ⋅ε⋅σ + T₁ ⋅ε⋅σ⋅(1 - ε)⎥\n",
       "⎢                         ⎥\n",
       "⎢           4             ⎥\n",
       "⎢         T₁ ⋅ε⋅σ         ⎥\n",
       "⎢                         ⎥\n",
       "⎣            0            ⎦"
      ]
     },
     "execution_count": 17,
     "metadata": {},
     "output_type": "execute_result"
    }
   ],
   "source": [
    "D = sympy.Matrix([D_0, D_1, D_2])\n",
    "D"
   ]
  },
  {
   "cell_type": "markdown",
   "id": "5f7f4129-d569-4eea-81f3-85dcf5a1c331",
   "metadata": {},
   "source": [
    "#### 3.6 Solving for $T_s$, $T_0$ and $T_1$"
   ]
  },
  {
   "cell_type": "markdown",
   "id": "2ed68a79-87d6-409a-9aa5-897c69d6aa9e",
   "metadata": {},
   "source": [
    "Now we have all the elements we need to solve a set of equations for $T_s$, $T_0$ and $T_1$.  Our atmosphere is not isothermal.  These temperatures drop as you go through the layers from the surface of earth to the top of the atmosphere (TOA) according to the **[lapse rate](https://en.wikipedia.org/wiki/Lapse_rate)**:\n",
    "> The lapse rate is the rate at which an atmospheric variable, normally temperature in Earth's atmosphere, falls with altitude. Lapse rate arises from the word lapse, in the sense of a gradual fall."
   ]
  },
  {
   "cell_type": "markdown",
   "id": "a392cc8b-670b-43e6-9548-eeeff72ef439",
   "metadata": {},
   "source": [
    "It turns out that lots of different physical processes contribute to setting the lapse rate.  Understanding how these processes acts together and how they change as the climate changes is one of the key reasons for which we need more complex climate models. For now, we will use our toy greenhouse model to do the most basic lapse rate calculation which is the **radiative equilibrium temperature** which assumes that:\n",
    "* the only exchange of energy between layers is longwave radiation\n",
    "* equilibrium is achieved when the net radiative flux convergence in each layer is zero."
   ]
  },
  {
   "cell_type": "markdown",
   "id": "ad725030-f3b5-4434-ae94-1bec5e2b0160",
   "metadata": {},
   "source": [
    "First, the **net upwelling flux** $F$ is just the difference between flux up and flux down:"
   ]
  },
  {
   "cell_type": "code",
   "execution_count": 18,
   "id": "7a2605bd-e0ef-4768-9dd2-73886bb705e0",
   "metadata": {},
   "outputs": [
    {
     "data": {
      "text/latex": [
       "$\\displaystyle \\left[\\begin{matrix}- T_{0}^{4} \\epsilon \\sigma - T_{1}^{4} \\epsilon \\sigma \\left(1 - \\epsilon\\right) + T_{s}^{4} \\sigma\\\\T_{0}^{4} \\epsilon \\sigma - T_{1}^{4} \\epsilon \\sigma + T_{s}^{4} \\sigma \\left(1 - \\epsilon\\right)\\\\T_{1}^{4} \\epsilon \\sigma + \\left(1 - \\epsilon\\right) \\left(T_{0}^{4} \\epsilon \\sigma + T_{s}^{4} \\sigma \\left(1 - \\epsilon\\right)\\right)\\end{matrix}\\right]$"
      ],
      "text/plain": [
       "⎡        4         4                 4      ⎤\n",
       "⎢    - T₀ ⋅ε⋅σ - T₁ ⋅ε⋅σ⋅(1 - ε) + Tₛ ⋅σ    ⎥\n",
       "⎢                                           ⎥\n",
       "⎢       4         4         4               ⎥\n",
       "⎢     T₀ ⋅ε⋅σ - T₁ ⋅ε⋅σ + Tₛ ⋅σ⋅(1 - ε)     ⎥\n",
       "⎢                                           ⎥\n",
       "⎢  4               ⎛  4         4          ⎞⎥\n",
       "⎣T₁ ⋅ε⋅σ + (1 - ε)⋅⎝T₀ ⋅ε⋅σ + Tₛ ⋅σ⋅(1 - ε)⎠⎦"
      ]
     },
     "execution_count": 18,
     "metadata": {},
     "output_type": "execute_result"
    }
   ],
   "source": [
    "F = U-D\n",
    "F"
   ]
  },
  {
   "cell_type": "markdown",
   "id": "423248f1-5e54-40c8-bf1f-002cf8b76fbf",
   "metadata": {},
   "source": [
    "**Net absorption** is the flux convergence in each layer.  In other words the difference between what's coming in the bottom and what's going out the top of each layer."
   ]
  },
  {
   "cell_type": "code",
   "execution_count": 19,
   "id": "32a41ee9-6bb9-42b6-9ab3-06774be551ff",
   "metadata": {},
   "outputs": [],
   "source": [
    "# define a vector of absorbed radiation which is the same size as emissions\n",
    "A = E.copy()\n",
    "#  absorbed radiation at surface\n",
    "A[0] = F[0]\n",
    "# Compute the convergence\n",
    "for n in range(2):\n",
    "    A[n+1] = -(F[n+1]-F[n])"
   ]
  },
  {
   "cell_type": "markdown",
   "id": "bd349573-2d54-494c-9f9d-8720bd3d2b62",
   "metadata": {},
   "source": [
    "Radiative equilibrium means **net absorption is zero** in the atmosphere.  The only other heat source is the incoming shortwave heating at the surface.  Putting that together as an equation yields the following equation for radiative equilibrium or `radeq`:"
   ]
  },
  {
   "cell_type": "code",
   "execution_count": 20,
   "id": "1571e312-886a-4bd6-a934-9bfb37134850",
   "metadata": {},
   "outputs": [
    {
     "data": {
      "text/latex": [
       "$\\displaystyle \\left[\\begin{matrix}- T_{0}^{4} \\epsilon \\sigma - T_{1}^{4} \\epsilon \\sigma \\left(1 - \\epsilon\\right) + T_{s}^{4} \\sigma\\\\- 2 T_{0}^{4} \\epsilon \\sigma - T_{1}^{4} \\epsilon \\sigma \\left(1 - \\epsilon\\right) + T_{1}^{4} \\epsilon \\sigma - T_{s}^{4} \\sigma \\left(1 - \\epsilon\\right) + T_{s}^{4} \\sigma\\\\T_{0}^{4} \\epsilon \\sigma - 2 T_{1}^{4} \\epsilon \\sigma + T_{s}^{4} \\sigma \\left(1 - \\epsilon\\right) - \\left(1 - \\epsilon\\right) \\left(T_{0}^{4} \\epsilon \\sigma + T_{s}^{4} \\sigma \\left(1 - \\epsilon\\right)\\right)\\end{matrix}\\right] = \\left[\\begin{matrix}Q \\left(1 - \\alpha\\right)\\\\0\\\\0\\end{matrix}\\right]$"
      ],
      "text/plain": [
       "⎡                      4         4                 4                    ⎤      ↪\n",
       "⎢                  - T₀ ⋅ε⋅σ - T₁ ⋅ε⋅σ⋅(1 - ε) + Tₛ ⋅σ                  ⎥      ↪\n",
       "⎢                                                                       ⎥   ⎡Q ↪\n",
       "⎢          4         4                 4         4               4      ⎥   ⎢  ↪\n",
       "⎢    - 2⋅T₀ ⋅ε⋅σ - T₁ ⋅ε⋅σ⋅(1 - ε) + T₁ ⋅ε⋅σ - Tₛ ⋅σ⋅(1 - ε) + Tₛ ⋅σ    ⎥ = ⎢  ↪\n",
       "⎢                                                                       ⎥   ⎢  ↪\n",
       "⎢  4           4         4                     ⎛  4         4          ⎞⎥   ⎣  ↪\n",
       "⎣T₀ ⋅ε⋅σ - 2⋅T₁ ⋅ε⋅σ + Tₛ ⋅σ⋅(1 - ε) - (1 - ε)⋅⎝T₀ ⋅ε⋅σ + Tₛ ⋅σ⋅(1 - ε)⎠⎦      ↪\n",
       "\n",
       "↪          \n",
       "↪          \n",
       "↪ ⋅(1 - α)⎤\n",
       "↪         ⎥\n",
       "↪    0    ⎥\n",
       "↪         ⎥\n",
       "↪    0    ⎦\n",
       "↪          "
      ]
     },
     "execution_count": 20,
     "metadata": {},
     "output_type": "execute_result"
    }
   ],
   "source": [
    "radeq = sympy.Equality(A, ASR)\n",
    "radeq"
   ]
  },
  {
   "cell_type": "markdown",
   "id": "b5450cc7-70e2-4084-92a7-cdfe47389d7d",
   "metadata": {},
   "source": [
    "Just as we did for the 1-layer model, it is helpful to rewrite this system using the definition of the **emission temperture** $T_e$:\n",
    "\n",
    "$(1- α)Q = \\sigma T_e^4$"
   ]
  },
  {
   "cell_type": "code",
   "execution_count": 21,
   "id": "cc35b4f5-70f7-4914-a207-1e2fcd3fe2b3",
   "metadata": {},
   "outputs": [
    {
     "data": {
      "text/latex": [
       "$\\displaystyle \\left[\\begin{matrix}- T_{0}^{4} \\epsilon \\sigma - T_{1}^{4} \\epsilon \\sigma \\left(1 - \\epsilon\\right) + T_{s}^{4} \\sigma\\\\- 2 T_{0}^{4} \\epsilon \\sigma - T_{1}^{4} \\epsilon \\sigma \\left(1 - \\epsilon\\right) + T_{1}^{4} \\epsilon \\sigma - T_{s}^{4} \\sigma \\left(1 - \\epsilon\\right) + T_{s}^{4} \\sigma\\\\T_{0}^{4} \\epsilon \\sigma - 2 T_{1}^{4} \\epsilon \\sigma + T_{s}^{4} \\sigma \\left(1 - \\epsilon\\right) - \\left(1 - \\epsilon\\right) \\left(T_{0}^{4} \\epsilon \\sigma + T_{s}^{4} \\sigma \\left(1 - \\epsilon\\right)\\right)\\end{matrix}\\right] = \\left[\\begin{matrix}T_{e}^{4} \\sigma\\\\0\\\\0\\end{matrix}\\right]$"
      ],
      "text/plain": [
       "⎡                      4         4                 4                    ⎤      ↪\n",
       "⎢                  - T₀ ⋅ε⋅σ - T₁ ⋅ε⋅σ⋅(1 - ε) + Tₛ ⋅σ                  ⎥   ⎡  ↪\n",
       "⎢                                                                       ⎥   ⎢T ↪\n",
       "⎢          4         4                 4         4               4      ⎥   ⎢  ↪\n",
       "⎢    - 2⋅T₀ ⋅ε⋅σ - T₁ ⋅ε⋅σ⋅(1 - ε) + T₁ ⋅ε⋅σ - Tₛ ⋅σ⋅(1 - ε) + Tₛ ⋅σ    ⎥ = ⎢  ↪\n",
       "⎢                                                                       ⎥   ⎢  ↪\n",
       "⎢  4           4         4                     ⎛  4         4          ⎞⎥   ⎣  ↪\n",
       "⎣T₀ ⋅ε⋅σ - 2⋅T₁ ⋅ε⋅σ + Tₛ ⋅σ⋅(1 - ε) - (1 - ε)⋅⎝T₀ ⋅ε⋅σ + Tₛ ⋅σ⋅(1 - ε)⎠⎦      ↪\n",
       "\n",
       "↪      \n",
       "↪  4  ⎤\n",
       "↪ ₑ ⋅σ⎥\n",
       "↪     ⎥\n",
       "↪  0  ⎥\n",
       "↪     ⎥\n",
       "↪  0  ⎦\n",
       "↪      "
      ]
     },
     "execution_count": 21,
     "metadata": {},
     "output_type": "execute_result"
    }
   ],
   "source": [
    "radeq2 = radeq.subs([((1-alpha)*Q, sigma*T_e**4)])\n",
    "radeq2"
   ]
  },
  {
   "cell_type": "markdown",
   "id": "c980dd1a-9b81-4924-a31a-6e73ff61e1c1",
   "metadata": {},
   "source": [
    "In this form we can see that we actually have a linear system of equations for a set of variables \n",
    "$T_s^4$, $T_0^4$, $T_1^4$.  We can solve this matrix problem to get these as functions of $T_e^4$.  The following produces a dictionary of solutions for the fourth power of the temperatures."
   ]
  },
  {
   "cell_type": "code",
   "execution_count": 22,
   "id": "0330cd14-e769-46da-80b1-6a187ae0eeee",
   "metadata": {},
   "outputs": [
    {
     "data": {
      "text/latex": [
       "$\\displaystyle \\left\\{ T_{0}^{4} : \\frac{- T_{e}^{4} \\epsilon - T_{e}^{4}}{\\epsilon - 2}, \\  T_{1}^{4} : - \\frac{T_{e}^{4}}{\\epsilon - 2}, \\  T_{s}^{4} : \\frac{- T_{e}^{4} \\epsilon - 2 T_{e}^{4}}{\\epsilon - 2}\\right\\}$"
      ],
      "text/plain": [
       "⎧         4       4          4            4         4⎫\n",
       "⎪  4  - Tₑ ⋅ε - Tₑ     4  -Tₑ      4  - Tₑ ⋅ε - 2⋅Tₑ ⎪\n",
       "⎨T₀ : ─────────────, T₁ : ─────, Tₛ : ───────────────⎬\n",
       "⎪         ε - 2           ε - 2            ε - 2     ⎪\n",
       "⎩                                                    ⎭"
      ]
     },
     "execution_count": 22,
     "metadata": {},
     "output_type": "execute_result"
    }
   ],
   "source": [
    "# Solve for radiative equilibrium \n",
    "fourthpower = sympy.solve(radeq2, [T_s**4, T_1**4, T_0**4])\n",
    "fourthpower"
   ]
  },
  {
   "cell_type": "markdown",
   "id": "66397086-26a0-40aa-acdf-837a72906454",
   "metadata": {},
   "source": [
    "A little manipulation gets us the solutions for temperatures that we want:"
   ]
  },
  {
   "cell_type": "code",
   "execution_count": 23,
   "id": "edc94ab0-8f31-469d-bc5b-1aa88fe34f7d",
   "metadata": {},
   "outputs": [
    {
     "data": {
      "text/latex": [
       "$\\displaystyle \\left[\\begin{matrix}T_{s}\\\\T_{0}\\\\T_{1}\\end{matrix}\\right] = \\left[\\begin{matrix}\\sqrt[4]{\\frac{- T_{e}^{4} \\epsilon - 2 T_{e}^{4}}{\\epsilon - 2}}\\\\\\sqrt[4]{\\frac{- T_{e}^{4} \\epsilon - T_{e}^{4}}{\\epsilon - 2}}\\\\T_{e} \\sqrt[4]{- \\frac{1}{\\epsilon - 2}}\\end{matrix}\\right]$"
      ],
      "text/plain": [
       "       ⎡     _________________⎤\n",
       "       ⎢    ╱     4         4 ⎥\n",
       "       ⎢   ╱  - Tₑ ⋅ε - 2⋅Tₑ  ⎥\n",
       "       ⎢4 ╱   ─────────────── ⎥\n",
       "       ⎢╲╱         ε - 2      ⎥\n",
       "       ⎢                      ⎥\n",
       "⎡Tₛ⎤   ⎢      _______________ ⎥\n",
       "⎢  ⎥   ⎢     ╱     4       4  ⎥\n",
       "⎢T₀⎥ = ⎢    ╱  - Tₑ ⋅ε - Tₑ   ⎥\n",
       "⎢  ⎥   ⎢ 4 ╱   ─────────────  ⎥\n",
       "⎣T₁⎦   ⎢ ╲╱        ε - 2      ⎥\n",
       "       ⎢                      ⎥\n",
       "       ⎢           _______    ⎥\n",
       "       ⎢          ╱  -1       ⎥\n",
       "       ⎢    Tₑ⋅4 ╱  ─────     ⎥\n",
       "       ⎣       ╲╱   ε - 2     ⎦"
      ]
     },
     "execution_count": 23,
     "metadata": {},
     "output_type": "execute_result"
    }
   ],
   "source": [
    "# need the symbolic fourth root operation\n",
    "from sympy.simplify.simplify import nthroot\n",
    "\n",
    "fourthpower_list = [fourthpower[key] for key in [T_s**4, T_0**4, T_1**4]]\n",
    "solution = sympy.Matrix([nthroot(item,4) for item in fourthpower_list])\n",
    "#  Display result as matrix equation!\n",
    "T = sympy.Matrix([T_s, T_0, T_1])\n",
    "sympy.Equality(T, solution)"
   ]
  },
  {
   "cell_type": "markdown",
   "id": "7e71fcb9-e809-4d88-aa9c-dabc188b544c",
   "metadata": {},
   "source": [
    "Plugging in the value of ε allows us to get the solutions in terms of $T_e$:"
   ]
  },
  {
   "cell_type": "code",
   "execution_count": 24,
   "id": "88e6cf73-8997-455e-8860-00025d31a02e",
   "metadata": {},
   "outputs": [
    {
     "data": {
      "text/latex": [
       "$\\displaystyle \\left[\\begin{matrix}T_{s}\\\\T_{0}\\\\T_{1}\\end{matrix}\\right] = \\left[\\begin{matrix}1.16100165920293 T_{e}\\\\1.02705141589558 T_{e}\\\\0.916068424462217 T_{e}\\end{matrix}\\right]$"
      ],
      "text/plain": [
       "⎡Tₛ⎤   ⎡1.16100165920293⋅Tₑ ⎤\n",
       "⎢  ⎥   ⎢                    ⎥\n",
       "⎢T₀⎥ = ⎢1.02705141589558⋅Tₑ ⎥\n",
       "⎢  ⎥   ⎢                    ⎥\n",
       "⎣T₁⎦   ⎣0.916068424462217⋅Tₑ⎦"
      ]
     },
     "execution_count": 24,
     "metadata": {},
     "output_type": "execute_result"
    }
   ],
   "source": [
    "Tsolution = solution.subs(v)\n",
    "#  Display result as matrix equation\n",
    "sympy.Equality(T, Tsolution)"
   ]
  },
  {
   "cell_type": "markdown",
   "id": "ecca3206-1973-4b1d-be58-d29a106ab4a3",
   "metadata": {},
   "source": [
    "Now we just need to know the Earth's emission temperature $T_e$ which is measured as 255K:"
   ]
  },
  {
   "cell_type": "code",
   "execution_count": 25,
   "id": "65bc6d83-d1e2-4a3f-a500-39161be75dd7",
   "metadata": {},
   "outputs": [
    {
     "data": {
      "text/latex": [
       "$\\displaystyle \\left[\\begin{matrix}T_{s}\\\\T_{0}\\\\T_{1}\\end{matrix}\\right] = \\left[\\begin{matrix}296.1\\\\261.9\\\\233.6\\end{matrix}\\right]$"
      ],
      "text/plain": [
       "⎡Tₛ⎤   ⎡296.1⎤\n",
       "⎢  ⎥   ⎢     ⎥\n",
       "⎢T₀⎥ = ⎢261.9⎥\n",
       "⎢  ⎥   ⎢     ⎥\n",
       "⎣T₁⎦   ⎣233.6⎦"
      ]
     },
     "execution_count": 25,
     "metadata": {},
     "output_type": "execute_result"
    }
   ],
   "source": [
    "Te_value = 255\n",
    "\n",
    "#  Output 4 significant digits\n",
    "Trad = sympy.N(Tsolution.subs([(T_e, Te_value)]), 4)\n",
    "sympy.Equality(T, Trad)"
   ]
  },
  {
   "cell_type": "markdown",
   "id": "3b5415b4-114b-4c1c-b9f0-201be9715dea",
   "metadata": {},
   "source": [
    "Let's compare this with what we observe which was plugged into `v` earlier:"
   ]
  },
  {
   "cell_type": "code",
   "execution_count": 26,
   "id": "d3024608-6579-4148-ac2a-4995220858b5",
   "metadata": {},
   "outputs": [
    {
     "data": {
      "text/latex": [
       "$\\displaystyle \\left[\\begin{matrix}T_{s}\\\\T_{0}\\\\T_{1}\\end{matrix}\\right] = \\left[\\begin{matrix}288\\\\275\\\\230\\end{matrix}\\right]$"
      ],
      "text/plain": [
       "⎡Tₛ⎤   ⎡288⎤\n",
       "⎢  ⎥   ⎢   ⎥\n",
       "⎢T₀⎥ = ⎢275⎥\n",
       "⎢  ⎥   ⎢   ⎥\n",
       "⎣T₁⎦   ⎣230⎦"
      ]
     },
     "execution_count": 26,
     "metadata": {},
     "output_type": "execute_result"
    }
   ],
   "source": [
    "sympy.Equality(T, T.subs(v))"
   ]
  },
  {
   "cell_type": "markdown",
   "id": "8fde03b0-a6ad-41ed-9def-67e0163ecab4",
   "metadata": {},
   "source": [
    "We observe that the radiative equilibrium solution is substantially warmer at the surface and colder in the lower troposphere than reality. This is a general feature of radiative equilibrium so using it as the basis for our greenhouse model is not a complete picture.  We will need to refine our model to get closer to the observed lapse rate value for atmospheric temperature."
   ]
  },
  {
   "cell_type": "markdown",
   "id": "2ac87049-885f-4a0c-af6b-a630d1d3fa3d",
   "metadata": {},
   "source": [
    "### 4. Radiative Forcing"
   ]
  },
  {
   "cell_type": "markdown",
   "id": "cb5e1c68-7eb0-4eca-b816-5b77a5abbc97",
   "metadata": {},
   "source": [
    "The next stage will involve looking at the modelling **radiative forcing** defined as:\n",
    "\n",
    "```Radiative forcing = Incoming Energy – Outgoing Energy```\n",
    "\n",
    "\"Radiative forcing\" is the change in radiative flux at TOA after adding absorbers.  When incoming energy gets trapped and cannot all escape as outgoing energy, there is an increase in radiative forcing. That is intensifying as levels of CO2 and other greenhouse gases increase, resulting in Earth's average temperature rising.  Radiative forcing is also known as \"[climate forcing](https://www.climate.gov/maps-data/climate-data-primer/predicting-climate/climate-forcing )\".  Think of it as the force driving up temperatures.  The degree of radiative forcing (change in OLR) depends on the lapse rate.  To model the impact of this, we add a delta to the OLR values.  The greenhouse effect gets stronger, and energy will begin to accumulate in the system which will eventually cause temperatures to increase as the system adjusts to a new equilibrium.\n",
    "\n",
    "**Climate sensitivity** is the average change in global mean surface temperature in response to a radiative forcing. There are three chief types of climate sensitivity: \n",
    "* The \"equilibrium climate sensitivity\" (ECS) is the long-term increase in global average temperature we expect to reach once the effects of a doubled CO2 concentration have had time to reach a steady state.\n",
    "* The shorter-term \"transient climate response\" (TCR) reveals how much warmer the Earth is expected to get at that time when we double the concentration of CO2 compared to pre-industrial levels—around 280ppm. \n",
    "* The “Earth system sensitivity” (ESS) includes very long-term Earth system feedbacks, such as changes in ice sheets or in the distribution of vegetative cover.\n",
    "\n",
    "Climate sensitivity has long been \"the key uncertainty in projections of future climate change.\"\n"
   ]
  },
  {
   "cell_type": "markdown",
   "id": "ba1b8811-9ab9-49aa-95a3-74242a814618",
   "metadata": {},
   "source": [
    "### 5. Dynamic Evolution through feedback"
   ]
  },
  {
   "cell_type": "markdown",
   "id": "ee148c92-7d59-47e2-b473-74abf7ed6f9d",
   "metadata": {},
   "source": [
    "Lots of refinements are possible to a zero-dimensional EBM to model for dynamic change through feedback.  See [this lecture](https://florianboergel.github.io/climateoftheocean/2020-11-11-energy-model.html) for more detail on ways to do this."
   ]
  }
 ],
 "metadata": {
  "kernelspec": {
   "display_name": "Python 3 (ipykernel)",
   "language": "python",
   "name": "python3"
  },
  "language_info": {
   "codemirror_mode": {
    "name": "ipython",
    "version": 3
   },
   "file_extension": ".py",
   "mimetype": "text/x-python",
   "name": "python",
   "nbconvert_exporter": "python",
   "pygments_lexer": "ipython3",
   "version": "3.11.9"
  }
 },
 "nbformat": 4,
 "nbformat_minor": 5
}
