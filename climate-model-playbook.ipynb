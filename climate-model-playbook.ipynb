{
 "cells": [
  {
   "cell_type": "markdown",
   "id": "415eace1-18c7-4f6e-9fa7-951f6713de6e",
   "metadata": {},
   "source": [
    "### Climate Model Playbook"
   ]
  },
  {
   "cell_type": "markdown",
   "id": "29ea9340-82de-443f-8e58-f9235a2c6cf2",
   "metadata": {},
   "source": [
    "<p>\n",
    "Mal Minhas, v0.1<br>\n",
    "14.07.24\n",
    "</p>\n",
    "<p>\n",
    "<h4>Versions</h4>\n",
    "<ul>\n",
    "<li><b>v0.1</b>: 14.07.24. First version</li>\n",
    "</ul>\n",
    "</p>"
   ]
  },
  {
   "cell_type": "markdown",
   "id": "93def10c-3a0a-4ee2-8ed8-b89ded75040b",
   "metadata": {},
   "source": [
    "### 1. Zero-Dimensional Energy Balance Model v1"
   ]
  },
  {
   "cell_type": "markdown",
   "id": "684a822b-58a6-479f-b0a7-098b4b0c286e",
   "metadata": {},
   "source": [
    "A zero-dimensional **Energy Balance Model (EBM)** is a very simple toy for considering the temperature of the earth.  It considers two factors: \n",
    "1. The **energy in** which is the solar radiation (or flux) of the sun area-averaged over the surface of thea earth.  This area-average is called **insolation** or $Q$.\n",
    "2. The **energy out** which is a combination of energy *reflected out* via the albedo effect which is about 30% of that incoming flux plus the energy *radiated out* by the earth as a black body.  Note that energy is radiated out as infrared.\n",
    "\n",
    "The **Absorbed Shortwave Radiation (ASR)** is the part of the incoming sunlight that is not reflected back to space, i.e. that part that is absorbed somewhere within the Earth system.  The **Outgoing Longwave Radiation (OLR)** is the rest of the incoming sunlight that is radiated back out into space.  The basic principle of the EBM is that ASR=OLR at energy equilibrium at which point we have an equilibrium temperature.\n",
    "\n",
    "This most basic form of this model is covered in more detail [in this paper](http://dimacs.rutgers.edu/archive/MPE/Energy/DIMACS-EBM.pdf) and outlined in summary following YouTube video:"
   ]
  },
  {
   "cell_type": "code",
   "execution_count": 1,
   "id": "ec19ca07-adc0-48c9-804c-46cb984da9d3",
   "metadata": {
    "scrolled": true
   },
   "outputs": [
    {
     "data": {
      "image/jpeg": "[encoded data removed]",
      "text/html": [
       "\n",
       "        <iframe\n",
       "            width=\"800\"\n",
       "            height=\"300\"\n",
       "            src=\"https://www.youtube.com/embed/M_USJDCARrM\"\n",
       "            frameborder=\"0\"\n",
       "            allowfullscreen\n",
       "            \n",
       "        ></iframe>\n",
       "        "
      ],
      "text/plain": [
       "<IPython.lib.display.YouTubeVideo at 0x105ad90d0>"
      ]
     },
     "execution_count": 1,
     "metadata": {},
     "output_type": "execute_result"
    }
   ],
   "source": [
    "from IPython.display import YouTubeVideo\n",
    "YouTubeVideo('M_USJDCARrM', width=800, height=300)"
   ]
  },
  {
   "cell_type": "markdown",
   "id": "a64e25f4-2ecf-47e7-a18d-7ecd6a57844d",
   "metadata": {},
   "source": [
    "The EBM equation is presented below along with some values.  The left hand side of the equation is energy in and the right hand side energy out.  Note that $S$ is solar flux in W/m$^2$, $α$ is albedo (reflectivity of earth), $T_s$ is equilibrium temperature at the surface of the earth in Kelvins and $σ$ is the [Stefan-Boltzmann constant](https://www.techtarget.com/whatis/definition/Stefan-Boltzmann-constant) which is:\n",
    "> is a physical constant expressing the relationship between the heat radiation emitted by a black body and its absolute temperature"
   ]
  },
  {
   "cell_type": "markdown",
   "id": "85270264-8357-4103-8e29-b00e2e0d6213",
   "metadata": {},
   "source": [
    "$S/4 = σT_s^4 + αS/4$\n",
    "\n",
    "where:<br>\n",
    "$α$ = 0.30<br>\n",
    "$S$ = 1372 W/m$^2$<br>\n",
    "$σ$ = 5.67x10$^{−8}$ W/m$^2$K$^4$"
   ]
  },
  {
   "cell_type": "markdown",
   "id": "6947e59d-48a5-45ce-857b-aaa07834610e",
   "metadata": {},
   "source": [
    "#### Question 1: Calculate $T_s$ in Kelvins for the given values of $α$, $S$ and $σ$"
   ]
  },
  {
   "cell_type": "markdown",
   "id": "dd925455-d2f1-4b08-b1b9-7a2197964f93",
   "metadata": {},
   "source": [
    "Let's use this to build an equation that solves for T$_s$ using the provided values:"
   ]
  },
  {
   "cell_type": "code",
   "execution_count": 2,
   "id": "b4a25e92-00b9-4350-a821-589c3edf5323",
   "metadata": {},
   "outputs": [],
   "source": [
    "α = 0.30\n",
    "S = 1372 \n",
    "σ = 5.67e-8"
   ]
  },
  {
   "cell_type": "code",
   "execution_count": 3,
   "id": "13cb3a9b-41ad-4cc8-b066-32920f55f3c1",
   "metadata": {},
   "outputs": [
    {
     "name": "stdout",
     "output_type": "stream",
     "text": [
      "Equilibrium surface temperature T=255.1K\n"
     ]
    }
   ],
   "source": [
    "T = ((S/4 - α * S/4)/σ) ** (1./4.)\n",
    "print(f\"Equilibrium surface temperature T={round(T,2)}K\")"
   ]
  },
  {
   "cell_type": "markdown",
   "id": "0b6a9a19-9671-4934-adf2-745a1dc0f238",
   "metadata": {},
   "source": [
    "#### Question 2: Convert $T_s$ from K to $^{o}$C"
   ]
  },
  {
   "cell_type": "markdown",
   "id": "66a4c128-8ed6-4164-ac94-944580347728",
   "metadata": {},
   "source": [
    "We're gonna use Gen AI to help with this:"
   ]
  },
  {
   "cell_type": "code",
   "execution_count": 4,
   "id": "0ce3de95-f945-4201-b67f-bee57f1513ea",
   "metadata": {},
   "outputs": [],
   "source": [
    "%reload_ext jupyter_ai"
   ]
  },
  {
   "cell_type": "code",
   "execution_count": 5,
   "id": "48e45155-9184-4f66-a55a-1bc11855e001",
   "metadata": {},
   "outputs": [
    {
     "data": {
      "text/html": [
       "AI generated code inserted below &#11015;&#65039;"
      ],
      "text/plain": [
       "<IPython.core.display.HTML object>"
      ]
     },
     "execution_count": 5,
     "metadata": {
      "text/html": {
       "jupyter_ai": {
        "model_id": "claude-3-sonnet-20240229",
        "provider_id": "anthropic-chat"
       }
      }
     },
     "output_type": "execute_result"
    }
   ],
   "source": [
    "%%ai claude-3-sonnet-20240229 -f code\n",
    "Write a Python function called kelvin_to_celcius to convert temperature in Kelvin to temperature in degrees centrigrade"
   ]
  },
  {
   "cell_type": "code",
   "execution_count": 6,
   "id": "474245c8-2efb-47d2-bdea-c2c6df14a168",
   "metadata": {},
   "outputs": [],
   "source": [
    "def kelvin_to_celsius(temp_kelvin):\n",
    "    temp_celsius = temp_kelvin - 273.15\n",
    "    return temp_celsius"
   ]
  },
  {
   "cell_type": "code",
   "execution_count": 7,
   "id": "b06c73db-cbd3-4968-833e-746ab0b01183",
   "metadata": {},
   "outputs": [
    {
     "name": "stdout",
     "output_type": "stream",
     "text": [
      "255.1K = -18.05 degrees C\n"
     ]
    }
   ],
   "source": [
    "print(f\"{round(T,2)}K = {round(kelvin_to_celsius(T),2)} degrees C\")"
   ]
  },
  {
   "cell_type": "markdown",
   "id": "eb26fe9a-c17f-40b6-a2c2-c322e8af9a69",
   "metadata": {},
   "source": [
    "This figure is much lower than the observed temperature on earth which is around 288K.  Why the difference?  Our toy model doesn't account the presence of **greenhouse gases (GHGs)** such as CO$_2$, O$_3$ and NO$_2$ in our atmosphere.  Although they constitute only 1% of the atmosphere, they absorb 90% of the outgoing radiation and bounce it back to earth helping to keep the earth warmer than it would otherwise be. "
   ]
  },
  {
   "cell_type": "markdown",
   "id": "481163e3-1e4b-421e-a595-1619f889c138",
   "metadata": {},
   "source": [
    "### 2. Zero-Dimensional Energy Balance Model v2 - adding GHG contribution factor"
   ]
  },
  {
   "cell_type": "markdown",
   "id": "3e42a75d-64d5-467b-87d0-52b49e160c6f",
   "metadata": {},
   "source": [
    "The [notebook here](https://www.atmos.albany.edu/facstaff/brose/classes/ATM623_Spring2015/Notes/Lectures/Lecture06%20--%20Elementary%20greenhouse%20models.html) provides a starting point for modelling the contribution of greenhouse gases. The basic idea is that we need to adjust our model to allow for the fact that not all the black body radiation makes it back out into space.  Some of it is absorbed within the atmosphere by greenhouse gases.  A very simple way to model that is to introduce a new factor $\\tau$ that reduces the black body radiation factor in the equation as illustrated next.  Note we have reordered the terms so that the right hand side is now the ASR or total proportion of solar flux that is absorbed and the right hand side is OLR or total terrestrial radiation emitted back into space.  Per guidance above, the basic principal of EBM is that ASR=OLR."
   ]
  },
  {
   "cell_type": "markdown",
   "id": "27af3fc7-117d-4c64-bdb5-980555fba96f",
   "metadata": {},
   "source": [
    "$(1- α)Q = \\tau \\sigma T_s^4$\n",
    "\n",
    "where:<br>\n",
    "$Q$ = $S/4$ or **insolation**<br>\n",
    "$\\tau$ = transmissivity<br>"
   ]
  },
  {
   "cell_type": "markdown",
   "id": "20cc316f-3b4d-441c-8a18-ce10d3a7630d",
   "metadata": {},
   "source": [
    "We observe $\\tau$ to be around 0.61 derived from an observed value of T$_s$ of 288K.  Let's plug that value in and recalcuate T$_s$:"
   ]
  },
  {
   "cell_type": "code",
   "execution_count": 8,
   "id": "84319e40-5480-42a3-8014-43ffb0c3e1d5",
   "metadata": {},
   "outputs": [
    {
     "name": "stdout",
     "output_type": "stream",
     "text": [
      "Equilibrium surface temperature T=288.65K\n",
      "288.65K = 15.5 degrees C\n"
     ]
    }
   ],
   "source": [
    "τ = 0.61\n",
    "\n",
    "def ASR(α, S):\n",
    "    return (1-α) * S/4\n",
    "\n",
    "def equilibrium_temperature(asr, τ, σ):\n",
    "    return (asr/(τ * σ)) ** (1./4.)\n",
    "\n",
    "T = equilibrium_temperature(ASR(α, S), τ, σ)\n",
    "print(f\"Equilibrium surface temperature T={round(T,2)}K\")\n",
    "print(f\"{round(T,2)}K = {round(kelvin_to_celsius(T),2)} degrees C\")"
   ]
  },
  {
   "attachments": {},
   "cell_type": "markdown",
   "id": "7761f147-a4df-4f5f-8fcd-3eb10bdbdacf",
   "metadata": {},
   "source": [
    "Can we do better than a $\\tau$ fudge factor reverse-engineered from observation?  As outlined [here](https://github.com/brian-rose/ClimateModeling_courseware/blob/master/Lectures/Lecture07%20--%20Elementary%20greenhouse%20models.ipynb) we can model the atmosphere from first principles as a single layer under the following assumptions:\n",
    "* The atmosphere is a single layer of air at temperature T$_a$\n",
    "* The atmosphere is completely transparent to shortwave solar radiation.\n",
    "* The surface absorbs shortwave radiation (1-α)Q\n",
    "* The atmosphere is completely opaque to infrared radiation\n",
    "* Both surface and atmosphere emit radiation as blackbodies ($\\sigma T_s^4$, $\\sigma T_a^4$)\n",
    "* Atmosphere radiates equally up and down ($\\sigma T_a^4$)\n",
    "* There are no other heat transfer mechanisms"
   ]
  },
  {
   "attachments": {},
   "cell_type": "markdown",
   "id": "a8c8ac54-a77a-4676-ac4b-eff4adc08872",
   "metadata": {},
   "source": [
    "<div>\n",
    "<img src=\"simpleGHGmodel.png\" width=\"600\"/>\n",
    "</div>"
   ]
  },
  {
   "cell_type": "markdown",
   "id": "98d43e51-35ef-4d0f-bb99-259dc20e49cf",
   "metadata": {},
   "source": [
    "Here $\\sigma T_a^4$ pointing downwards constitutes the **downwelling or back radiation** from the atmosphere.  We know from energy balance that the blackbody radiation at the surface $\\sigma T_s^4$ must equal the sum of the blackbody radiation in the atmosphere 2$\\sigma T_a^4$.  We can use this to simplify the equilibrium energy equation at the surface as follows:"
   ]
  },
  {
   "cell_type": "markdown",
   "id": "772d359a-f1fb-4625-87e7-3c81727836ff",
   "metadata": {},
   "source": [
    "$(1- α)Q + \\sigma T_a^4 = \\sigma T_s^4$\n",
    "\n",
    "where:<br>\n",
    "$\\sigma T_a^4 = \\frac{1}{2}\\sigma T_s^4$\n",
    "\n",
    "therefore:\n",
    "$(1- α)Q = \\frac{1}{2} \\sigma T_s^4$"
   ]
  },
  {
   "cell_type": "markdown",
   "id": "c584e054-eb2e-4dc6-98a9-8ff6dd30419a",
   "metadata": {},
   "source": [
    "Note this is exactly the same as having a $\\tau$ of 0.5 which yields the expected 303K:"
   ]
  },
  {
   "cell_type": "code",
   "execution_count": 9,
   "id": "607362e4-4a16-4b43-85cf-0725b04139d2",
   "metadata": {},
   "outputs": [
    {
     "name": "stdout",
     "output_type": "stream",
     "text": [
      "Equilibrium surface temperature T=303.36K\n",
      "303.36K = 30.21 degrees C\n"
     ]
    }
   ],
   "source": [
    "T = equilibrium_temperature(ASR(α, S), 0.5, σ)\n",
    "print(f\"Equilibrium surface temperature T={round(T,2)}K\")\n",
    "print(f\"{round(T,2)}K = {round(kelvin_to_celsius(T),2)} degrees C\")"
   ]
  },
  {
   "cell_type": "markdown",
   "id": "904beb0a-97b2-4a17-b5e5-0945c1699d3a",
   "metadata": {},
   "source": [
    "We have now overshot by some 15 $^o$C.  The reasons why are because our assumptions were not valid:\n",
    "* The atmosphere absorbs some solar radiation.\n",
    "* The atmosphere is NOT a perfect absorber of longwave radiation\n",
    "* Absorption and emission varies strongly with wavelength and the atmosphere does not behave like a blackbody.\n",
    "* Emissions are not determined by a single temperature T$_a$ but by the detailed vertical profile of air temperture.\n",
    "* Energy is redistributed in the vertical by a variety of dynamical transport mechanisms (e.g. convection and boundary layer turbulence)."
   ]
  },
  {
   "cell_type": "markdown",
   "id": "83e4636a-4876-4314-bb53-6bbfcb5a4d5e",
   "metadata": {},
   "source": [
    "Lots of refinements are possible to a zero-dimensional EBM to model for dynamic change through feedback.  See [this lecture](https://florianboergel.github.io/climateoftheocean/2020-11-11-energy-model.html) for more detail on ways to do this."
   ]
  },
  {
   "cell_type": "markdown",
   "id": "2edbbc55-7412-43d6-ac5b-c42e851854a6",
   "metadata": {},
   "source": [
    "### 3. Radiative Forcing"
   ]
  },
  {
   "cell_type": "code",
   "execution_count": null,
   "id": "020fe9be-49ce-4485-92e3-c3c48285f943",
   "metadata": {},
   "outputs": [],
   "source": []
  }
 ],
 "metadata": {
  "kernelspec": {
   "display_name": "Python 3 (ipykernel)",
   "language": "python",
   "name": "python3"
  },
  "language_info": {
   "codemirror_mode": {
    "name": "ipython",
    "version": 3
   },
   "file_extension": ".py",
   "mimetype": "text/x-python",
   "name": "python",
   "nbconvert_exporter": "python",
   "pygments_lexer": "ipython3",
   "version": "3.11.9"
  }
 },
 "nbformat": 4,
 "nbformat_minor": 5
}
